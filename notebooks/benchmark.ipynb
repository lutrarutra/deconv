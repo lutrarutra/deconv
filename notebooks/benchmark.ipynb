{
 "cells": [
  {
   "cell_type": "code",
   "execution_count": 1,
   "metadata": {},
   "outputs": [],
   "source": [
    "import pandas as pd\n",
    "import numpy as np\n",
    "import ast\n",
    "\n",
    "import plotly.express as px\n",
    "import plotly.graph_objects as go\n",
    "import matplotlib.pyplot as plt"
   ]
  },
  {
   "cell_type": "code",
   "execution_count": null,
   "metadata": {},
   "outputs": [],
   "source": [
    "adata"
   ]
  },
  {
   "cell_type": "code",
   "execution_count": 6,
   "metadata": {},
   "outputs": [
    {
     "data": {
      "text/html": [
       "<div>\n",
       "<style scoped>\n",
       "    .dataframe tbody tr th:only-of-type {\n",
       "        vertical-align: middle;\n",
       "    }\n",
       "\n",
       "    .dataframe tbody tr th {\n",
       "        vertical-align: top;\n",
       "    }\n",
       "\n",
       "    .dataframe thead th {\n",
       "        text-align: right;\n",
       "    }\n",
       "</style>\n",
       "<table border=\"1\" class=\"dataframe\">\n",
       "  <thead>\n",
       "    <tr style=\"text-align: right;\">\n",
       "      <th></th>\n",
       "      <th>r</th>\n",
       "      <th>rmse</th>\n",
       "      <th>proportions</th>\n",
       "      <th>exclude_highly_expressed</th>\n",
       "      <th>layer</th>\n",
       "      <th>use_sub_type</th>\n",
       "      <th>weight_type</th>\n",
       "      <th>weight_agg</th>\n",
       "      <th>weight_quantiles</th>\n",
       "      <th>dropout_factor_quantile</th>\n",
       "      <th>pseudobulk_lims</th>\n",
       "      <th>signature_quantiles</th>\n",
       "      <th>weight_quantiles_min</th>\n",
       "      <th>weight_quantiles_max</th>\n",
       "      <th>pseudobulk_lims_min</th>\n",
       "      <th>pseudobulk_lims_max</th>\n",
       "      <th>signature_quantiles_min</th>\n",
       "      <th>signature_quantiles_max</th>\n",
       "    </tr>\n",
       "  </thead>\n",
       "  <tbody>\n",
       "    <tr>\n",
       "      <th>0</th>\n",
       "      <td>0.99870</td>\n",
       "      <td>0.02254</td>\n",
       "      <td>[0.615, 0.284, 0.101]</td>\n",
       "      <td>False</td>\n",
       "      <td>counts</td>\n",
       "      <td>False</td>\n",
       "      <td>abs_score</td>\n",
       "      <td>min</td>\n",
       "      <td>(0.1, 1)</td>\n",
       "      <td>0.900</td>\n",
       "      <td>(-10, 10)</td>\n",
       "      <td>(0, 1)</td>\n",
       "      <td>0.1</td>\n",
       "      <td>1.000</td>\n",
       "      <td>-10.0</td>\n",
       "      <td>10.0</td>\n",
       "      <td>0.0</td>\n",
       "      <td>1.0</td>\n",
       "    </tr>\n",
       "    <tr>\n",
       "      <th>1</th>\n",
       "      <td>0.99870</td>\n",
       "      <td>0.02254</td>\n",
       "      <td>[0.615, 0.284, 0.101]</td>\n",
       "      <td>True</td>\n",
       "      <td>counts</td>\n",
       "      <td>False</td>\n",
       "      <td>abs_score</td>\n",
       "      <td>min</td>\n",
       "      <td>(0.1, 1)</td>\n",
       "      <td>0.900</td>\n",
       "      <td>(None, None)</td>\n",
       "      <td>(0, 0.9)</td>\n",
       "      <td>0.1</td>\n",
       "      <td>1.000</td>\n",
       "      <td>NaN</td>\n",
       "      <td>NaN</td>\n",
       "      <td>0.0</td>\n",
       "      <td>0.9</td>\n",
       "    </tr>\n",
       "    <tr>\n",
       "      <th>2</th>\n",
       "      <td>0.99870</td>\n",
       "      <td>0.02254</td>\n",
       "      <td>[0.615, 0.284, 0.101]</td>\n",
       "      <td>True</td>\n",
       "      <td>counts</td>\n",
       "      <td>False</td>\n",
       "      <td>abs_score</td>\n",
       "      <td>min</td>\n",
       "      <td>(0.1, 1)</td>\n",
       "      <td>0.900</td>\n",
       "      <td>(-10, 10)</td>\n",
       "      <td>(0, 0.9)</td>\n",
       "      <td>0.1</td>\n",
       "      <td>1.000</td>\n",
       "      <td>-10.0</td>\n",
       "      <td>10.0</td>\n",
       "      <td>0.0</td>\n",
       "      <td>0.9</td>\n",
       "    </tr>\n",
       "    <tr>\n",
       "      <th>3</th>\n",
       "      <td>0.99870</td>\n",
       "      <td>0.02254</td>\n",
       "      <td>[0.615, 0.284, 0.101]</td>\n",
       "      <td>True</td>\n",
       "      <td>counts</td>\n",
       "      <td>False</td>\n",
       "      <td>abs_score</td>\n",
       "      <td>min</td>\n",
       "      <td>(0.1, 1)</td>\n",
       "      <td>0.900</td>\n",
       "      <td>(None, None)</td>\n",
       "      <td>(0.1, 0.5)</td>\n",
       "      <td>0.1</td>\n",
       "      <td>1.000</td>\n",
       "      <td>NaN</td>\n",
       "      <td>NaN</td>\n",
       "      <td>0.1</td>\n",
       "      <td>0.5</td>\n",
       "    </tr>\n",
       "    <tr>\n",
       "      <th>4</th>\n",
       "      <td>0.99870</td>\n",
       "      <td>0.02254</td>\n",
       "      <td>[0.615, 0.284, 0.101]</td>\n",
       "      <td>False</td>\n",
       "      <td>counts</td>\n",
       "      <td>False</td>\n",
       "      <td>abs_score</td>\n",
       "      <td>min</td>\n",
       "      <td>(0.1, 1)</td>\n",
       "      <td>0.900</td>\n",
       "      <td>(None, None)</td>\n",
       "      <td>(0, 0.2)</td>\n",
       "      <td>0.1</td>\n",
       "      <td>1.000</td>\n",
       "      <td>NaN</td>\n",
       "      <td>NaN</td>\n",
       "      <td>0.0</td>\n",
       "      <td>0.2</td>\n",
       "    </tr>\n",
       "    <tr>\n",
       "      <th>...</th>\n",
       "      <td>...</td>\n",
       "      <td>...</td>\n",
       "      <td>...</td>\n",
       "      <td>...</td>\n",
       "      <td>...</td>\n",
       "      <td>...</td>\n",
       "      <td>...</td>\n",
       "      <td>...</td>\n",
       "      <td>...</td>\n",
       "      <td>...</td>\n",
       "      <td>...</td>\n",
       "      <td>...</td>\n",
       "      <td>...</td>\n",
       "      <td>...</td>\n",
       "      <td>...</td>\n",
       "      <td>...</td>\n",
       "      <td>...</td>\n",
       "      <td>...</td>\n",
       "    </tr>\n",
       "    <tr>\n",
       "      <th>32395</th>\n",
       "      <td>-0.76906</td>\n",
       "      <td>0.61081</td>\n",
       "      <td>[0.225, 0.202, 0.572]</td>\n",
       "      <td>False</td>\n",
       "      <td>counts</td>\n",
       "      <td>False</td>\n",
       "      <td>gene_score</td>\n",
       "      <td>min</td>\n",
       "      <td>(0, 0.975)</td>\n",
       "      <td>0.999</td>\n",
       "      <td>(None, None)</td>\n",
       "      <td>(0, 1)</td>\n",
       "      <td>0.0</td>\n",
       "      <td>0.975</td>\n",
       "      <td>NaN</td>\n",
       "      <td>NaN</td>\n",
       "      <td>0.0</td>\n",
       "      <td>1.0</td>\n",
       "    </tr>\n",
       "    <tr>\n",
       "      <th>32396</th>\n",
       "      <td>-0.76906</td>\n",
       "      <td>0.61081</td>\n",
       "      <td>[0.225, 0.202, 0.572]</td>\n",
       "      <td>True</td>\n",
       "      <td>counts</td>\n",
       "      <td>False</td>\n",
       "      <td>gene_score</td>\n",
       "      <td>min</td>\n",
       "      <td>(0, 0.95)</td>\n",
       "      <td>0.999</td>\n",
       "      <td>(None, None)</td>\n",
       "      <td>(0, 0.9)</td>\n",
       "      <td>0.0</td>\n",
       "      <td>0.950</td>\n",
       "      <td>NaN</td>\n",
       "      <td>NaN</td>\n",
       "      <td>0.0</td>\n",
       "      <td>0.9</td>\n",
       "    </tr>\n",
       "    <tr>\n",
       "      <th>32397</th>\n",
       "      <td>-0.76906</td>\n",
       "      <td>0.61081</td>\n",
       "      <td>[0.225, 0.202, 0.572]</td>\n",
       "      <td>False</td>\n",
       "      <td>counts</td>\n",
       "      <td>False</td>\n",
       "      <td>gene_score</td>\n",
       "      <td>min</td>\n",
       "      <td>(0, 1)</td>\n",
       "      <td>0.999</td>\n",
       "      <td>(None, None)</td>\n",
       "      <td>(0, 0.3)</td>\n",
       "      <td>0.0</td>\n",
       "      <td>1.000</td>\n",
       "      <td>NaN</td>\n",
       "      <td>NaN</td>\n",
       "      <td>0.0</td>\n",
       "      <td>0.3</td>\n",
       "    </tr>\n",
       "    <tr>\n",
       "      <th>32398</th>\n",
       "      <td>-0.76906</td>\n",
       "      <td>0.61081</td>\n",
       "      <td>[0.225, 0.202, 0.572]</td>\n",
       "      <td>False</td>\n",
       "      <td>counts</td>\n",
       "      <td>False</td>\n",
       "      <td>gene_score</td>\n",
       "      <td>min</td>\n",
       "      <td>(0, 0.95)</td>\n",
       "      <td>0.999</td>\n",
       "      <td>(None, None)</td>\n",
       "      <td>(0, 0.3)</td>\n",
       "      <td>0.0</td>\n",
       "      <td>0.950</td>\n",
       "      <td>NaN</td>\n",
       "      <td>NaN</td>\n",
       "      <td>0.0</td>\n",
       "      <td>0.3</td>\n",
       "    </tr>\n",
       "    <tr>\n",
       "      <th>32399</th>\n",
       "      <td>-0.76906</td>\n",
       "      <td>0.61081</td>\n",
       "      <td>[0.225, 0.202, 0.572]</td>\n",
       "      <td>True</td>\n",
       "      <td>counts</td>\n",
       "      <td>False</td>\n",
       "      <td>gene_score</td>\n",
       "      <td>min</td>\n",
       "      <td>(0, 0.975)</td>\n",
       "      <td>0.999</td>\n",
       "      <td>(None, None)</td>\n",
       "      <td>(0.1, 0.5)</td>\n",
       "      <td>0.0</td>\n",
       "      <td>0.975</td>\n",
       "      <td>NaN</td>\n",
       "      <td>NaN</td>\n",
       "      <td>0.1</td>\n",
       "      <td>0.5</td>\n",
       "    </tr>\n",
       "  </tbody>\n",
       "</table>\n",
       "<p>16200 rows × 18 columns</p>\n",
       "</div>"
      ],
      "text/plain": [
       "             r     rmse            proportions  exclude_highly_expressed  \\\n",
       "0      0.99870  0.02254  [0.615, 0.284, 0.101]                     False   \n",
       "1      0.99870  0.02254  [0.615, 0.284, 0.101]                      True   \n",
       "2      0.99870  0.02254  [0.615, 0.284, 0.101]                      True   \n",
       "3      0.99870  0.02254  [0.615, 0.284, 0.101]                      True   \n",
       "4      0.99870  0.02254  [0.615, 0.284, 0.101]                     False   \n",
       "...        ...      ...                    ...                       ...   \n",
       "32395 -0.76906  0.61081  [0.225, 0.202, 0.572]                     False   \n",
       "32396 -0.76906  0.61081  [0.225, 0.202, 0.572]                      True   \n",
       "32397 -0.76906  0.61081  [0.225, 0.202, 0.572]                     False   \n",
       "32398 -0.76906  0.61081  [0.225, 0.202, 0.572]                     False   \n",
       "32399 -0.76906  0.61081  [0.225, 0.202, 0.572]                      True   \n",
       "\n",
       "        layer  use_sub_type weight_type weight_agg weight_quantiles  \\\n",
       "0      counts         False   abs_score        min         (0.1, 1)   \n",
       "1      counts         False   abs_score        min         (0.1, 1)   \n",
       "2      counts         False   abs_score        min         (0.1, 1)   \n",
       "3      counts         False   abs_score        min         (0.1, 1)   \n",
       "4      counts         False   abs_score        min         (0.1, 1)   \n",
       "...       ...           ...         ...        ...              ...   \n",
       "32395  counts         False  gene_score        min       (0, 0.975)   \n",
       "32396  counts         False  gene_score        min        (0, 0.95)   \n",
       "32397  counts         False  gene_score        min           (0, 1)   \n",
       "32398  counts         False  gene_score        min        (0, 0.95)   \n",
       "32399  counts         False  gene_score        min       (0, 0.975)   \n",
       "\n",
       "       dropout_factor_quantile pseudobulk_lims signature_quantiles  \\\n",
       "0                        0.900       (-10, 10)              (0, 1)   \n",
       "1                        0.900    (None, None)            (0, 0.9)   \n",
       "2                        0.900       (-10, 10)            (0, 0.9)   \n",
       "3                        0.900    (None, None)          (0.1, 0.5)   \n",
       "4                        0.900    (None, None)            (0, 0.2)   \n",
       "...                        ...             ...                 ...   \n",
       "32395                    0.999    (None, None)              (0, 1)   \n",
       "32396                    0.999    (None, None)            (0, 0.9)   \n",
       "32397                    0.999    (None, None)            (0, 0.3)   \n",
       "32398                    0.999    (None, None)            (0, 0.3)   \n",
       "32399                    0.999    (None, None)          (0.1, 0.5)   \n",
       "\n",
       "       weight_quantiles_min  weight_quantiles_max  pseudobulk_lims_min  \\\n",
       "0                       0.1                 1.000                -10.0   \n",
       "1                       0.1                 1.000                  NaN   \n",
       "2                       0.1                 1.000                -10.0   \n",
       "3                       0.1                 1.000                  NaN   \n",
       "4                       0.1                 1.000                  NaN   \n",
       "...                     ...                   ...                  ...   \n",
       "32395                   0.0                 0.975                  NaN   \n",
       "32396                   0.0                 0.950                  NaN   \n",
       "32397                   0.0                 1.000                  NaN   \n",
       "32398                   0.0                 0.950                  NaN   \n",
       "32399                   0.0                 0.975                  NaN   \n",
       "\n",
       "       pseudobulk_lims_max  signature_quantiles_min  signature_quantiles_max  \n",
       "0                     10.0                      0.0                      1.0  \n",
       "1                      NaN                      0.0                      0.9  \n",
       "2                     10.0                      0.0                      0.9  \n",
       "3                      NaN                      0.1                      0.5  \n",
       "4                      NaN                      0.0                      0.2  \n",
       "...                    ...                      ...                      ...  \n",
       "32395                  NaN                      0.0                      1.0  \n",
       "32396                  NaN                      0.0                      0.9  \n",
       "32397                  NaN                      0.0                      0.3  \n",
       "32398                  NaN                      0.0                      0.3  \n",
       "32399                  NaN                      0.1                      0.5  \n",
       "\n",
       "[16200 rows x 18 columns]"
      ]
     },
     "execution_count": 6,
     "metadata": {},
     "output_type": "execute_result"
    }
   ],
   "source": [
    "df = pd.read_csv(\"../data/old_results.csv\", sep=\",\")\n",
    "df[df[\"layer\"] == \"counts\"]"
   ]
  },
  {
   "cell_type": "code",
   "execution_count": 35,
   "metadata": {},
   "outputs": [
    {
     "data": {
      "text/html": [
       "<div>\n",
       "<style scoped>\n",
       "    .dataframe tbody tr th:only-of-type {\n",
       "        vertical-align: middle;\n",
       "    }\n",
       "\n",
       "    .dataframe tbody tr th {\n",
       "        vertical-align: top;\n",
       "    }\n",
       "\n",
       "    .dataframe thead th {\n",
       "        text-align: right;\n",
       "    }\n",
       "</style>\n",
       "<table border=\"1\" class=\"dataframe\">\n",
       "  <thead>\n",
       "    <tr style=\"text-align: right;\">\n",
       "      <th></th>\n",
       "      <th>rmse</th>\n",
       "      <th>layer</th>\n",
       "      <th>dropout_factor_quantile</th>\n",
       "      <th>p0</th>\n",
       "      <th>p1</th>\n",
       "      <th>p2</th>\n",
       "      <th>weight_quantiles_min</th>\n",
       "      <th>weight_quantiles_max</th>\n",
       "      <th>signature_quantiles_min</th>\n",
       "      <th>signature_quantiles_max</th>\n",
       "    </tr>\n",
       "  </thead>\n",
       "  <tbody>\n",
       "    <tr>\n",
       "      <th>159</th>\n",
       "      <td>0.01586</td>\n",
       "      <td>counts</td>\n",
       "      <td>0.900</td>\n",
       "      <td>0.610</td>\n",
       "      <td>0.288</td>\n",
       "      <td>0.101</td>\n",
       "      <td>0.0</td>\n",
       "      <td>1.00</td>\n",
       "      <td>0.0</td>\n",
       "      <td>0.9</td>\n",
       "    </tr>\n",
       "    <tr>\n",
       "      <th>102</th>\n",
       "      <td>0.01586</td>\n",
       "      <td>counts</td>\n",
       "      <td>0.900</td>\n",
       "      <td>0.610</td>\n",
       "      <td>0.288</td>\n",
       "      <td>0.101</td>\n",
       "      <td>0.1</td>\n",
       "      <td>1.00</td>\n",
       "      <td>0.0</td>\n",
       "      <td>0.9</td>\n",
       "    </tr>\n",
       "    <tr>\n",
       "      <th>68</th>\n",
       "      <td>0.01779</td>\n",
       "      <td>counts</td>\n",
       "      <td>0.800</td>\n",
       "      <td>0.613</td>\n",
       "      <td>0.288</td>\n",
       "      <td>0.098</td>\n",
       "      <td>0.1</td>\n",
       "      <td>1.00</td>\n",
       "      <td>0.0</td>\n",
       "      <td>0.9</td>\n",
       "    </tr>\n",
       "    <tr>\n",
       "      <th>225</th>\n",
       "      <td>0.01779</td>\n",
       "      <td>counts</td>\n",
       "      <td>0.800</td>\n",
       "      <td>0.613</td>\n",
       "      <td>0.288</td>\n",
       "      <td>0.098</td>\n",
       "      <td>0.0</td>\n",
       "      <td>1.00</td>\n",
       "      <td>0.0</td>\n",
       "      <td>0.9</td>\n",
       "    </tr>\n",
       "    <tr>\n",
       "      <th>214</th>\n",
       "      <td>0.01849</td>\n",
       "      <td>counts</td>\n",
       "      <td>0.950</td>\n",
       "      <td>0.607</td>\n",
       "      <td>0.285</td>\n",
       "      <td>0.108</td>\n",
       "      <td>0.0</td>\n",
       "      <td>1.00</td>\n",
       "      <td>0.0</td>\n",
       "      <td>0.9</td>\n",
       "    </tr>\n",
       "    <tr>\n",
       "      <th>...</th>\n",
       "      <td>...</td>\n",
       "      <td>...</td>\n",
       "      <td>...</td>\n",
       "      <td>...</td>\n",
       "      <td>...</td>\n",
       "      <td>...</td>\n",
       "      <td>...</td>\n",
       "      <td>...</td>\n",
       "      <td>...</td>\n",
       "      <td>...</td>\n",
       "    </tr>\n",
       "    <tr>\n",
       "      <th>122</th>\n",
       "      <td>0.33688</td>\n",
       "      <td>counts</td>\n",
       "      <td>0.700</td>\n",
       "      <td>0.515</td>\n",
       "      <td>0.116</td>\n",
       "      <td>0.369</td>\n",
       "      <td>0.0</td>\n",
       "      <td>0.95</td>\n",
       "      <td>0.0</td>\n",
       "      <td>1.0</td>\n",
       "    </tr>\n",
       "    <tr>\n",
       "      <th>231</th>\n",
       "      <td>0.33839</td>\n",
       "      <td>counts</td>\n",
       "      <td>1.000</td>\n",
       "      <td>0.501</td>\n",
       "      <td>0.126</td>\n",
       "      <td>0.373</td>\n",
       "      <td>0.0</td>\n",
       "      <td>0.95</td>\n",
       "      <td>0.0</td>\n",
       "      <td>1.0</td>\n",
       "    </tr>\n",
       "    <tr>\n",
       "      <th>185</th>\n",
       "      <td>0.33841</td>\n",
       "      <td>counts</td>\n",
       "      <td>0.950</td>\n",
       "      <td>0.506</td>\n",
       "      <td>0.122</td>\n",
       "      <td>0.372</td>\n",
       "      <td>0.0</td>\n",
       "      <td>0.95</td>\n",
       "      <td>0.0</td>\n",
       "      <td>1.0</td>\n",
       "    </tr>\n",
       "    <tr>\n",
       "      <th>24</th>\n",
       "      <td>0.34037</td>\n",
       "      <td>counts</td>\n",
       "      <td>0.990</td>\n",
       "      <td>0.502</td>\n",
       "      <td>0.123</td>\n",
       "      <td>0.374</td>\n",
       "      <td>0.0</td>\n",
       "      <td>0.95</td>\n",
       "      <td>0.0</td>\n",
       "      <td>1.0</td>\n",
       "    </tr>\n",
       "    <tr>\n",
       "      <th>95</th>\n",
       "      <td>0.34302</td>\n",
       "      <td>counts</td>\n",
       "      <td>0.975</td>\n",
       "      <td>0.501</td>\n",
       "      <td>0.123</td>\n",
       "      <td>0.376</td>\n",
       "      <td>0.0</td>\n",
       "      <td>0.95</td>\n",
       "      <td>0.0</td>\n",
       "      <td>1.0</td>\n",
       "    </tr>\n",
       "  </tbody>\n",
       "</table>\n",
       "<p>280 rows × 10 columns</p>\n",
       "</div>"
      ],
      "text/plain": [
       "        rmse   layer  dropout_factor_quantile     p0     p1     p2  \\\n",
       "159  0.01586  counts                    0.900  0.610  0.288  0.101   \n",
       "102  0.01586  counts                    0.900  0.610  0.288  0.101   \n",
       "68   0.01779  counts                    0.800  0.613  0.288  0.098   \n",
       "225  0.01779  counts                    0.800  0.613  0.288  0.098   \n",
       "214  0.01849  counts                    0.950  0.607  0.285  0.108   \n",
       "..       ...     ...                      ...    ...    ...    ...   \n",
       "122  0.33688  counts                    0.700  0.515  0.116  0.369   \n",
       "231  0.33839  counts                    1.000  0.501  0.126  0.373   \n",
       "185  0.33841  counts                    0.950  0.506  0.122  0.372   \n",
       "24   0.34037  counts                    0.990  0.502  0.123  0.374   \n",
       "95   0.34302  counts                    0.975  0.501  0.123  0.376   \n",
       "\n",
       "     weight_quantiles_min  weight_quantiles_max  signature_quantiles_min  \\\n",
       "159                   0.0                  1.00                      0.0   \n",
       "102                   0.1                  1.00                      0.0   \n",
       "68                    0.1                  1.00                      0.0   \n",
       "225                   0.0                  1.00                      0.0   \n",
       "214                   0.0                  1.00                      0.0   \n",
       "..                    ...                   ...                      ...   \n",
       "122                   0.0                  0.95                      0.0   \n",
       "231                   0.0                  0.95                      0.0   \n",
       "185                   0.0                  0.95                      0.0   \n",
       "24                    0.0                  0.95                      0.0   \n",
       "95                    0.0                  0.95                      0.0   \n",
       "\n",
       "     signature_quantiles_max  \n",
       "159                      0.9  \n",
       "102                      0.9  \n",
       "68                       0.9  \n",
       "225                      0.9  \n",
       "214                      0.9  \n",
       "..                       ...  \n",
       "122                      1.0  \n",
       "231                      1.0  \n",
       "185                      1.0  \n",
       "24                       1.0  \n",
       "95                       1.0  \n",
       "\n",
       "[280 rows x 10 columns]"
      ]
     },
     "execution_count": 35,
     "metadata": {},
     "output_type": "execute_result"
    }
   ],
   "source": [
    "# df = pd.read_csv(\"../../results.txt\", sep=\"\\t\").sort_values(\"rmse\")\n",
    "# df[[\"p0\", \"p1\", \"p2\"]] = df[\"proportions\"].str.split(\" \", expand=True).apply(lambda x: [float(i) for i in x])\n",
    "# df[[\"weight_quantiles_min\", \"weight_quantiles_max\"]] = df[\"weight_quantiles\"].str[1:-1].str.split(\",\", expand=True).apply(lambda x: [float(i) for i in x])\n",
    "# df[[\"signature_quantiles_min\", \"signature_quantiles_max\"]] = df[\"signature_quantiles\"].str[1:-1].str.split(\",\", expand=True).apply(lambda x: [float(i) for i in x])\n",
    "# df.drop(\n",
    "#     columns=[\n",
    "#         \"proportions\", \"weight_quantiles\", \"pseudobulk_lims\", \"signature_quantiles\",\n",
    "#         \"weight_agg\", \"use_sub_type\", \"weight_type\", \"exclude_highly_expressed\"\n",
    "#     ], inplace=True\n",
    "# )\n",
    "# df"
   ]
  },
  {
   "cell_type": "code",
   "execution_count": 37,
   "metadata": {},
   "outputs": [
    {
     "data": {
      "application/vnd.plotly.v1+json": {
       "config": {
        "plotlyServerURL": "https://plot.ly"
       },
       "data": [
        {
         "alignmentgroup": "True",
         "bingroup": "x",
         "hovertemplate": "layer=counts<br>rmse=%{x}<br>count=%{y}<extra></extra>",
         "legendgroup": "counts",
         "marker": {
          "color": "#636efa",
          "pattern": {
           "shape": ""
          }
         },
         "name": "counts",
         "nbinsx": 10,
         "offsetgroup": "counts",
         "orientation": "v",
         "showlegend": true,
         "type": "histogram",
         "x": [
          0.01586,
          0.01586,
          0.01779,
          0.01779,
          0.01849,
          0.01849,
          0.01924,
          0.01924,
          0.01995,
          0.01995,
          0.02078,
          0.02078,
          0.02181,
          0.02181,
          0.02228,
          0.02228,
          0.02229,
          0.02229,
          0.02287,
          0.02287,
          0.02376,
          0.02376,
          0.02437,
          0.02437,
          0.02475,
          0.02475,
          0.02548,
          0.02548,
          0.03692,
          0.03692,
          0.03707,
          0.03707,
          0.03713,
          0.03713,
          0.0375,
          0.0375,
          0.03754,
          0.03754,
          0.03844,
          0.03844,
          0.03851,
          0.03851,
          0.04302,
          0.04302,
          0.04343,
          0.04343,
          0.04375,
          0.04375,
          0.04375,
          0.04375,
          0.04409,
          0.04409,
          0.04542,
          0.04542,
          0.04573,
          0.04573,
          0.07814,
          0.07927,
          0.08066,
          0.08489,
          0.08618,
          0.08693,
          0.08731,
          0.08911,
          0.09063,
          0.09142,
          0.09379,
          0.09634,
          0.09765,
          0.09867,
          0.10633,
          0.10824,
          0.11151,
          0.11946,
          0.1203,
          0.12151,
          0.12424,
          0.12429,
          0.12558,
          0.12635,
          0.13306,
          0.13744,
          0.13843,
          0.1389,
          0.13939,
          0.14106,
          0.14478,
          0.15489,
          0.16022,
          0.16031,
          0.16166,
          0.16229,
          0.16438,
          0.16759,
          0.17256,
          0.17274,
          0.17319,
          0.17731,
          0.17832,
          0.17913,
          0.17957,
          0.18117,
          0.18244,
          0.18294,
          0.1839,
          0.19204,
          0.19233,
          0.19381,
          0.19767,
          0.19962,
          0.19965,
          0.20106,
          0.22724,
          0.22808,
          0.22825,
          0.23603,
          0.23678,
          0.23884,
          0.23922,
          0.25533,
          0.25556,
          0.2577,
          0.263,
          0.26558,
          0.26686,
          0.26702,
          0.2951,
          0.29553,
          0.29798,
          0.3013,
          0.30376,
          0.30481,
          0.307,
          0.33066,
          0.33168,
          0.33688,
          0.33839,
          0.33841,
          0.34037,
          0.34302
         ],
         "xaxis": "x",
         "yaxis": "y"
        },
        {
         "alignmentgroup": "True",
         "bingroup": "x",
         "hovertemplate": "layer=ncounts<br>rmse=%{x}<br>count=%{y}<extra></extra>",
         "legendgroup": "ncounts",
         "marker": {
          "color": "#EF553B",
          "pattern": {
           "shape": ""
          }
         },
         "name": "ncounts",
         "nbinsx": 10,
         "offsetgroup": "ncounts",
         "orientation": "v",
         "showlegend": true,
         "type": "histogram",
         "x": [
          0.03946,
          0.03946,
          0.04022,
          0.04022,
          0.04095,
          0.04095,
          0.04164,
          0.04164,
          0.04167,
          0.04167,
          0.04334,
          0.04334,
          0.04386,
          0.04386,
          0.04609,
          0.04609,
          0.04713,
          0.04713,
          0.04897,
          0.04897,
          0.05017,
          0.05017,
          0.05031,
          0.05031,
          0.05081,
          0.05081,
          0.05117,
          0.05117,
          0.05126,
          0.05126,
          0.05257,
          0.05257,
          0.05331,
          0.05331,
          0.05437,
          0.05437,
          0.05629,
          0.05629,
          0.05836,
          0.05836,
          0.05931,
          0.05931,
          0.06428,
          0.06428,
          0.06503,
          0.06503,
          0.06737,
          0.06737,
          0.06842,
          0.06851,
          0.0687,
          0.06896,
          0.06896,
          0.07266,
          0.07311,
          0.07311,
          0.07403,
          0.07407,
          0.07407,
          0.07411,
          0.07473,
          0.07473,
          0.07584,
          0.07618,
          0.07742,
          0.07758,
          0.07812,
          0.07839,
          0.07853,
          0.07854,
          0.0787,
          0.07877,
          0.07948,
          0.07955,
          0.08011,
          0.08034,
          0.08045,
          0.08929,
          0.08963,
          0.09037,
          0.091,
          0.09103,
          0.09212,
          0.09269,
          0.09302,
          0.09392,
          0.09489,
          0.09588,
          0.09651,
          0.09854,
          0.0996,
          0.10529,
          0.10621,
          0.107,
          0.10816,
          0.10888,
          0.11093,
          0.11177,
          0.11699,
          0.11941,
          0.11999,
          0.12123,
          0.12149,
          0.12173,
          0.12177,
          0.12212,
          0.12418,
          0.1242,
          0.12428,
          0.12444,
          0.1246,
          0.12483,
          0.12509,
          0.1262,
          0.12663,
          0.12701,
          0.1273,
          0.12899,
          0.13171,
          0.13174,
          0.1324,
          0.13418,
          0.13436,
          0.13484,
          0.13488,
          0.13813,
          0.1407,
          0.14193,
          0.14231,
          0.1453,
          0.1456,
          0.14585,
          0.14623,
          0.15959,
          0.16192,
          0.16227,
          0.16485,
          0.16514,
          0.16633,
          0.16801
         ],
         "xaxis": "x",
         "yaxis": "y"
        }
       ],
       "layout": {
        "barmode": "relative",
        "legend": {
         "title": {
          "text": "layer"
         },
         "tracegroupgap": 0
        },
        "margin": {
         "t": 60
        },
        "template": {
         "data": {
          "bar": [
           {
            "error_x": {
             "color": "#2a3f5f"
            },
            "error_y": {
             "color": "#2a3f5f"
            },
            "marker": {
             "line": {
              "color": "#E5ECF6",
              "width": 0.5
             },
             "pattern": {
              "fillmode": "overlay",
              "size": 10,
              "solidity": 0.2
             }
            },
            "type": "bar"
           }
          ],
          "barpolar": [
           {
            "marker": {
             "line": {
              "color": "#E5ECF6",
              "width": 0.5
             },
             "pattern": {
              "fillmode": "overlay",
              "size": 10,
              "solidity": 0.2
             }
            },
            "type": "barpolar"
           }
          ],
          "carpet": [
           {
            "aaxis": {
             "endlinecolor": "#2a3f5f",
             "gridcolor": "white",
             "linecolor": "white",
             "minorgridcolor": "white",
             "startlinecolor": "#2a3f5f"
            },
            "baxis": {
             "endlinecolor": "#2a3f5f",
             "gridcolor": "white",
             "linecolor": "white",
             "minorgridcolor": "white",
             "startlinecolor": "#2a3f5f"
            },
            "type": "carpet"
           }
          ],
          "choropleth": [
           {
            "colorbar": {
             "outlinewidth": 0,
             "ticks": ""
            },
            "type": "choropleth"
           }
          ],
          "contour": [
           {
            "colorbar": {
             "outlinewidth": 0,
             "ticks": ""
            },
            "colorscale": [
             [
              0,
              "#0d0887"
             ],
             [
              0.1111111111111111,
              "#46039f"
             ],
             [
              0.2222222222222222,
              "#7201a8"
             ],
             [
              0.3333333333333333,
              "#9c179e"
             ],
             [
              0.4444444444444444,
              "#bd3786"
             ],
             [
              0.5555555555555556,
              "#d8576b"
             ],
             [
              0.6666666666666666,
              "#ed7953"
             ],
             [
              0.7777777777777778,
              "#fb9f3a"
             ],
             [
              0.8888888888888888,
              "#fdca26"
             ],
             [
              1,
              "#f0f921"
             ]
            ],
            "type": "contour"
           }
          ],
          "contourcarpet": [
           {
            "colorbar": {
             "outlinewidth": 0,
             "ticks": ""
            },
            "type": "contourcarpet"
           }
          ],
          "heatmap": [
           {
            "colorbar": {
             "outlinewidth": 0,
             "ticks": ""
            },
            "colorscale": [
             [
              0,
              "#0d0887"
             ],
             [
              0.1111111111111111,
              "#46039f"
             ],
             [
              0.2222222222222222,
              "#7201a8"
             ],
             [
              0.3333333333333333,
              "#9c179e"
             ],
             [
              0.4444444444444444,
              "#bd3786"
             ],
             [
              0.5555555555555556,
              "#d8576b"
             ],
             [
              0.6666666666666666,
              "#ed7953"
             ],
             [
              0.7777777777777778,
              "#fb9f3a"
             ],
             [
              0.8888888888888888,
              "#fdca26"
             ],
             [
              1,
              "#f0f921"
             ]
            ],
            "type": "heatmap"
           }
          ],
          "heatmapgl": [
           {
            "colorbar": {
             "outlinewidth": 0,
             "ticks": ""
            },
            "colorscale": [
             [
              0,
              "#0d0887"
             ],
             [
              0.1111111111111111,
              "#46039f"
             ],
             [
              0.2222222222222222,
              "#7201a8"
             ],
             [
              0.3333333333333333,
              "#9c179e"
             ],
             [
              0.4444444444444444,
              "#bd3786"
             ],
             [
              0.5555555555555556,
              "#d8576b"
             ],
             [
              0.6666666666666666,
              "#ed7953"
             ],
             [
              0.7777777777777778,
              "#fb9f3a"
             ],
             [
              0.8888888888888888,
              "#fdca26"
             ],
             [
              1,
              "#f0f921"
             ]
            ],
            "type": "heatmapgl"
           }
          ],
          "histogram": [
           {
            "marker": {
             "pattern": {
              "fillmode": "overlay",
              "size": 10,
              "solidity": 0.2
             }
            },
            "type": "histogram"
           }
          ],
          "histogram2d": [
           {
            "colorbar": {
             "outlinewidth": 0,
             "ticks": ""
            },
            "colorscale": [
             [
              0,
              "#0d0887"
             ],
             [
              0.1111111111111111,
              "#46039f"
             ],
             [
              0.2222222222222222,
              "#7201a8"
             ],
             [
              0.3333333333333333,
              "#9c179e"
             ],
             [
              0.4444444444444444,
              "#bd3786"
             ],
             [
              0.5555555555555556,
              "#d8576b"
             ],
             [
              0.6666666666666666,
              "#ed7953"
             ],
             [
              0.7777777777777778,
              "#fb9f3a"
             ],
             [
              0.8888888888888888,
              "#fdca26"
             ],
             [
              1,
              "#f0f921"
             ]
            ],
            "type": "histogram2d"
           }
          ],
          "histogram2dcontour": [
           {
            "colorbar": {
             "outlinewidth": 0,
             "ticks": ""
            },
            "colorscale": [
             [
              0,
              "#0d0887"
             ],
             [
              0.1111111111111111,
              "#46039f"
             ],
             [
              0.2222222222222222,
              "#7201a8"
             ],
             [
              0.3333333333333333,
              "#9c179e"
             ],
             [
              0.4444444444444444,
              "#bd3786"
             ],
             [
              0.5555555555555556,
              "#d8576b"
             ],
             [
              0.6666666666666666,
              "#ed7953"
             ],
             [
              0.7777777777777778,
              "#fb9f3a"
             ],
             [
              0.8888888888888888,
              "#fdca26"
             ],
             [
              1,
              "#f0f921"
             ]
            ],
            "type": "histogram2dcontour"
           }
          ],
          "mesh3d": [
           {
            "colorbar": {
             "outlinewidth": 0,
             "ticks": ""
            },
            "type": "mesh3d"
           }
          ],
          "parcoords": [
           {
            "line": {
             "colorbar": {
              "outlinewidth": 0,
              "ticks": ""
             }
            },
            "type": "parcoords"
           }
          ],
          "pie": [
           {
            "automargin": true,
            "type": "pie"
           }
          ],
          "scatter": [
           {
            "fillpattern": {
             "fillmode": "overlay",
             "size": 10,
             "solidity": 0.2
            },
            "type": "scatter"
           }
          ],
          "scatter3d": [
           {
            "line": {
             "colorbar": {
              "outlinewidth": 0,
              "ticks": ""
             }
            },
            "marker": {
             "colorbar": {
              "outlinewidth": 0,
              "ticks": ""
             }
            },
            "type": "scatter3d"
           }
          ],
          "scattercarpet": [
           {
            "marker": {
             "colorbar": {
              "outlinewidth": 0,
              "ticks": ""
             }
            },
            "type": "scattercarpet"
           }
          ],
          "scattergeo": [
           {
            "marker": {
             "colorbar": {
              "outlinewidth": 0,
              "ticks": ""
             }
            },
            "type": "scattergeo"
           }
          ],
          "scattergl": [
           {
            "marker": {
             "colorbar": {
              "outlinewidth": 0,
              "ticks": ""
             }
            },
            "type": "scattergl"
           }
          ],
          "scattermapbox": [
           {
            "marker": {
             "colorbar": {
              "outlinewidth": 0,
              "ticks": ""
             }
            },
            "type": "scattermapbox"
           }
          ],
          "scatterpolar": [
           {
            "marker": {
             "colorbar": {
              "outlinewidth": 0,
              "ticks": ""
             }
            },
            "type": "scatterpolar"
           }
          ],
          "scatterpolargl": [
           {
            "marker": {
             "colorbar": {
              "outlinewidth": 0,
              "ticks": ""
             }
            },
            "type": "scatterpolargl"
           }
          ],
          "scatterternary": [
           {
            "marker": {
             "colorbar": {
              "outlinewidth": 0,
              "ticks": ""
             }
            },
            "type": "scatterternary"
           }
          ],
          "surface": [
           {
            "colorbar": {
             "outlinewidth": 0,
             "ticks": ""
            },
            "colorscale": [
             [
              0,
              "#0d0887"
             ],
             [
              0.1111111111111111,
              "#46039f"
             ],
             [
              0.2222222222222222,
              "#7201a8"
             ],
             [
              0.3333333333333333,
              "#9c179e"
             ],
             [
              0.4444444444444444,
              "#bd3786"
             ],
             [
              0.5555555555555556,
              "#d8576b"
             ],
             [
              0.6666666666666666,
              "#ed7953"
             ],
             [
              0.7777777777777778,
              "#fb9f3a"
             ],
             [
              0.8888888888888888,
              "#fdca26"
             ],
             [
              1,
              "#f0f921"
             ]
            ],
            "type": "surface"
           }
          ],
          "table": [
           {
            "cells": {
             "fill": {
              "color": "#EBF0F8"
             },
             "line": {
              "color": "white"
             }
            },
            "header": {
             "fill": {
              "color": "#C8D4E3"
             },
             "line": {
              "color": "white"
             }
            },
            "type": "table"
           }
          ]
         },
         "layout": {
          "annotationdefaults": {
           "arrowcolor": "#2a3f5f",
           "arrowhead": 0,
           "arrowwidth": 1
          },
          "autotypenumbers": "strict",
          "coloraxis": {
           "colorbar": {
            "outlinewidth": 0,
            "ticks": ""
           }
          },
          "colorscale": {
           "diverging": [
            [
             0,
             "#8e0152"
            ],
            [
             0.1,
             "#c51b7d"
            ],
            [
             0.2,
             "#de77ae"
            ],
            [
             0.3,
             "#f1b6da"
            ],
            [
             0.4,
             "#fde0ef"
            ],
            [
             0.5,
             "#f7f7f7"
            ],
            [
             0.6,
             "#e6f5d0"
            ],
            [
             0.7,
             "#b8e186"
            ],
            [
             0.8,
             "#7fbc41"
            ],
            [
             0.9,
             "#4d9221"
            ],
            [
             1,
             "#276419"
            ]
           ],
           "sequential": [
            [
             0,
             "#0d0887"
            ],
            [
             0.1111111111111111,
             "#46039f"
            ],
            [
             0.2222222222222222,
             "#7201a8"
            ],
            [
             0.3333333333333333,
             "#9c179e"
            ],
            [
             0.4444444444444444,
             "#bd3786"
            ],
            [
             0.5555555555555556,
             "#d8576b"
            ],
            [
             0.6666666666666666,
             "#ed7953"
            ],
            [
             0.7777777777777778,
             "#fb9f3a"
            ],
            [
             0.8888888888888888,
             "#fdca26"
            ],
            [
             1,
             "#f0f921"
            ]
           ],
           "sequentialminus": [
            [
             0,
             "#0d0887"
            ],
            [
             0.1111111111111111,
             "#46039f"
            ],
            [
             0.2222222222222222,
             "#7201a8"
            ],
            [
             0.3333333333333333,
             "#9c179e"
            ],
            [
             0.4444444444444444,
             "#bd3786"
            ],
            [
             0.5555555555555556,
             "#d8576b"
            ],
            [
             0.6666666666666666,
             "#ed7953"
            ],
            [
             0.7777777777777778,
             "#fb9f3a"
            ],
            [
             0.8888888888888888,
             "#fdca26"
            ],
            [
             1,
             "#f0f921"
            ]
           ]
          },
          "colorway": [
           "#636efa",
           "#EF553B",
           "#00cc96",
           "#ab63fa",
           "#FFA15A",
           "#19d3f3",
           "#FF6692",
           "#B6E880",
           "#FF97FF",
           "#FECB52"
          ],
          "font": {
           "color": "#2a3f5f"
          },
          "geo": {
           "bgcolor": "white",
           "lakecolor": "white",
           "landcolor": "#E5ECF6",
           "showlakes": true,
           "showland": true,
           "subunitcolor": "white"
          },
          "hoverlabel": {
           "align": "left"
          },
          "hovermode": "closest",
          "mapbox": {
           "style": "light"
          },
          "paper_bgcolor": "white",
          "plot_bgcolor": "#E5ECF6",
          "polar": {
           "angularaxis": {
            "gridcolor": "white",
            "linecolor": "white",
            "ticks": ""
           },
           "bgcolor": "#E5ECF6",
           "radialaxis": {
            "gridcolor": "white",
            "linecolor": "white",
            "ticks": ""
           }
          },
          "scene": {
           "xaxis": {
            "backgroundcolor": "#E5ECF6",
            "gridcolor": "white",
            "gridwidth": 2,
            "linecolor": "white",
            "showbackground": true,
            "ticks": "",
            "zerolinecolor": "white"
           },
           "yaxis": {
            "backgroundcolor": "#E5ECF6",
            "gridcolor": "white",
            "gridwidth": 2,
            "linecolor": "white",
            "showbackground": true,
            "ticks": "",
            "zerolinecolor": "white"
           },
           "zaxis": {
            "backgroundcolor": "#E5ECF6",
            "gridcolor": "white",
            "gridwidth": 2,
            "linecolor": "white",
            "showbackground": true,
            "ticks": "",
            "zerolinecolor": "white"
           }
          },
          "shapedefaults": {
           "line": {
            "color": "#2a3f5f"
           }
          },
          "ternary": {
           "aaxis": {
            "gridcolor": "white",
            "linecolor": "white",
            "ticks": ""
           },
           "baxis": {
            "gridcolor": "white",
            "linecolor": "white",
            "ticks": ""
           },
           "bgcolor": "#E5ECF6",
           "caxis": {
            "gridcolor": "white",
            "linecolor": "white",
            "ticks": ""
           }
          },
          "title": {
           "x": 0.05
          },
          "xaxis": {
           "automargin": true,
           "gridcolor": "white",
           "linecolor": "white",
           "ticks": "",
           "title": {
            "standoff": 15
           },
           "zerolinecolor": "white",
           "zerolinewidth": 2
          },
          "yaxis": {
           "automargin": true,
           "gridcolor": "white",
           "linecolor": "white",
           "ticks": "",
           "title": {
            "standoff": 15
           },
           "zerolinecolor": "white",
           "zerolinewidth": 2
          }
         }
        },
        "xaxis": {
         "anchor": "y",
         "domain": [
          0,
          1
         ],
         "title": {
          "text": "rmse"
         }
        },
        "yaxis": {
         "anchor": "x",
         "domain": [
          0,
          1
         ],
         "title": {
          "text": "count"
         }
        }
       }
      }
     },
     "metadata": {},
     "output_type": "display_data"
    }
   ],
   "source": [
    "px.histogram(df, x=\"rmse\", nbins=10, color=\"layer\")"
   ]
  },
  {
   "cell_type": "code",
   "execution_count": 44,
   "metadata": {},
   "outputs": [
    {
     "data": {
      "application/vnd.plotly.v1+json": {
       "config": {
        "plotlyServerURL": "https://plot.ly"
       },
       "data": [
        {
         "hovertemplate": "rmse=%{x}<br>dropout_factor_quantile=%{y}<extra></extra>",
         "legendgroup": "",
         "marker": {
          "color": "#636efa",
          "symbol": "circle"
         },
         "mode": "markers",
         "name": "",
         "orientation": "v",
         "showlegend": false,
         "type": "scatter",
         "x": [
          0.01586,
          0.01586,
          0.01779,
          0.01779,
          0.01849,
          0.01849,
          0.01924,
          0.01924,
          0.01995,
          0.01995,
          0.02078,
          0.02078,
          0.02181,
          0.02181,
          0.02228,
          0.02228,
          0.02229,
          0.02229,
          0.02287,
          0.02287,
          0.02376,
          0.02376,
          0.02437,
          0.02437,
          0.02475,
          0.02475,
          0.02548,
          0.02548,
          0.03692,
          0.03692,
          0.03707,
          0.03707,
          0.03713,
          0.03713,
          0.0375,
          0.0375,
          0.03754,
          0.03754,
          0.03844,
          0.03844,
          0.03851,
          0.03851,
          0.03946,
          0.03946,
          0.04022,
          0.04022,
          0.04095,
          0.04095,
          0.04164,
          0.04164,
          0.04167,
          0.04167,
          0.04302,
          0.04302,
          0.04334,
          0.04334,
          0.04343,
          0.04343,
          0.04375,
          0.04375,
          0.04375,
          0.04375,
          0.04386,
          0.04386,
          0.04409,
          0.04409,
          0.04542,
          0.04542,
          0.04573,
          0.04573,
          0.04609,
          0.04609,
          0.04713,
          0.04713,
          0.04897,
          0.04897,
          0.05017,
          0.05017,
          0.05031,
          0.05031,
          0.05081,
          0.05081,
          0.05117,
          0.05117,
          0.05126,
          0.05126,
          0.05257,
          0.05257,
          0.05331,
          0.05331,
          0.05437,
          0.05437,
          0.05629,
          0.05629,
          0.05836,
          0.05836,
          0.05931,
          0.05931,
          0.06428,
          0.06428,
          0.06503,
          0.06503,
          0.06737,
          0.06737,
          0.06842,
          0.06851,
          0.0687,
          0.06896,
          0.06896,
          0.07266,
          0.07311,
          0.07311,
          0.07403,
          0.07407,
          0.07407,
          0.07411,
          0.07473,
          0.07473,
          0.07584,
          0.07618,
          0.07742,
          0.07758,
          0.07812,
          0.07814,
          0.07839,
          0.07853,
          0.07854,
          0.0787,
          0.07877,
          0.07927,
          0.07948,
          0.07955,
          0.08011,
          0.08034,
          0.08045,
          0.08066,
          0.08489,
          0.08618,
          0.08693,
          0.08731,
          0.08911,
          0.08929,
          0.08963,
          0.09037,
          0.09063,
          0.091,
          0.09103,
          0.09142,
          0.09212,
          0.09269,
          0.09302,
          0.09379,
          0.09392,
          0.09489,
          0.09588,
          0.09634,
          0.09651,
          0.09765,
          0.09854,
          0.09867,
          0.0996,
          0.10529,
          0.10621,
          0.10633,
          0.107,
          0.10816,
          0.10824,
          0.10888,
          0.11093,
          0.11151,
          0.11177,
          0.11699,
          0.11941,
          0.11946,
          0.11999,
          0.1203,
          0.12123,
          0.12149,
          0.12151,
          0.12173,
          0.12177,
          0.12212,
          0.12418,
          0.1242,
          0.12424,
          0.12428,
          0.12429,
          0.12444,
          0.1246,
          0.12483,
          0.12509,
          0.12558,
          0.1262,
          0.12635,
          0.12663,
          0.12701,
          0.1273,
          0.12899,
          0.13171,
          0.13174,
          0.1324,
          0.13306,
          0.13418,
          0.13436,
          0.13484,
          0.13488,
          0.13744,
          0.13813,
          0.13843,
          0.1389,
          0.13939,
          0.1407,
          0.14106,
          0.14193,
          0.14231,
          0.14478,
          0.1453,
          0.1456,
          0.14585,
          0.14623,
          0.15489,
          0.15959,
          0.16022,
          0.16031,
          0.16166,
          0.16192,
          0.16227,
          0.16229,
          0.16438,
          0.16485,
          0.16514,
          0.16633,
          0.16759,
          0.16801,
          0.17256,
          0.17274,
          0.17319,
          0.17731,
          0.17832,
          0.17913,
          0.17957,
          0.18117,
          0.18244,
          0.18294,
          0.1839,
          0.19204,
          0.19233,
          0.19381,
          0.19767,
          0.19962,
          0.19965,
          0.20106,
          0.22724,
          0.22808,
          0.22825,
          0.23603,
          0.23678,
          0.23884,
          0.23922,
          0.25533,
          0.25556,
          0.2577,
          0.263,
          0.26558,
          0.26686,
          0.26702,
          0.2951,
          0.29553,
          0.29798,
          0.3013,
          0.30376,
          0.30481,
          0.307,
          0.33066,
          0.33168,
          0.33688,
          0.33839,
          0.33841,
          0.34037,
          0.34302
         ],
         "xaxis": "x",
         "y": [
          0.9,
          0.9,
          0.8,
          0.8,
          0.95,
          0.95,
          0.7,
          0.7,
          0.975,
          0.975,
          0.9,
          0.9,
          0.95,
          0.95,
          0.975,
          0.975,
          0.8,
          0.8,
          1,
          1,
          0.99,
          0.99,
          1,
          1,
          0.7,
          0.7,
          0.99,
          0.99,
          0.8,
          0.8,
          0.95,
          0.95,
          0.99,
          0.99,
          0.7,
          0.7,
          0.9,
          0.9,
          0.975,
          0.975,
          1,
          1,
          1,
          1,
          0.99,
          0.99,
          0.975,
          0.975,
          1,
          1,
          0.99,
          0.99,
          0.8,
          0.8,
          0.95,
          0.95,
          0.7,
          0.7,
          0.9,
          0.9,
          0.95,
          0.95,
          0.975,
          0.975,
          0.99,
          0.99,
          0.975,
          0.975,
          1,
          1,
          0.95,
          0.95,
          0.9,
          0.9,
          0.8,
          0.8,
          1,
          1,
          0.7,
          0.7,
          0.9,
          0.9,
          0.975,
          0.975,
          0.99,
          0.99,
          0.8,
          0.8,
          0.95,
          0.95,
          0.7,
          0.7,
          0.9,
          0.9,
          0.8,
          0.8,
          0.7,
          0.7,
          0.99,
          0.99,
          1,
          1,
          0.975,
          0.975,
          0.7,
          0.9,
          0.8,
          0.95,
          0.95,
          0.95,
          0.9,
          0.9,
          1,
          0.8,
          0.8,
          0.975,
          0.7,
          0.7,
          0.99,
          0.9,
          0.8,
          0.7,
          0.9,
          0.7,
          1,
          1,
          0.975,
          0.975,
          0.95,
          0.8,
          0.95,
          0.8,
          0.7,
          0.99,
          0.99,
          0.9,
          0.7,
          0.8,
          0.95,
          0.9,
          0.975,
          1,
          0.975,
          0.9,
          1,
          0.95,
          0.99,
          0.99,
          0.8,
          0.7,
          1,
          0.95,
          0.975,
          0.99,
          0.95,
          0.975,
          0.9,
          1,
          0.8,
          0.99,
          0.7,
          1,
          0.975,
          0.7,
          0.99,
          0.95,
          0.8,
          0.9,
          0.8,
          0.9,
          0.7,
          1,
          0.975,
          0.7,
          0.99,
          0.95,
          0.9,
          1,
          0.8,
          1,
          0.95,
          0.9,
          0.975,
          0.975,
          0.975,
          0.8,
          0.9,
          0.8,
          0.99,
          0.99,
          0.95,
          1,
          0.9,
          0.99,
          0.95,
          0.7,
          0.7,
          0.8,
          0.9,
          1,
          0.7,
          0.95,
          0.8,
          0.975,
          0.99,
          0.95,
          0.975,
          0.7,
          1,
          0.7,
          0.99,
          0.9,
          0.8,
          1,
          0.8,
          0.9,
          0.99,
          0.95,
          0.7,
          0.975,
          0.95,
          0.9,
          0.975,
          1,
          0.99,
          1,
          0.8,
          0.7,
          0.8,
          0.95,
          0.99,
          0.975,
          0.9,
          0.7,
          0.9,
          0.8,
          0.7,
          0.95,
          0.95,
          1,
          0.975,
          0.99,
          1,
          0.975,
          0.99,
          0.9,
          0.8,
          0.7,
          0.95,
          1,
          0.975,
          0.99,
          0.8,
          0.7,
          0.9,
          0.95,
          1,
          0.975,
          0.99,
          0.8,
          0.9,
          0.7,
          0.95,
          1,
          0.975,
          0.99,
          0.8,
          0.9,
          0.7,
          1,
          0.95,
          0.99,
          0.975,
          0.9,
          0.8,
          0.7,
          1,
          0.95,
          0.99,
          0.975
         ],
         "yaxis": "y"
        }
       ],
       "layout": {
        "legend": {
         "tracegroupgap": 0
        },
        "margin": {
         "t": 60
        },
        "template": {
         "data": {
          "bar": [
           {
            "error_x": {
             "color": "#2a3f5f"
            },
            "error_y": {
             "color": "#2a3f5f"
            },
            "marker": {
             "line": {
              "color": "#E5ECF6",
              "width": 0.5
             },
             "pattern": {
              "fillmode": "overlay",
              "size": 10,
              "solidity": 0.2
             }
            },
            "type": "bar"
           }
          ],
          "barpolar": [
           {
            "marker": {
             "line": {
              "color": "#E5ECF6",
              "width": 0.5
             },
             "pattern": {
              "fillmode": "overlay",
              "size": 10,
              "solidity": 0.2
             }
            },
            "type": "barpolar"
           }
          ],
          "carpet": [
           {
            "aaxis": {
             "endlinecolor": "#2a3f5f",
             "gridcolor": "white",
             "linecolor": "white",
             "minorgridcolor": "white",
             "startlinecolor": "#2a3f5f"
            },
            "baxis": {
             "endlinecolor": "#2a3f5f",
             "gridcolor": "white",
             "linecolor": "white",
             "minorgridcolor": "white",
             "startlinecolor": "#2a3f5f"
            },
            "type": "carpet"
           }
          ],
          "choropleth": [
           {
            "colorbar": {
             "outlinewidth": 0,
             "ticks": ""
            },
            "type": "choropleth"
           }
          ],
          "contour": [
           {
            "colorbar": {
             "outlinewidth": 0,
             "ticks": ""
            },
            "colorscale": [
             [
              0,
              "#0d0887"
             ],
             [
              0.1111111111111111,
              "#46039f"
             ],
             [
              0.2222222222222222,
              "#7201a8"
             ],
             [
              0.3333333333333333,
              "#9c179e"
             ],
             [
              0.4444444444444444,
              "#bd3786"
             ],
             [
              0.5555555555555556,
              "#d8576b"
             ],
             [
              0.6666666666666666,
              "#ed7953"
             ],
             [
              0.7777777777777778,
              "#fb9f3a"
             ],
             [
              0.8888888888888888,
              "#fdca26"
             ],
             [
              1,
              "#f0f921"
             ]
            ],
            "type": "contour"
           }
          ],
          "contourcarpet": [
           {
            "colorbar": {
             "outlinewidth": 0,
             "ticks": ""
            },
            "type": "contourcarpet"
           }
          ],
          "heatmap": [
           {
            "colorbar": {
             "outlinewidth": 0,
             "ticks": ""
            },
            "colorscale": [
             [
              0,
              "#0d0887"
             ],
             [
              0.1111111111111111,
              "#46039f"
             ],
             [
              0.2222222222222222,
              "#7201a8"
             ],
             [
              0.3333333333333333,
              "#9c179e"
             ],
             [
              0.4444444444444444,
              "#bd3786"
             ],
             [
              0.5555555555555556,
              "#d8576b"
             ],
             [
              0.6666666666666666,
              "#ed7953"
             ],
             [
              0.7777777777777778,
              "#fb9f3a"
             ],
             [
              0.8888888888888888,
              "#fdca26"
             ],
             [
              1,
              "#f0f921"
             ]
            ],
            "type": "heatmap"
           }
          ],
          "heatmapgl": [
           {
            "colorbar": {
             "outlinewidth": 0,
             "ticks": ""
            },
            "colorscale": [
             [
              0,
              "#0d0887"
             ],
             [
              0.1111111111111111,
              "#46039f"
             ],
             [
              0.2222222222222222,
              "#7201a8"
             ],
             [
              0.3333333333333333,
              "#9c179e"
             ],
             [
              0.4444444444444444,
              "#bd3786"
             ],
             [
              0.5555555555555556,
              "#d8576b"
             ],
             [
              0.6666666666666666,
              "#ed7953"
             ],
             [
              0.7777777777777778,
              "#fb9f3a"
             ],
             [
              0.8888888888888888,
              "#fdca26"
             ],
             [
              1,
              "#f0f921"
             ]
            ],
            "type": "heatmapgl"
           }
          ],
          "histogram": [
           {
            "marker": {
             "pattern": {
              "fillmode": "overlay",
              "size": 10,
              "solidity": 0.2
             }
            },
            "type": "histogram"
           }
          ],
          "histogram2d": [
           {
            "colorbar": {
             "outlinewidth": 0,
             "ticks": ""
            },
            "colorscale": [
             [
              0,
              "#0d0887"
             ],
             [
              0.1111111111111111,
              "#46039f"
             ],
             [
              0.2222222222222222,
              "#7201a8"
             ],
             [
              0.3333333333333333,
              "#9c179e"
             ],
             [
              0.4444444444444444,
              "#bd3786"
             ],
             [
              0.5555555555555556,
              "#d8576b"
             ],
             [
              0.6666666666666666,
              "#ed7953"
             ],
             [
              0.7777777777777778,
              "#fb9f3a"
             ],
             [
              0.8888888888888888,
              "#fdca26"
             ],
             [
              1,
              "#f0f921"
             ]
            ],
            "type": "histogram2d"
           }
          ],
          "histogram2dcontour": [
           {
            "colorbar": {
             "outlinewidth": 0,
             "ticks": ""
            },
            "colorscale": [
             [
              0,
              "#0d0887"
             ],
             [
              0.1111111111111111,
              "#46039f"
             ],
             [
              0.2222222222222222,
              "#7201a8"
             ],
             [
              0.3333333333333333,
              "#9c179e"
             ],
             [
              0.4444444444444444,
              "#bd3786"
             ],
             [
              0.5555555555555556,
              "#d8576b"
             ],
             [
              0.6666666666666666,
              "#ed7953"
             ],
             [
              0.7777777777777778,
              "#fb9f3a"
             ],
             [
              0.8888888888888888,
              "#fdca26"
             ],
             [
              1,
              "#f0f921"
             ]
            ],
            "type": "histogram2dcontour"
           }
          ],
          "mesh3d": [
           {
            "colorbar": {
             "outlinewidth": 0,
             "ticks": ""
            },
            "type": "mesh3d"
           }
          ],
          "parcoords": [
           {
            "line": {
             "colorbar": {
              "outlinewidth": 0,
              "ticks": ""
             }
            },
            "type": "parcoords"
           }
          ],
          "pie": [
           {
            "automargin": true,
            "type": "pie"
           }
          ],
          "scatter": [
           {
            "fillpattern": {
             "fillmode": "overlay",
             "size": 10,
             "solidity": 0.2
            },
            "type": "scatter"
           }
          ],
          "scatter3d": [
           {
            "line": {
             "colorbar": {
              "outlinewidth": 0,
              "ticks": ""
             }
            },
            "marker": {
             "colorbar": {
              "outlinewidth": 0,
              "ticks": ""
             }
            },
            "type": "scatter3d"
           }
          ],
          "scattercarpet": [
           {
            "marker": {
             "colorbar": {
              "outlinewidth": 0,
              "ticks": ""
             }
            },
            "type": "scattercarpet"
           }
          ],
          "scattergeo": [
           {
            "marker": {
             "colorbar": {
              "outlinewidth": 0,
              "ticks": ""
             }
            },
            "type": "scattergeo"
           }
          ],
          "scattergl": [
           {
            "marker": {
             "colorbar": {
              "outlinewidth": 0,
              "ticks": ""
             }
            },
            "type": "scattergl"
           }
          ],
          "scattermapbox": [
           {
            "marker": {
             "colorbar": {
              "outlinewidth": 0,
              "ticks": ""
             }
            },
            "type": "scattermapbox"
           }
          ],
          "scatterpolar": [
           {
            "marker": {
             "colorbar": {
              "outlinewidth": 0,
              "ticks": ""
             }
            },
            "type": "scatterpolar"
           }
          ],
          "scatterpolargl": [
           {
            "marker": {
             "colorbar": {
              "outlinewidth": 0,
              "ticks": ""
             }
            },
            "type": "scatterpolargl"
           }
          ],
          "scatterternary": [
           {
            "marker": {
             "colorbar": {
              "outlinewidth": 0,
              "ticks": ""
             }
            },
            "type": "scatterternary"
           }
          ],
          "surface": [
           {
            "colorbar": {
             "outlinewidth": 0,
             "ticks": ""
            },
            "colorscale": [
             [
              0,
              "#0d0887"
             ],
             [
              0.1111111111111111,
              "#46039f"
             ],
             [
              0.2222222222222222,
              "#7201a8"
             ],
             [
              0.3333333333333333,
              "#9c179e"
             ],
             [
              0.4444444444444444,
              "#bd3786"
             ],
             [
              0.5555555555555556,
              "#d8576b"
             ],
             [
              0.6666666666666666,
              "#ed7953"
             ],
             [
              0.7777777777777778,
              "#fb9f3a"
             ],
             [
              0.8888888888888888,
              "#fdca26"
             ],
             [
              1,
              "#f0f921"
             ]
            ],
            "type": "surface"
           }
          ],
          "table": [
           {
            "cells": {
             "fill": {
              "color": "#EBF0F8"
             },
             "line": {
              "color": "white"
             }
            },
            "header": {
             "fill": {
              "color": "#C8D4E3"
             },
             "line": {
              "color": "white"
             }
            },
            "type": "table"
           }
          ]
         },
         "layout": {
          "annotationdefaults": {
           "arrowcolor": "#2a3f5f",
           "arrowhead": 0,
           "arrowwidth": 1
          },
          "autotypenumbers": "strict",
          "coloraxis": {
           "colorbar": {
            "outlinewidth": 0,
            "ticks": ""
           }
          },
          "colorscale": {
           "diverging": [
            [
             0,
             "#8e0152"
            ],
            [
             0.1,
             "#c51b7d"
            ],
            [
             0.2,
             "#de77ae"
            ],
            [
             0.3,
             "#f1b6da"
            ],
            [
             0.4,
             "#fde0ef"
            ],
            [
             0.5,
             "#f7f7f7"
            ],
            [
             0.6,
             "#e6f5d0"
            ],
            [
             0.7,
             "#b8e186"
            ],
            [
             0.8,
             "#7fbc41"
            ],
            [
             0.9,
             "#4d9221"
            ],
            [
             1,
             "#276419"
            ]
           ],
           "sequential": [
            [
             0,
             "#0d0887"
            ],
            [
             0.1111111111111111,
             "#46039f"
            ],
            [
             0.2222222222222222,
             "#7201a8"
            ],
            [
             0.3333333333333333,
             "#9c179e"
            ],
            [
             0.4444444444444444,
             "#bd3786"
            ],
            [
             0.5555555555555556,
             "#d8576b"
            ],
            [
             0.6666666666666666,
             "#ed7953"
            ],
            [
             0.7777777777777778,
             "#fb9f3a"
            ],
            [
             0.8888888888888888,
             "#fdca26"
            ],
            [
             1,
             "#f0f921"
            ]
           ],
           "sequentialminus": [
            [
             0,
             "#0d0887"
            ],
            [
             0.1111111111111111,
             "#46039f"
            ],
            [
             0.2222222222222222,
             "#7201a8"
            ],
            [
             0.3333333333333333,
             "#9c179e"
            ],
            [
             0.4444444444444444,
             "#bd3786"
            ],
            [
             0.5555555555555556,
             "#d8576b"
            ],
            [
             0.6666666666666666,
             "#ed7953"
            ],
            [
             0.7777777777777778,
             "#fb9f3a"
            ],
            [
             0.8888888888888888,
             "#fdca26"
            ],
            [
             1,
             "#f0f921"
            ]
           ]
          },
          "colorway": [
           "#636efa",
           "#EF553B",
           "#00cc96",
           "#ab63fa",
           "#FFA15A",
           "#19d3f3",
           "#FF6692",
           "#B6E880",
           "#FF97FF",
           "#FECB52"
          ],
          "font": {
           "color": "#2a3f5f"
          },
          "geo": {
           "bgcolor": "white",
           "lakecolor": "white",
           "landcolor": "#E5ECF6",
           "showlakes": true,
           "showland": true,
           "subunitcolor": "white"
          },
          "hoverlabel": {
           "align": "left"
          },
          "hovermode": "closest",
          "mapbox": {
           "style": "light"
          },
          "paper_bgcolor": "white",
          "plot_bgcolor": "#E5ECF6",
          "polar": {
           "angularaxis": {
            "gridcolor": "white",
            "linecolor": "white",
            "ticks": ""
           },
           "bgcolor": "#E5ECF6",
           "radialaxis": {
            "gridcolor": "white",
            "linecolor": "white",
            "ticks": ""
           }
          },
          "scene": {
           "xaxis": {
            "backgroundcolor": "#E5ECF6",
            "gridcolor": "white",
            "gridwidth": 2,
            "linecolor": "white",
            "showbackground": true,
            "ticks": "",
            "zerolinecolor": "white"
           },
           "yaxis": {
            "backgroundcolor": "#E5ECF6",
            "gridcolor": "white",
            "gridwidth": 2,
            "linecolor": "white",
            "showbackground": true,
            "ticks": "",
            "zerolinecolor": "white"
           },
           "zaxis": {
            "backgroundcolor": "#E5ECF6",
            "gridcolor": "white",
            "gridwidth": 2,
            "linecolor": "white",
            "showbackground": true,
            "ticks": "",
            "zerolinecolor": "white"
           }
          },
          "shapedefaults": {
           "line": {
            "color": "#2a3f5f"
           }
          },
          "ternary": {
           "aaxis": {
            "gridcolor": "white",
            "linecolor": "white",
            "ticks": ""
           },
           "baxis": {
            "gridcolor": "white",
            "linecolor": "white",
            "ticks": ""
           },
           "bgcolor": "#E5ECF6",
           "caxis": {
            "gridcolor": "white",
            "linecolor": "white",
            "ticks": ""
           }
          },
          "title": {
           "x": 0.05
          },
          "xaxis": {
           "automargin": true,
           "gridcolor": "white",
           "linecolor": "white",
           "ticks": "",
           "title": {
            "standoff": 15
           },
           "zerolinecolor": "white",
           "zerolinewidth": 2
          },
          "yaxis": {
           "automargin": true,
           "gridcolor": "white",
           "linecolor": "white",
           "ticks": "",
           "title": {
            "standoff": 15
           },
           "zerolinecolor": "white",
           "zerolinewidth": 2
          }
         }
        },
        "xaxis": {
         "anchor": "y",
         "domain": [
          0,
          1
         ],
         "title": {
          "text": "rmse"
         },
         "type": "log"
        },
        "yaxis": {
         "anchor": "x",
         "domain": [
          0,
          1
         ],
         "title": {
          "text": "dropout_factor_quantile"
         }
        }
       }
      }
     },
     "metadata": {},
     "output_type": "display_data"
    }
   ],
   "source": [
    "px.scatter(\n",
    "    df, x=\"rmse\", y=\"dropout_factor_quantile\", log_x=True\n",
    ")"
   ]
  },
  {
   "cell_type": "code",
   "execution_count": 50,
   "metadata": {},
   "outputs": [
    {
     "data": {
      "application/vnd.plotly.v1+json": {
       "config": {
        "plotlyServerURL": "https://plot.ly"
       },
       "data": [
        {
         "hovertemplate": "rmse=%{x}<br>weight_quantiles_max=%{y}<extra></extra>",
         "legendgroup": "",
         "marker": {
          "color": "#636efa",
          "symbol": "circle"
         },
         "mode": "markers",
         "name": "",
         "orientation": "v",
         "showlegend": false,
         "type": "scatter",
         "x": [
          0.01586,
          0.01586,
          0.01779,
          0.01779,
          0.01849,
          0.01849,
          0.01924,
          0.01924,
          0.01995,
          0.01995,
          0.02078,
          0.02078,
          0.02181,
          0.02181,
          0.02228,
          0.02228,
          0.02229,
          0.02229,
          0.02287,
          0.02287,
          0.02376,
          0.02376,
          0.02437,
          0.02437,
          0.02475,
          0.02475,
          0.02548,
          0.02548,
          0.03692,
          0.03692,
          0.03707,
          0.03707,
          0.03713,
          0.03713,
          0.0375,
          0.0375,
          0.03754,
          0.03754,
          0.03844,
          0.03844,
          0.03851,
          0.03851,
          0.03946,
          0.03946,
          0.04022,
          0.04022,
          0.04095,
          0.04095,
          0.04164,
          0.04164,
          0.04167,
          0.04167,
          0.04302,
          0.04302,
          0.04334,
          0.04334,
          0.04343,
          0.04343,
          0.04375,
          0.04375,
          0.04375,
          0.04375,
          0.04386,
          0.04386,
          0.04409,
          0.04409,
          0.04542,
          0.04542,
          0.04573,
          0.04573,
          0.04609,
          0.04609,
          0.04713,
          0.04713,
          0.04897,
          0.04897,
          0.05017,
          0.05017,
          0.05031,
          0.05031,
          0.05081,
          0.05081,
          0.05117,
          0.05117,
          0.05126,
          0.05126,
          0.05257,
          0.05257,
          0.05331,
          0.05331,
          0.05437,
          0.05437,
          0.05629,
          0.05629,
          0.05836,
          0.05836,
          0.05931,
          0.05931,
          0.06428,
          0.06428,
          0.06503,
          0.06503,
          0.06737,
          0.06737,
          0.06842,
          0.06851,
          0.0687,
          0.06896,
          0.06896,
          0.07266,
          0.07311,
          0.07311,
          0.07403,
          0.07407,
          0.07407,
          0.07411,
          0.07473,
          0.07473,
          0.07584,
          0.07618,
          0.07742,
          0.07758,
          0.07812,
          0.07814,
          0.07839,
          0.07853,
          0.07854,
          0.0787,
          0.07877,
          0.07927,
          0.07948,
          0.07955,
          0.08011,
          0.08034,
          0.08045,
          0.08066,
          0.08489,
          0.08618,
          0.08693,
          0.08731,
          0.08911,
          0.08929,
          0.08963,
          0.09037,
          0.09063,
          0.091,
          0.09103,
          0.09142,
          0.09212,
          0.09269,
          0.09302,
          0.09379,
          0.09392,
          0.09489,
          0.09588,
          0.09634,
          0.09651,
          0.09765,
          0.09854,
          0.09867,
          0.0996,
          0.10529,
          0.10621,
          0.10633,
          0.107,
          0.10816,
          0.10824,
          0.10888,
          0.11093,
          0.11151,
          0.11177,
          0.11699,
          0.11941,
          0.11946,
          0.11999,
          0.1203,
          0.12123,
          0.12149,
          0.12151,
          0.12173,
          0.12177,
          0.12212,
          0.12418,
          0.1242,
          0.12424,
          0.12428,
          0.12429,
          0.12444,
          0.1246,
          0.12483,
          0.12509,
          0.12558,
          0.1262,
          0.12635,
          0.12663,
          0.12701,
          0.1273,
          0.12899,
          0.13171,
          0.13174,
          0.1324,
          0.13306,
          0.13418,
          0.13436,
          0.13484,
          0.13488,
          0.13744,
          0.13813,
          0.13843,
          0.1389,
          0.13939,
          0.1407,
          0.14106,
          0.14193,
          0.14231,
          0.14478,
          0.1453,
          0.1456,
          0.14585,
          0.14623,
          0.15489,
          0.15959,
          0.16022,
          0.16031,
          0.16166,
          0.16192,
          0.16227,
          0.16229,
          0.16438,
          0.16485,
          0.16514,
          0.16633,
          0.16759,
          0.16801,
          0.17256,
          0.17274,
          0.17319,
          0.17731,
          0.17832,
          0.17913,
          0.17957,
          0.18117,
          0.18244,
          0.18294,
          0.1839,
          0.19204,
          0.19233,
          0.19381,
          0.19767,
          0.19962,
          0.19965,
          0.20106,
          0.22724,
          0.22808,
          0.22825,
          0.23603,
          0.23678,
          0.23884,
          0.23922,
          0.25533,
          0.25556,
          0.2577,
          0.263,
          0.26558,
          0.26686,
          0.26702,
          0.2951,
          0.29553,
          0.29798,
          0.3013,
          0.30376,
          0.30481,
          0.307,
          0.33066,
          0.33168,
          0.33688,
          0.33839,
          0.33841,
          0.34037,
          0.34302
         ],
         "xaxis": "x",
         "y": [
          1,
          1,
          1,
          1,
          1,
          1,
          1,
          1,
          1,
          1,
          1,
          1,
          1,
          1,
          1,
          1,
          1,
          1,
          1,
          1,
          1,
          1,
          1,
          1,
          1,
          1,
          1,
          1,
          1,
          1,
          1,
          1,
          1,
          1,
          1,
          1,
          1,
          1,
          1,
          1,
          1,
          1,
          1,
          1,
          1,
          1,
          1,
          1,
          1,
          1,
          1,
          1,
          1,
          1,
          1,
          1,
          1,
          1,
          1,
          1,
          1,
          1,
          1,
          1,
          1,
          1,
          1,
          1,
          1,
          1,
          1,
          1,
          1,
          1,
          1,
          1,
          1,
          1,
          1,
          1,
          1,
          1,
          1,
          1,
          1,
          1,
          1,
          1,
          1,
          1,
          1,
          1,
          1,
          1,
          1,
          1,
          1,
          1,
          1,
          1,
          1,
          1,
          1,
          1,
          0.95,
          0.95,
          0.95,
          1,
          1,
          0.95,
          1,
          1,
          0.95,
          1,
          1,
          0.95,
          1,
          1,
          0.95,
          0.95,
          0.95,
          0.95,
          0.975,
          0.99,
          0.95,
          0.975,
          0.95,
          0.975,
          0.95,
          0.99,
          0.975,
          0.975,
          0.975,
          0.975,
          0.95,
          0.99,
          0.99,
          0.99,
          0.99,
          0.99,
          0.99,
          0.975,
          0.975,
          0.975,
          0.99,
          0.975,
          0.975,
          0.99,
          0.975,
          0.975,
          0.99,
          0.99,
          0.99,
          0.99,
          0.99,
          0.99,
          0.99,
          0.99,
          0.99,
          0.99,
          0.99,
          0.99,
          0.99,
          0.975,
          0.99,
          0.99,
          0.975,
          0.99,
          0.99,
          0.975,
          0.99,
          0.99,
          0.99,
          0.975,
          0.99,
          0.975,
          0.99,
          0.975,
          0.975,
          0.99,
          0.99,
          0.975,
          0.975,
          0.99,
          0.975,
          0.99,
          0.975,
          0.975,
          0.975,
          0.99,
          0.975,
          0.975,
          0.99,
          0.975,
          0.99,
          0.99,
          0.975,
          0.99,
          0.975,
          0.975,
          0.99,
          0.975,
          0.975,
          0.975,
          0.975,
          0.975,
          0.975,
          0.975,
          0.975,
          0.95,
          0.975,
          0.95,
          0.95,
          0.95,
          0.95,
          0.95,
          0.95,
          0.95,
          0.95,
          0.95,
          0.95,
          0.95,
          0.95,
          0.95,
          0.95,
          0.95,
          0.95,
          0.95,
          0.95,
          0.95,
          0.95,
          0.95,
          0.95,
          0.95,
          0.99,
          0.99,
          0.99,
          0.95,
          0.99,
          0.99,
          0.99,
          0.99,
          0.95,
          0.95,
          0.95,
          0.99,
          0.99,
          0.99,
          0.99,
          0.99,
          0.99,
          0.99,
          0.975,
          0.975,
          0.975,
          0.975,
          0.975,
          0.975,
          0.975,
          0.975,
          0.975,
          0.975,
          0.975,
          0.975,
          0.975,
          0.975,
          0.95,
          0.95,
          0.95,
          0.95,
          0.95,
          0.95,
          0.95,
          0.95,
          0.95,
          0.95,
          0.95,
          0.95,
          0.95,
          0.95
         ],
         "yaxis": "y"
        }
       ],
       "layout": {
        "legend": {
         "tracegroupgap": 0
        },
        "margin": {
         "t": 60
        },
        "template": {
         "data": {
          "bar": [
           {
            "error_x": {
             "color": "#2a3f5f"
            },
            "error_y": {
             "color": "#2a3f5f"
            },
            "marker": {
             "line": {
              "color": "#E5ECF6",
              "width": 0.5
             },
             "pattern": {
              "fillmode": "overlay",
              "size": 10,
              "solidity": 0.2
             }
            },
            "type": "bar"
           }
          ],
          "barpolar": [
           {
            "marker": {
             "line": {
              "color": "#E5ECF6",
              "width": 0.5
             },
             "pattern": {
              "fillmode": "overlay",
              "size": 10,
              "solidity": 0.2
             }
            },
            "type": "barpolar"
           }
          ],
          "carpet": [
           {
            "aaxis": {
             "endlinecolor": "#2a3f5f",
             "gridcolor": "white",
             "linecolor": "white",
             "minorgridcolor": "white",
             "startlinecolor": "#2a3f5f"
            },
            "baxis": {
             "endlinecolor": "#2a3f5f",
             "gridcolor": "white",
             "linecolor": "white",
             "minorgridcolor": "white",
             "startlinecolor": "#2a3f5f"
            },
            "type": "carpet"
           }
          ],
          "choropleth": [
           {
            "colorbar": {
             "outlinewidth": 0,
             "ticks": ""
            },
            "type": "choropleth"
           }
          ],
          "contour": [
           {
            "colorbar": {
             "outlinewidth": 0,
             "ticks": ""
            },
            "colorscale": [
             [
              0,
              "#0d0887"
             ],
             [
              0.1111111111111111,
              "#46039f"
             ],
             [
              0.2222222222222222,
              "#7201a8"
             ],
             [
              0.3333333333333333,
              "#9c179e"
             ],
             [
              0.4444444444444444,
              "#bd3786"
             ],
             [
              0.5555555555555556,
              "#d8576b"
             ],
             [
              0.6666666666666666,
              "#ed7953"
             ],
             [
              0.7777777777777778,
              "#fb9f3a"
             ],
             [
              0.8888888888888888,
              "#fdca26"
             ],
             [
              1,
              "#f0f921"
             ]
            ],
            "type": "contour"
           }
          ],
          "contourcarpet": [
           {
            "colorbar": {
             "outlinewidth": 0,
             "ticks": ""
            },
            "type": "contourcarpet"
           }
          ],
          "heatmap": [
           {
            "colorbar": {
             "outlinewidth": 0,
             "ticks": ""
            },
            "colorscale": [
             [
              0,
              "#0d0887"
             ],
             [
              0.1111111111111111,
              "#46039f"
             ],
             [
              0.2222222222222222,
              "#7201a8"
             ],
             [
              0.3333333333333333,
              "#9c179e"
             ],
             [
              0.4444444444444444,
              "#bd3786"
             ],
             [
              0.5555555555555556,
              "#d8576b"
             ],
             [
              0.6666666666666666,
              "#ed7953"
             ],
             [
              0.7777777777777778,
              "#fb9f3a"
             ],
             [
              0.8888888888888888,
              "#fdca26"
             ],
             [
              1,
              "#f0f921"
             ]
            ],
            "type": "heatmap"
           }
          ],
          "heatmapgl": [
           {
            "colorbar": {
             "outlinewidth": 0,
             "ticks": ""
            },
            "colorscale": [
             [
              0,
              "#0d0887"
             ],
             [
              0.1111111111111111,
              "#46039f"
             ],
             [
              0.2222222222222222,
              "#7201a8"
             ],
             [
              0.3333333333333333,
              "#9c179e"
             ],
             [
              0.4444444444444444,
              "#bd3786"
             ],
             [
              0.5555555555555556,
              "#d8576b"
             ],
             [
              0.6666666666666666,
              "#ed7953"
             ],
             [
              0.7777777777777778,
              "#fb9f3a"
             ],
             [
              0.8888888888888888,
              "#fdca26"
             ],
             [
              1,
              "#f0f921"
             ]
            ],
            "type": "heatmapgl"
           }
          ],
          "histogram": [
           {
            "marker": {
             "pattern": {
              "fillmode": "overlay",
              "size": 10,
              "solidity": 0.2
             }
            },
            "type": "histogram"
           }
          ],
          "histogram2d": [
           {
            "colorbar": {
             "outlinewidth": 0,
             "ticks": ""
            },
            "colorscale": [
             [
              0,
              "#0d0887"
             ],
             [
              0.1111111111111111,
              "#46039f"
             ],
             [
              0.2222222222222222,
              "#7201a8"
             ],
             [
              0.3333333333333333,
              "#9c179e"
             ],
             [
              0.4444444444444444,
              "#bd3786"
             ],
             [
              0.5555555555555556,
              "#d8576b"
             ],
             [
              0.6666666666666666,
              "#ed7953"
             ],
             [
              0.7777777777777778,
              "#fb9f3a"
             ],
             [
              0.8888888888888888,
              "#fdca26"
             ],
             [
              1,
              "#f0f921"
             ]
            ],
            "type": "histogram2d"
           }
          ],
          "histogram2dcontour": [
           {
            "colorbar": {
             "outlinewidth": 0,
             "ticks": ""
            },
            "colorscale": [
             [
              0,
              "#0d0887"
             ],
             [
              0.1111111111111111,
              "#46039f"
             ],
             [
              0.2222222222222222,
              "#7201a8"
             ],
             [
              0.3333333333333333,
              "#9c179e"
             ],
             [
              0.4444444444444444,
              "#bd3786"
             ],
             [
              0.5555555555555556,
              "#d8576b"
             ],
             [
              0.6666666666666666,
              "#ed7953"
             ],
             [
              0.7777777777777778,
              "#fb9f3a"
             ],
             [
              0.8888888888888888,
              "#fdca26"
             ],
             [
              1,
              "#f0f921"
             ]
            ],
            "type": "histogram2dcontour"
           }
          ],
          "mesh3d": [
           {
            "colorbar": {
             "outlinewidth": 0,
             "ticks": ""
            },
            "type": "mesh3d"
           }
          ],
          "parcoords": [
           {
            "line": {
             "colorbar": {
              "outlinewidth": 0,
              "ticks": ""
             }
            },
            "type": "parcoords"
           }
          ],
          "pie": [
           {
            "automargin": true,
            "type": "pie"
           }
          ],
          "scatter": [
           {
            "fillpattern": {
             "fillmode": "overlay",
             "size": 10,
             "solidity": 0.2
            },
            "type": "scatter"
           }
          ],
          "scatter3d": [
           {
            "line": {
             "colorbar": {
              "outlinewidth": 0,
              "ticks": ""
             }
            },
            "marker": {
             "colorbar": {
              "outlinewidth": 0,
              "ticks": ""
             }
            },
            "type": "scatter3d"
           }
          ],
          "scattercarpet": [
           {
            "marker": {
             "colorbar": {
              "outlinewidth": 0,
              "ticks": ""
             }
            },
            "type": "scattercarpet"
           }
          ],
          "scattergeo": [
           {
            "marker": {
             "colorbar": {
              "outlinewidth": 0,
              "ticks": ""
             }
            },
            "type": "scattergeo"
           }
          ],
          "scattergl": [
           {
            "marker": {
             "colorbar": {
              "outlinewidth": 0,
              "ticks": ""
             }
            },
            "type": "scattergl"
           }
          ],
          "scattermapbox": [
           {
            "marker": {
             "colorbar": {
              "outlinewidth": 0,
              "ticks": ""
             }
            },
            "type": "scattermapbox"
           }
          ],
          "scatterpolar": [
           {
            "marker": {
             "colorbar": {
              "outlinewidth": 0,
              "ticks": ""
             }
            },
            "type": "scatterpolar"
           }
          ],
          "scatterpolargl": [
           {
            "marker": {
             "colorbar": {
              "outlinewidth": 0,
              "ticks": ""
             }
            },
            "type": "scatterpolargl"
           }
          ],
          "scatterternary": [
           {
            "marker": {
             "colorbar": {
              "outlinewidth": 0,
              "ticks": ""
             }
            },
            "type": "scatterternary"
           }
          ],
          "surface": [
           {
            "colorbar": {
             "outlinewidth": 0,
             "ticks": ""
            },
            "colorscale": [
             [
              0,
              "#0d0887"
             ],
             [
              0.1111111111111111,
              "#46039f"
             ],
             [
              0.2222222222222222,
              "#7201a8"
             ],
             [
              0.3333333333333333,
              "#9c179e"
             ],
             [
              0.4444444444444444,
              "#bd3786"
             ],
             [
              0.5555555555555556,
              "#d8576b"
             ],
             [
              0.6666666666666666,
              "#ed7953"
             ],
             [
              0.7777777777777778,
              "#fb9f3a"
             ],
             [
              0.8888888888888888,
              "#fdca26"
             ],
             [
              1,
              "#f0f921"
             ]
            ],
            "type": "surface"
           }
          ],
          "table": [
           {
            "cells": {
             "fill": {
              "color": "#EBF0F8"
             },
             "line": {
              "color": "white"
             }
            },
            "header": {
             "fill": {
              "color": "#C8D4E3"
             },
             "line": {
              "color": "white"
             }
            },
            "type": "table"
           }
          ]
         },
         "layout": {
          "annotationdefaults": {
           "arrowcolor": "#2a3f5f",
           "arrowhead": 0,
           "arrowwidth": 1
          },
          "autotypenumbers": "strict",
          "coloraxis": {
           "colorbar": {
            "outlinewidth": 0,
            "ticks": ""
           }
          },
          "colorscale": {
           "diverging": [
            [
             0,
             "#8e0152"
            ],
            [
             0.1,
             "#c51b7d"
            ],
            [
             0.2,
             "#de77ae"
            ],
            [
             0.3,
             "#f1b6da"
            ],
            [
             0.4,
             "#fde0ef"
            ],
            [
             0.5,
             "#f7f7f7"
            ],
            [
             0.6,
             "#e6f5d0"
            ],
            [
             0.7,
             "#b8e186"
            ],
            [
             0.8,
             "#7fbc41"
            ],
            [
             0.9,
             "#4d9221"
            ],
            [
             1,
             "#276419"
            ]
           ],
           "sequential": [
            [
             0,
             "#0d0887"
            ],
            [
             0.1111111111111111,
             "#46039f"
            ],
            [
             0.2222222222222222,
             "#7201a8"
            ],
            [
             0.3333333333333333,
             "#9c179e"
            ],
            [
             0.4444444444444444,
             "#bd3786"
            ],
            [
             0.5555555555555556,
             "#d8576b"
            ],
            [
             0.6666666666666666,
             "#ed7953"
            ],
            [
             0.7777777777777778,
             "#fb9f3a"
            ],
            [
             0.8888888888888888,
             "#fdca26"
            ],
            [
             1,
             "#f0f921"
            ]
           ],
           "sequentialminus": [
            [
             0,
             "#0d0887"
            ],
            [
             0.1111111111111111,
             "#46039f"
            ],
            [
             0.2222222222222222,
             "#7201a8"
            ],
            [
             0.3333333333333333,
             "#9c179e"
            ],
            [
             0.4444444444444444,
             "#bd3786"
            ],
            [
             0.5555555555555556,
             "#d8576b"
            ],
            [
             0.6666666666666666,
             "#ed7953"
            ],
            [
             0.7777777777777778,
             "#fb9f3a"
            ],
            [
             0.8888888888888888,
             "#fdca26"
            ],
            [
             1,
             "#f0f921"
            ]
           ]
          },
          "colorway": [
           "#636efa",
           "#EF553B",
           "#00cc96",
           "#ab63fa",
           "#FFA15A",
           "#19d3f3",
           "#FF6692",
           "#B6E880",
           "#FF97FF",
           "#FECB52"
          ],
          "font": {
           "color": "#2a3f5f"
          },
          "geo": {
           "bgcolor": "white",
           "lakecolor": "white",
           "landcolor": "#E5ECF6",
           "showlakes": true,
           "showland": true,
           "subunitcolor": "white"
          },
          "hoverlabel": {
           "align": "left"
          },
          "hovermode": "closest",
          "mapbox": {
           "style": "light"
          },
          "paper_bgcolor": "white",
          "plot_bgcolor": "#E5ECF6",
          "polar": {
           "angularaxis": {
            "gridcolor": "white",
            "linecolor": "white",
            "ticks": ""
           },
           "bgcolor": "#E5ECF6",
           "radialaxis": {
            "gridcolor": "white",
            "linecolor": "white",
            "ticks": ""
           }
          },
          "scene": {
           "xaxis": {
            "backgroundcolor": "#E5ECF6",
            "gridcolor": "white",
            "gridwidth": 2,
            "linecolor": "white",
            "showbackground": true,
            "ticks": "",
            "zerolinecolor": "white"
           },
           "yaxis": {
            "backgroundcolor": "#E5ECF6",
            "gridcolor": "white",
            "gridwidth": 2,
            "linecolor": "white",
            "showbackground": true,
            "ticks": "",
            "zerolinecolor": "white"
           },
           "zaxis": {
            "backgroundcolor": "#E5ECF6",
            "gridcolor": "white",
            "gridwidth": 2,
            "linecolor": "white",
            "showbackground": true,
            "ticks": "",
            "zerolinecolor": "white"
           }
          },
          "shapedefaults": {
           "line": {
            "color": "#2a3f5f"
           }
          },
          "ternary": {
           "aaxis": {
            "gridcolor": "white",
            "linecolor": "white",
            "ticks": ""
           },
           "baxis": {
            "gridcolor": "white",
            "linecolor": "white",
            "ticks": ""
           },
           "bgcolor": "#E5ECF6",
           "caxis": {
            "gridcolor": "white",
            "linecolor": "white",
            "ticks": ""
           }
          },
          "title": {
           "x": 0.05
          },
          "xaxis": {
           "automargin": true,
           "gridcolor": "white",
           "linecolor": "white",
           "ticks": "",
           "title": {
            "standoff": 15
           },
           "zerolinecolor": "white",
           "zerolinewidth": 2
          },
          "yaxis": {
           "automargin": true,
           "gridcolor": "white",
           "linecolor": "white",
           "ticks": "",
           "title": {
            "standoff": 15
           },
           "zerolinecolor": "white",
           "zerolinewidth": 2
          }
         }
        },
        "xaxis": {
         "anchor": "y",
         "domain": [
          0,
          1
         ],
         "title": {
          "text": "rmse"
         },
         "type": "log"
        },
        "yaxis": {
         "anchor": "x",
         "domain": [
          0,
          1
         ],
         "title": {
          "text": "weight_quantiles_max"
         }
        }
       }
      }
     },
     "metadata": {},
     "output_type": "display_data"
    }
   ],
   "source": [
    "px.scatter(\n",
    "    df, x=\"rmse\", y=\"weight_quantiles_max\", log_x=True\n",
    ")"
   ]
  },
  {
   "cell_type": "code",
   "execution_count": 52,
   "metadata": {},
   "outputs": [
    {
     "data": {
      "application/vnd.plotly.v1+json": {
       "config": {
        "plotlyServerURL": "https://plot.ly"
       },
       "data": [
        {
         "hovertemplate": "rmse=%{x}<br>signature_quantiles_max=%{y}<extra></extra>",
         "legendgroup": "",
         "marker": {
          "color": "#636efa",
          "symbol": "circle"
         },
         "mode": "markers",
         "name": "",
         "orientation": "v",
         "showlegend": false,
         "type": "scatter",
         "x": [
          0.01586,
          0.01586,
          0.01779,
          0.01779,
          0.01849,
          0.01849,
          0.01924,
          0.01924,
          0.01995,
          0.01995,
          0.02078,
          0.02078,
          0.02181,
          0.02181,
          0.02228,
          0.02228,
          0.02229,
          0.02229,
          0.02287,
          0.02287,
          0.02376,
          0.02376,
          0.02437,
          0.02437,
          0.02475,
          0.02475,
          0.02548,
          0.02548,
          0.03692,
          0.03692,
          0.03707,
          0.03707,
          0.03713,
          0.03713,
          0.0375,
          0.0375,
          0.03754,
          0.03754,
          0.03844,
          0.03844,
          0.03851,
          0.03851,
          0.03946,
          0.03946,
          0.04022,
          0.04022,
          0.04095,
          0.04095,
          0.04164,
          0.04164,
          0.04167,
          0.04167,
          0.04302,
          0.04302,
          0.04334,
          0.04334,
          0.04343,
          0.04343,
          0.04375,
          0.04375,
          0.04375,
          0.04375,
          0.04386,
          0.04386,
          0.04409,
          0.04409,
          0.04542,
          0.04542,
          0.04573,
          0.04573,
          0.04609,
          0.04609,
          0.04713,
          0.04713,
          0.04897,
          0.04897,
          0.05017,
          0.05017,
          0.05031,
          0.05031,
          0.05081,
          0.05081,
          0.05117,
          0.05117,
          0.05126,
          0.05126,
          0.05257,
          0.05257,
          0.05331,
          0.05331,
          0.05437,
          0.05437,
          0.05629,
          0.05629,
          0.05836,
          0.05836,
          0.05931,
          0.05931,
          0.06428,
          0.06428,
          0.06503,
          0.06503,
          0.06737,
          0.06737,
          0.06842,
          0.06851,
          0.0687,
          0.06896,
          0.06896,
          0.07266,
          0.07311,
          0.07311,
          0.07403,
          0.07407,
          0.07407,
          0.07411,
          0.07473,
          0.07473,
          0.07584,
          0.07618,
          0.07742,
          0.07758,
          0.07812,
          0.07814,
          0.07839,
          0.07853,
          0.07854,
          0.0787,
          0.07877,
          0.07927,
          0.07948,
          0.07955,
          0.08011,
          0.08034,
          0.08045,
          0.08066,
          0.08489,
          0.08618,
          0.08693,
          0.08731,
          0.08911,
          0.08929,
          0.08963,
          0.09037,
          0.09063,
          0.091,
          0.09103,
          0.09142,
          0.09212,
          0.09269,
          0.09302,
          0.09379,
          0.09392,
          0.09489,
          0.09588,
          0.09634,
          0.09651,
          0.09765,
          0.09854,
          0.09867,
          0.0996,
          0.10529,
          0.10621,
          0.10633,
          0.107,
          0.10816,
          0.10824,
          0.10888,
          0.11093,
          0.11151,
          0.11177,
          0.11699,
          0.11941,
          0.11946,
          0.11999,
          0.1203,
          0.12123,
          0.12149,
          0.12151,
          0.12173,
          0.12177,
          0.12212,
          0.12418,
          0.1242,
          0.12424,
          0.12428,
          0.12429,
          0.12444,
          0.1246,
          0.12483,
          0.12509,
          0.12558,
          0.1262,
          0.12635,
          0.12663,
          0.12701,
          0.1273,
          0.12899,
          0.13171,
          0.13174,
          0.1324,
          0.13306,
          0.13418,
          0.13436,
          0.13484,
          0.13488,
          0.13744,
          0.13813,
          0.13843,
          0.1389,
          0.13939,
          0.1407,
          0.14106,
          0.14193,
          0.14231,
          0.14478,
          0.1453,
          0.1456,
          0.14585,
          0.14623,
          0.15489,
          0.15959,
          0.16022,
          0.16031,
          0.16166,
          0.16192,
          0.16227,
          0.16229,
          0.16438,
          0.16485,
          0.16514,
          0.16633,
          0.16759,
          0.16801,
          0.17256,
          0.17274,
          0.17319,
          0.17731,
          0.17832,
          0.17913,
          0.17957,
          0.18117,
          0.18244,
          0.18294,
          0.1839,
          0.19204,
          0.19233,
          0.19381,
          0.19767,
          0.19962,
          0.19965,
          0.20106,
          0.22724,
          0.22808,
          0.22825,
          0.23603,
          0.23678,
          0.23884,
          0.23922,
          0.25533,
          0.25556,
          0.2577,
          0.263,
          0.26558,
          0.26686,
          0.26702,
          0.2951,
          0.29553,
          0.29798,
          0.3013,
          0.30376,
          0.30481,
          0.307,
          0.33066,
          0.33168,
          0.33688,
          0.33839,
          0.33841,
          0.34037,
          0.34302
         ],
         "xaxis": "x",
         "y": [
          0.9,
          0.9,
          0.9,
          0.9,
          0.9,
          0.9,
          0.9,
          0.9,
          0.9,
          0.9,
          1,
          1,
          1,
          1,
          1,
          1,
          1,
          1,
          0.9,
          0.9,
          0.9,
          0.9,
          1,
          1,
          1,
          1,
          1,
          1,
          0.5,
          0.5,
          0.5,
          0.5,
          0.5,
          0.5,
          0.5,
          0.5,
          0.5,
          0.5,
          0.5,
          0.5,
          0.5,
          0.5,
          0.6,
          0.6,
          0.6,
          0.6,
          0.6,
          0.6,
          0.9,
          0.9,
          0.9,
          0.9,
          0.6,
          0.6,
          0.6,
          0.6,
          0.6,
          0.6,
          0.6,
          0.6,
          0.6,
          0.6,
          0.9,
          0.9,
          0.6,
          0.6,
          0.6,
          0.6,
          0.6,
          0.6,
          0.9,
          0.9,
          0.6,
          0.6,
          0.6,
          0.6,
          0.5,
          0.5,
          0.6,
          0.6,
          0.9,
          0.9,
          0.5,
          0.5,
          0.5,
          0.5,
          0.9,
          0.9,
          0.5,
          0.5,
          0.9,
          0.9,
          0.5,
          0.5,
          0.5,
          0.5,
          0.5,
          0.5,
          1,
          1,
          1,
          1,
          1,
          1,
          0.6,
          0.6,
          0.6,
          1,
          1,
          0.6,
          1,
          1,
          0.6,
          1,
          1,
          0.6,
          1,
          1,
          0.6,
          0.5,
          0.5,
          0.5,
          0.6,
          0.5,
          0.5,
          0.6,
          0.5,
          0.6,
          0.5,
          0.5,
          0.6,
          0.6,
          0.6,
          0.6,
          0.5,
          0.5,
          0.6,
          0.6,
          0.5,
          0.6,
          0.5,
          0.5,
          0.5,
          0.5,
          0.5,
          0.5,
          0.5,
          0.5,
          0.5,
          0.5,
          0.6,
          0.6,
          0.6,
          0.6,
          0.6,
          0.6,
          0.6,
          0.6,
          0.6,
          0.6,
          0.6,
          0.5,
          0.5,
          0.5,
          0.5,
          0.5,
          0.5,
          0.5,
          0.5,
          0.5,
          0.5,
          0.9,
          0.9,
          0.6,
          0.9,
          0.5,
          0.9,
          0.9,
          0.6,
          1,
          0.9,
          0.9,
          0.9,
          1,
          0.5,
          0.9,
          0.6,
          0.9,
          0.9,
          1,
          0.9,
          0.5,
          1,
          0.5,
          1,
          0.9,
          0.9,
          1,
          1,
          1,
          1,
          0.6,
          1,
          1,
          1,
          1,
          0.6,
          1,
          0.6,
          0.5,
          0.6,
          0.9,
          0.5,
          0.9,
          0.9,
          0.5,
          0.9,
          0.9,
          0.9,
          0.9,
          0.5,
          1,
          0.5,
          0.5,
          0.5,
          1,
          1,
          0.6,
          0.6,
          1,
          1,
          1,
          0.6,
          1,
          0.9,
          0.9,
          0.9,
          0.6,
          0.9,
          0.9,
          0.9,
          0.9,
          0.6,
          0.6,
          0.6,
          1,
          1,
          1,
          1,
          1,
          1,
          1,
          0.9,
          0.9,
          0.9,
          0.9,
          0.9,
          0.9,
          0.9,
          1,
          1,
          1,
          1,
          1,
          1,
          1,
          0.9,
          0.9,
          0.9,
          0.9,
          0.9,
          0.9,
          0.9,
          1,
          1,
          1,
          1,
          1,
          1,
          1
         ],
         "yaxis": "y"
        }
       ],
       "layout": {
        "legend": {
         "tracegroupgap": 0
        },
        "margin": {
         "t": 60
        },
        "template": {
         "data": {
          "bar": [
           {
            "error_x": {
             "color": "#2a3f5f"
            },
            "error_y": {
             "color": "#2a3f5f"
            },
            "marker": {
             "line": {
              "color": "#E5ECF6",
              "width": 0.5
             },
             "pattern": {
              "fillmode": "overlay",
              "size": 10,
              "solidity": 0.2
             }
            },
            "type": "bar"
           }
          ],
          "barpolar": [
           {
            "marker": {
             "line": {
              "color": "#E5ECF6",
              "width": 0.5
             },
             "pattern": {
              "fillmode": "overlay",
              "size": 10,
              "solidity": 0.2
             }
            },
            "type": "barpolar"
           }
          ],
          "carpet": [
           {
            "aaxis": {
             "endlinecolor": "#2a3f5f",
             "gridcolor": "white",
             "linecolor": "white",
             "minorgridcolor": "white",
             "startlinecolor": "#2a3f5f"
            },
            "baxis": {
             "endlinecolor": "#2a3f5f",
             "gridcolor": "white",
             "linecolor": "white",
             "minorgridcolor": "white",
             "startlinecolor": "#2a3f5f"
            },
            "type": "carpet"
           }
          ],
          "choropleth": [
           {
            "colorbar": {
             "outlinewidth": 0,
             "ticks": ""
            },
            "type": "choropleth"
           }
          ],
          "contour": [
           {
            "colorbar": {
             "outlinewidth": 0,
             "ticks": ""
            },
            "colorscale": [
             [
              0,
              "#0d0887"
             ],
             [
              0.1111111111111111,
              "#46039f"
             ],
             [
              0.2222222222222222,
              "#7201a8"
             ],
             [
              0.3333333333333333,
              "#9c179e"
             ],
             [
              0.4444444444444444,
              "#bd3786"
             ],
             [
              0.5555555555555556,
              "#d8576b"
             ],
             [
              0.6666666666666666,
              "#ed7953"
             ],
             [
              0.7777777777777778,
              "#fb9f3a"
             ],
             [
              0.8888888888888888,
              "#fdca26"
             ],
             [
              1,
              "#f0f921"
             ]
            ],
            "type": "contour"
           }
          ],
          "contourcarpet": [
           {
            "colorbar": {
             "outlinewidth": 0,
             "ticks": ""
            },
            "type": "contourcarpet"
           }
          ],
          "heatmap": [
           {
            "colorbar": {
             "outlinewidth": 0,
             "ticks": ""
            },
            "colorscale": [
             [
              0,
              "#0d0887"
             ],
             [
              0.1111111111111111,
              "#46039f"
             ],
             [
              0.2222222222222222,
              "#7201a8"
             ],
             [
              0.3333333333333333,
              "#9c179e"
             ],
             [
              0.4444444444444444,
              "#bd3786"
             ],
             [
              0.5555555555555556,
              "#d8576b"
             ],
             [
              0.6666666666666666,
              "#ed7953"
             ],
             [
              0.7777777777777778,
              "#fb9f3a"
             ],
             [
              0.8888888888888888,
              "#fdca26"
             ],
             [
              1,
              "#f0f921"
             ]
            ],
            "type": "heatmap"
           }
          ],
          "heatmapgl": [
           {
            "colorbar": {
             "outlinewidth": 0,
             "ticks": ""
            },
            "colorscale": [
             [
              0,
              "#0d0887"
             ],
             [
              0.1111111111111111,
              "#46039f"
             ],
             [
              0.2222222222222222,
              "#7201a8"
             ],
             [
              0.3333333333333333,
              "#9c179e"
             ],
             [
              0.4444444444444444,
              "#bd3786"
             ],
             [
              0.5555555555555556,
              "#d8576b"
             ],
             [
              0.6666666666666666,
              "#ed7953"
             ],
             [
              0.7777777777777778,
              "#fb9f3a"
             ],
             [
              0.8888888888888888,
              "#fdca26"
             ],
             [
              1,
              "#f0f921"
             ]
            ],
            "type": "heatmapgl"
           }
          ],
          "histogram": [
           {
            "marker": {
             "pattern": {
              "fillmode": "overlay",
              "size": 10,
              "solidity": 0.2
             }
            },
            "type": "histogram"
           }
          ],
          "histogram2d": [
           {
            "colorbar": {
             "outlinewidth": 0,
             "ticks": ""
            },
            "colorscale": [
             [
              0,
              "#0d0887"
             ],
             [
              0.1111111111111111,
              "#46039f"
             ],
             [
              0.2222222222222222,
              "#7201a8"
             ],
             [
              0.3333333333333333,
              "#9c179e"
             ],
             [
              0.4444444444444444,
              "#bd3786"
             ],
             [
              0.5555555555555556,
              "#d8576b"
             ],
             [
              0.6666666666666666,
              "#ed7953"
             ],
             [
              0.7777777777777778,
              "#fb9f3a"
             ],
             [
              0.8888888888888888,
              "#fdca26"
             ],
             [
              1,
              "#f0f921"
             ]
            ],
            "type": "histogram2d"
           }
          ],
          "histogram2dcontour": [
           {
            "colorbar": {
             "outlinewidth": 0,
             "ticks": ""
            },
            "colorscale": [
             [
              0,
              "#0d0887"
             ],
             [
              0.1111111111111111,
              "#46039f"
             ],
             [
              0.2222222222222222,
              "#7201a8"
             ],
             [
              0.3333333333333333,
              "#9c179e"
             ],
             [
              0.4444444444444444,
              "#bd3786"
             ],
             [
              0.5555555555555556,
              "#d8576b"
             ],
             [
              0.6666666666666666,
              "#ed7953"
             ],
             [
              0.7777777777777778,
              "#fb9f3a"
             ],
             [
              0.8888888888888888,
              "#fdca26"
             ],
             [
              1,
              "#f0f921"
             ]
            ],
            "type": "histogram2dcontour"
           }
          ],
          "mesh3d": [
           {
            "colorbar": {
             "outlinewidth": 0,
             "ticks": ""
            },
            "type": "mesh3d"
           }
          ],
          "parcoords": [
           {
            "line": {
             "colorbar": {
              "outlinewidth": 0,
              "ticks": ""
             }
            },
            "type": "parcoords"
           }
          ],
          "pie": [
           {
            "automargin": true,
            "type": "pie"
           }
          ],
          "scatter": [
           {
            "fillpattern": {
             "fillmode": "overlay",
             "size": 10,
             "solidity": 0.2
            },
            "type": "scatter"
           }
          ],
          "scatter3d": [
           {
            "line": {
             "colorbar": {
              "outlinewidth": 0,
              "ticks": ""
             }
            },
            "marker": {
             "colorbar": {
              "outlinewidth": 0,
              "ticks": ""
             }
            },
            "type": "scatter3d"
           }
          ],
          "scattercarpet": [
           {
            "marker": {
             "colorbar": {
              "outlinewidth": 0,
              "ticks": ""
             }
            },
            "type": "scattercarpet"
           }
          ],
          "scattergeo": [
           {
            "marker": {
             "colorbar": {
              "outlinewidth": 0,
              "ticks": ""
             }
            },
            "type": "scattergeo"
           }
          ],
          "scattergl": [
           {
            "marker": {
             "colorbar": {
              "outlinewidth": 0,
              "ticks": ""
             }
            },
            "type": "scattergl"
           }
          ],
          "scattermapbox": [
           {
            "marker": {
             "colorbar": {
              "outlinewidth": 0,
              "ticks": ""
             }
            },
            "type": "scattermapbox"
           }
          ],
          "scatterpolar": [
           {
            "marker": {
             "colorbar": {
              "outlinewidth": 0,
              "ticks": ""
             }
            },
            "type": "scatterpolar"
           }
          ],
          "scatterpolargl": [
           {
            "marker": {
             "colorbar": {
              "outlinewidth": 0,
              "ticks": ""
             }
            },
            "type": "scatterpolargl"
           }
          ],
          "scatterternary": [
           {
            "marker": {
             "colorbar": {
              "outlinewidth": 0,
              "ticks": ""
             }
            },
            "type": "scatterternary"
           }
          ],
          "surface": [
           {
            "colorbar": {
             "outlinewidth": 0,
             "ticks": ""
            },
            "colorscale": [
             [
              0,
              "#0d0887"
             ],
             [
              0.1111111111111111,
              "#46039f"
             ],
             [
              0.2222222222222222,
              "#7201a8"
             ],
             [
              0.3333333333333333,
              "#9c179e"
             ],
             [
              0.4444444444444444,
              "#bd3786"
             ],
             [
              0.5555555555555556,
              "#d8576b"
             ],
             [
              0.6666666666666666,
              "#ed7953"
             ],
             [
              0.7777777777777778,
              "#fb9f3a"
             ],
             [
              0.8888888888888888,
              "#fdca26"
             ],
             [
              1,
              "#f0f921"
             ]
            ],
            "type": "surface"
           }
          ],
          "table": [
           {
            "cells": {
             "fill": {
              "color": "#EBF0F8"
             },
             "line": {
              "color": "white"
             }
            },
            "header": {
             "fill": {
              "color": "#C8D4E3"
             },
             "line": {
              "color": "white"
             }
            },
            "type": "table"
           }
          ]
         },
         "layout": {
          "annotationdefaults": {
           "arrowcolor": "#2a3f5f",
           "arrowhead": 0,
           "arrowwidth": 1
          },
          "autotypenumbers": "strict",
          "coloraxis": {
           "colorbar": {
            "outlinewidth": 0,
            "ticks": ""
           }
          },
          "colorscale": {
           "diverging": [
            [
             0,
             "#8e0152"
            ],
            [
             0.1,
             "#c51b7d"
            ],
            [
             0.2,
             "#de77ae"
            ],
            [
             0.3,
             "#f1b6da"
            ],
            [
             0.4,
             "#fde0ef"
            ],
            [
             0.5,
             "#f7f7f7"
            ],
            [
             0.6,
             "#e6f5d0"
            ],
            [
             0.7,
             "#b8e186"
            ],
            [
             0.8,
             "#7fbc41"
            ],
            [
             0.9,
             "#4d9221"
            ],
            [
             1,
             "#276419"
            ]
           ],
           "sequential": [
            [
             0,
             "#0d0887"
            ],
            [
             0.1111111111111111,
             "#46039f"
            ],
            [
             0.2222222222222222,
             "#7201a8"
            ],
            [
             0.3333333333333333,
             "#9c179e"
            ],
            [
             0.4444444444444444,
             "#bd3786"
            ],
            [
             0.5555555555555556,
             "#d8576b"
            ],
            [
             0.6666666666666666,
             "#ed7953"
            ],
            [
             0.7777777777777778,
             "#fb9f3a"
            ],
            [
             0.8888888888888888,
             "#fdca26"
            ],
            [
             1,
             "#f0f921"
            ]
           ],
           "sequentialminus": [
            [
             0,
             "#0d0887"
            ],
            [
             0.1111111111111111,
             "#46039f"
            ],
            [
             0.2222222222222222,
             "#7201a8"
            ],
            [
             0.3333333333333333,
             "#9c179e"
            ],
            [
             0.4444444444444444,
             "#bd3786"
            ],
            [
             0.5555555555555556,
             "#d8576b"
            ],
            [
             0.6666666666666666,
             "#ed7953"
            ],
            [
             0.7777777777777778,
             "#fb9f3a"
            ],
            [
             0.8888888888888888,
             "#fdca26"
            ],
            [
             1,
             "#f0f921"
            ]
           ]
          },
          "colorway": [
           "#636efa",
           "#EF553B",
           "#00cc96",
           "#ab63fa",
           "#FFA15A",
           "#19d3f3",
           "#FF6692",
           "#B6E880",
           "#FF97FF",
           "#FECB52"
          ],
          "font": {
           "color": "#2a3f5f"
          },
          "geo": {
           "bgcolor": "white",
           "lakecolor": "white",
           "landcolor": "#E5ECF6",
           "showlakes": true,
           "showland": true,
           "subunitcolor": "white"
          },
          "hoverlabel": {
           "align": "left"
          },
          "hovermode": "closest",
          "mapbox": {
           "style": "light"
          },
          "paper_bgcolor": "white",
          "plot_bgcolor": "#E5ECF6",
          "polar": {
           "angularaxis": {
            "gridcolor": "white",
            "linecolor": "white",
            "ticks": ""
           },
           "bgcolor": "#E5ECF6",
           "radialaxis": {
            "gridcolor": "white",
            "linecolor": "white",
            "ticks": ""
           }
          },
          "scene": {
           "xaxis": {
            "backgroundcolor": "#E5ECF6",
            "gridcolor": "white",
            "gridwidth": 2,
            "linecolor": "white",
            "showbackground": true,
            "ticks": "",
            "zerolinecolor": "white"
           },
           "yaxis": {
            "backgroundcolor": "#E5ECF6",
            "gridcolor": "white",
            "gridwidth": 2,
            "linecolor": "white",
            "showbackground": true,
            "ticks": "",
            "zerolinecolor": "white"
           },
           "zaxis": {
            "backgroundcolor": "#E5ECF6",
            "gridcolor": "white",
            "gridwidth": 2,
            "linecolor": "white",
            "showbackground": true,
            "ticks": "",
            "zerolinecolor": "white"
           }
          },
          "shapedefaults": {
           "line": {
            "color": "#2a3f5f"
           }
          },
          "ternary": {
           "aaxis": {
            "gridcolor": "white",
            "linecolor": "white",
            "ticks": ""
           },
           "baxis": {
            "gridcolor": "white",
            "linecolor": "white",
            "ticks": ""
           },
           "bgcolor": "#E5ECF6",
           "caxis": {
            "gridcolor": "white",
            "linecolor": "white",
            "ticks": ""
           }
          },
          "title": {
           "x": 0.05
          },
          "xaxis": {
           "automargin": true,
           "gridcolor": "white",
           "linecolor": "white",
           "ticks": "",
           "title": {
            "standoff": 15
           },
           "zerolinecolor": "white",
           "zerolinewidth": 2
          },
          "yaxis": {
           "automargin": true,
           "gridcolor": "white",
           "linecolor": "white",
           "ticks": "",
           "title": {
            "standoff": 15
           },
           "zerolinecolor": "white",
           "zerolinewidth": 2
          }
         }
        },
        "xaxis": {
         "anchor": "y",
         "domain": [
          0,
          1
         ],
         "title": {
          "text": "rmse"
         },
         "type": "log"
        },
        "yaxis": {
         "anchor": "x",
         "domain": [
          0,
          1
         ],
         "title": {
          "text": "signature_quantiles_max"
         }
        }
       }
      }
     },
     "metadata": {},
     "output_type": "display_data"
    }
   ],
   "source": [
    "px.scatter(\n",
    "    df, x=\"rmse\", y=\"signature_quantiles_max\", log_x=True\n",
    ")"
   ]
  },
  {
   "cell_type": "code",
   "execution_count": null,
   "metadata": {},
   "outputs": [],
   "source": []
  }
 ],
 "metadata": {
  "kernelspec": {
   "display_name": "lst",
   "language": "python",
   "name": "python3"
  },
  "language_info": {
   "codemirror_mode": {
    "name": "ipython",
    "version": 3
   },
   "file_extension": ".py",
   "mimetype": "text/x-python",
   "name": "python",
   "nbconvert_exporter": "python",
   "pygments_lexer": "ipython3",
   "version": "3.10.9"
  },
  "orig_nbformat": 4,
  "vscode": {
   "interpreter": {
    "hash": "2716be4700d3d1913b28215c7671d211a6c17f92678fa65b7b72e05e70638535"
   }
  }
 },
 "nbformat": 4,
 "nbformat_minor": 2
}
