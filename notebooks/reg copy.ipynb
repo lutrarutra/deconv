{
 "cells": [
  {
   "cell_type": "code",
   "execution_count": 1,
   "metadata": {},
   "outputs": [
    {
     "name": "stderr",
     "output_type": "stream",
     "text": [
      "Global seed set to 0\n"
     ]
    }
   ],
   "source": [
    "import deconV as dv\n",
    "import scout\n",
    "\n",
    "import glob, tqdm, time, os\n",
    "import torch\n",
    "import matplotlib\n",
    "import matplotlib.pyplot as plt\n",
    "from matplotlib import rcParams\n",
    "\n",
    "import pandas as pd\n",
    "import numpy as np\n",
    "import scanpy as sc\n",
    "import scvi\n",
    "import seaborn as sns\n",
    "import tqdm\n",
    "import scout\n",
    "\n",
    "import torch\n",
    "import torch.nn as nn\n",
    "import torch.nn.functional as F\n",
    "import torch.distributions as D\n",
    "\n",
    "import plotly.express as px\n",
    "\n",
    "%load_ext autoreload\n",
    "%autoreload 2"
   ]
  },
  {
   "cell_type": "code",
   "execution_count": 2,
   "metadata": {},
   "outputs": [],
   "source": [
    "params = {\n",
    "    \"cell_type_key\": \"cellType\",\n",
    "    \"fig_fmt\": \"png\",\n",
    "\n",
    "\n",
    "    \"selected_ct\": [\"0\", \"1\", \"2\"],\n",
    "    \"bulk_file\": \"../../data/synthetic100/bulk.csv\",\n",
    "    \"ref_annot_file\": \"../../data/GSE136148/pdata.tsv\",\n",
    "    \"ref_file\": \"../../data/GSE136148/sc.tsv\",\n",
    "    \n",
    "    \"outdir\": \"out\",\n",
    "    \"figsize\": (8,8),\n",
    "    \"dpi\": 80,\n",
    "}\n",
    "\n",
    "sc.settings.set_figure_params(dpi=80, facecolor='white')\n",
    "plt.rc(\"patch\", edgecolor=\"black\", facecolor=\"royalblue\", linewidth=1.0)\n",
    "plt.rc(\"axes\", facecolor=\"white\", edgecolor=\"black\", linewidth=1.0)\n",
    "\n",
    "sc.settings.verbosity = 0"
   ]
  },
  {
   "cell_type": "code",
   "execution_count": 3,
   "metadata": {},
   "outputs": [
    {
     "name": "stdout",
     "output_type": "stream",
     "text": [
      "scRNA-seq data - cells: 3022, genes: 33694\n"
     ]
    }
   ],
   "source": [
    "sadata = dv.tl.read_data(params[\"ref_file\"])\n",
    "print(f\"scRNA-seq data - cells: {sadata.shape[0]}, genes: {sadata.shape[1]}\")"
   ]
  },
  {
   "cell_type": "code",
   "execution_count": 4,
   "metadata": {},
   "outputs": [
    {
     "name": "stdout",
     "output_type": "stream",
     "text": [
      "Reading pheno data...\n"
     ]
    }
   ],
   "source": [
    "print(\"Reading pheno data...\")\n",
    "pheno_df = pd.read_csv(params[\"ref_annot_file\"], sep=\"\\t\", index_col=0)\n",
    "pheno_df.index.name = None"
   ]
  },
  {
   "cell_type": "code",
   "execution_count": 5,
   "metadata": {},
   "outputs": [
    {
     "data": {
      "text/plain": [
       "3022"
      ]
     },
     "execution_count": 5,
     "metadata": {},
     "output_type": "execute_result"
    }
   ],
   "source": [
    "common_cells = list(set(pheno_df.index.tolist()) & set(sadata.obs_names.tolist()))\n",
    "len(common_cells)"
   ]
  },
  {
   "cell_type": "code",
   "execution_count": 6,
   "metadata": {},
   "outputs": [
    {
     "data": {
      "text/plain": [
       "cellType\n",
       "0    1988\n",
       "1     686\n",
       "2     319\n",
       "3      29\n",
       "dtype: int64"
      ]
     },
     "execution_count": 6,
     "metadata": {},
     "output_type": "execute_result"
    }
   ],
   "source": [
    "sadata = sadata[common_cells, :].copy()\n",
    "pheno_df = pheno_df.loc[common_cells, :].copy()\n",
    "sadata.obs[params[\"cell_type_key\"]] = pheno_df[params[\"cell_type_key\"]].tolist()\n",
    "sadata.obs.groupby(params[\"cell_type_key\"]).size()"
   ]
  },
  {
   "cell_type": "code",
   "execution_count": 7,
   "metadata": {},
   "outputs": [
    {
     "name": "stdout",
     "output_type": "stream",
     "text": [
      "Reading bulk data...\n",
      "bulk RNA-seq data - samples: 8424, genes: 100\n"
     ]
    }
   ],
   "source": [
    "print(\"Reading bulk data...\")\n",
    "bulk_df = pd.read_csv(params[\"bulk_file\"], sep=\",\", index_col=None)\n",
    "if bulk_df.iloc[:,0].dtype == \"O\":\n",
    "    bulk_df.set_index(bulk_df.columns[0], inplace=True)\n",
    "print(f\"bulk RNA-seq data - samples: {bulk_df.shape[0]}, genes: {bulk_df.shape[1]}\")"
   ]
  },
  {
   "cell_type": "code",
   "execution_count": 8,
   "metadata": {},
   "outputs": [
    {
     "data": {
      "text/plain": [
       "cellType\n",
       "0    1988\n",
       "1     686\n",
       "2     319\n",
       "dtype: int64"
      ]
     },
     "execution_count": 8,
     "metadata": {},
     "output_type": "execute_result"
    }
   ],
   "source": [
    "if params[\"selected_ct\"] is not None and len(params[\"selected_ct\"]) > 0:\n",
    "    sadata = sadata[sadata.obs[params[\"cell_type_key\"]].astype(\"str\").isin(params[\"selected_ct\"]), :].copy()\n",
    "\n",
    "sadata.obs[params[\"cell_type_key\"]] = sadata.obs[params[\"cell_type_key\"]].astype(\"category\")\n",
    "sadata.obs.groupby(params[\"cell_type_key\"]).size()"
   ]
  },
  {
   "cell_type": "code",
   "execution_count": 9,
   "metadata": {},
   "outputs": [],
   "source": [
    "true_df = pd.read_csv(\"../../data/synthetic100/bulk_proportions.csv\", index_col=0)\n",
    "true_df.drop(columns=\"n_cells\", inplace=True)"
   ]
  },
  {
   "cell_type": "code",
   "execution_count": 10,
   "metadata": {},
   "outputs": [
    {
     "name": "stdout",
     "output_type": "stream",
     "text": [
      "scRNA-seq data - cells: 2993, genes: 8424\n",
      "bulk RNA-seq data - samples: 100, genes: 8424\n"
     ]
    }
   ],
   "source": [
    "sc.pp.filter_cells(sadata, min_genes=200)\n",
    "sc.pp.filter_genes(sadata, min_cells=3)\n",
    "adata = dv.tl.combine(sadata, bulk_df)\n",
    "scout.tl.scale_log_center(adata, target_sum=None, exclude_highly_expressed=True)"
   ]
  },
  {
   "cell_type": "code",
   "execution_count": 11,
   "metadata": {},
   "outputs": [
    {
     "name": "stdout",
     "output_type": "stream",
     "text": [
      "Warning: some p-values (126) were 0, scattering them around 321.9\n",
      "Warning: some p-values (92) were 0, scattering them around 317.3\n",
      "Warning: some p-values (14) were 0, scattering them around 299.0\n",
      "Added results to: adata.uns['de']['cellType']\n"
     ]
    }
   ],
   "source": [
    "decon = dv.DeconV(adata, cell_type_key=\"cellType\", sub_type_key=None, layer=\"counts\")"
   ]
  },
  {
   "cell_type": "code",
   "execution_count": 12,
   "metadata": {},
   "outputs": [],
   "source": [
    "decon.filter_outliers(dropout_factor_quantile=0.9, pseudobulk_lims=(-10, 10), aggregate=\"max\")"
   ]
  },
  {
   "cell_type": "code",
   "execution_count": 13,
   "metadata": {},
   "outputs": [],
   "source": [
    "decon.init_dataset(\n",
    "    weight_type=None, weight_agg=\"min\",\n",
    "    inverse_weight=False, log_weight=False, quantiles=(0, 1)\n",
    ")"
   ]
  },
  {
   "cell_type": "code",
   "execution_count": 20,
   "metadata": {},
   "outputs": [
    {
     "name": "stdout",
     "output_type": "stream",
     "text": [
      "Sample: 0/100 | Using 5378 genes (63.8%)\n"
     ]
    },
    {
     "name": "stderr",
     "output_type": "stream",
     "text": [
      "100%|██████████| 50/50 [00:00<00:00, 1873.63it/s, loss=4930.6, p=0.33 0.33 0.33, lib_size=1648.7]\n"
     ]
    },
    {
     "name": "stdout",
     "output_type": "stream",
     "text": [
      "Sample: 1/100 | Using 5378 genes (63.8%)\n"
     ]
    },
    {
     "name": "stderr",
     "output_type": "stream",
     "text": [
      "100%|██████████| 50/50 [00:00<00:00, 1913.22it/s, loss=4864.8, p=0.33 0.33 0.33, lib_size=1648.7]\n"
     ]
    },
    {
     "name": "stdout",
     "output_type": "stream",
     "text": [
      "Sample: 2/100 | Using 5378 genes (63.8%)\n"
     ]
    },
    {
     "name": "stderr",
     "output_type": "stream",
     "text": [
      "100%|██████████| 50/50 [00:00<00:00, 1627.73it/s, loss=4811.7, p=0.33 0.33 0.33, lib_size=1648.7]\n"
     ]
    },
    {
     "name": "stdout",
     "output_type": "stream",
     "text": [
      "Sample: 3/100 | Using 5378 genes (63.8%)\n"
     ]
    },
    {
     "name": "stderr",
     "output_type": "stream",
     "text": [
      "100%|██████████| 50/50 [00:00<00:00, 1539.06it/s, loss=4833.0, p=0.33 0.33 0.33, lib_size=1648.7]\n"
     ]
    },
    {
     "name": "stdout",
     "output_type": "stream",
     "text": [
      "Sample: 4/100 | Using 5378 genes (63.8%)\n"
     ]
    },
    {
     "name": "stderr",
     "output_type": "stream",
     "text": [
      "100%|██████████| 50/50 [00:00<00:00, 1688.16it/s, loss=4825.9, p=0.33 0.33 0.33, lib_size=1648.7]\n"
     ]
    },
    {
     "name": "stdout",
     "output_type": "stream",
     "text": [
      "Sample: 5/100 | Using 5378 genes (63.8%)\n"
     ]
    },
    {
     "name": "stderr",
     "output_type": "stream",
     "text": [
      "100%|██████████| 50/50 [00:00<00:00, 1671.36it/s, loss=4827.5, p=0.33 0.33 0.33, lib_size=1648.7]\n"
     ]
    },
    {
     "name": "stdout",
     "output_type": "stream",
     "text": [
      "Sample: 6/100 | Using 5378 genes (63.8%)\n"
     ]
    },
    {
     "name": "stderr",
     "output_type": "stream",
     "text": [
      "100%|██████████| 50/50 [00:00<00:00, 1667.24it/s, loss=4842.1, p=0.33 0.33 0.33, lib_size=1648.7]\n"
     ]
    },
    {
     "name": "stdout",
     "output_type": "stream",
     "text": [
      "Sample: 7/100 | Using 5378 genes (63.8%)\n"
     ]
    },
    {
     "name": "stderr",
     "output_type": "stream",
     "text": [
      "100%|██████████| 50/50 [00:00<00:00, 1532.74it/s, loss=5259.6, p=0.33 0.33 0.33, lib_size=1648.7]\n"
     ]
    },
    {
     "name": "stdout",
     "output_type": "stream",
     "text": [
      "Sample: 8/100 | Using 5378 genes (63.8%)\n"
     ]
    },
    {
     "name": "stderr",
     "output_type": "stream",
     "text": [
      "100%|██████████| 50/50 [00:00<00:00, 1629.92it/s, loss=4933.6, p=0.33 0.33 0.33, lib_size=1648.7]\n"
     ]
    },
    {
     "name": "stdout",
     "output_type": "stream",
     "text": [
      "Sample: 9/100 | Using 5378 genes (63.8%)\n"
     ]
    },
    {
     "name": "stderr",
     "output_type": "stream",
     "text": [
      "100%|██████████| 50/50 [00:00<00:00, 1623.65it/s, loss=4896.2, p=0.33 0.33 0.33, lib_size=1648.7]\n"
     ]
    },
    {
     "name": "stdout",
     "output_type": "stream",
     "text": [
      "Sample: 10/100 | Using 5378 genes (63.8%)\n"
     ]
    },
    {
     "name": "stderr",
     "output_type": "stream",
     "text": [
      "100%|██████████| 50/50 [00:00<00:00, 1646.27it/s, loss=4834.9, p=0.33 0.33 0.33, lib_size=1648.7]\n"
     ]
    },
    {
     "name": "stdout",
     "output_type": "stream",
     "text": [
      "Sample: 11/100 | Using 5378 genes (63.8%)\n"
     ]
    },
    {
     "name": "stderr",
     "output_type": "stream",
     "text": [
      "100%|██████████| 50/50 [00:00<00:00, 1676.62it/s, loss=4894.7, p=0.33 0.33 0.33, lib_size=1648.7]\n"
     ]
    },
    {
     "name": "stdout",
     "output_type": "stream",
     "text": [
      "Sample: 12/100 | Using 5378 genes (63.8%)\n"
     ]
    },
    {
     "name": "stderr",
     "output_type": "stream",
     "text": [
      "100%|██████████| 50/50 [00:00<00:00, 1671.89it/s, loss=4899.6, p=0.33 0.33 0.33, lib_size=1648.7]\n"
     ]
    },
    {
     "name": "stdout",
     "output_type": "stream",
     "text": [
      "Sample: 13/100 | Using 5378 genes (63.8%)\n"
     ]
    },
    {
     "name": "stderr",
     "output_type": "stream",
     "text": [
      "100%|██████████| 50/50 [00:00<00:00, 1792.67it/s, loss=4945.9, p=0.33 0.33 0.33, lib_size=1648.7]\n"
     ]
    },
    {
     "name": "stdout",
     "output_type": "stream",
     "text": [
      "Sample: 14/100 | Using 5378 genes (63.8%)\n"
     ]
    },
    {
     "name": "stderr",
     "output_type": "stream",
     "text": [
      "100%|██████████| 50/50 [00:00<00:00, 1678.88it/s, loss=4867.2, p=0.33 0.33 0.33, lib_size=1648.7]\n"
     ]
    },
    {
     "name": "stdout",
     "output_type": "stream",
     "text": [
      "Sample: 15/100 | Using 5378 genes (63.8%)\n"
     ]
    },
    {
     "name": "stderr",
     "output_type": "stream",
     "text": [
      "100%|██████████| 50/50 [00:00<00:00, 1654.09it/s, loss=4805.2, p=0.33 0.33 0.33, lib_size=1648.7]\n"
     ]
    },
    {
     "name": "stdout",
     "output_type": "stream",
     "text": [
      "Sample: 16/100 | Using 5378 genes (63.8%)\n"
     ]
    },
    {
     "name": "stderr",
     "output_type": "stream",
     "text": [
      "100%|██████████| 50/50 [00:00<00:00, 1558.77it/s, loss=4824.6, p=0.33 0.33 0.33, lib_size=1648.7]\n"
     ]
    },
    {
     "name": "stdout",
     "output_type": "stream",
     "text": [
      "Sample: 17/100 | Using 5378 genes (63.8%)\n"
     ]
    },
    {
     "name": "stderr",
     "output_type": "stream",
     "text": [
      "100%|██████████| 50/50 [00:00<00:00, 1716.14it/s, loss=4927.6, p=0.33 0.33 0.33, lib_size=1648.7]\n"
     ]
    },
    {
     "name": "stdout",
     "output_type": "stream",
     "text": [
      "Sample: 18/100 | Using 5378 genes (63.8%)\n"
     ]
    },
    {
     "name": "stderr",
     "output_type": "stream",
     "text": [
      "100%|██████████| 50/50 [00:00<00:00, 1610.74it/s, loss=4835.5, p=0.33 0.33 0.33, lib_size=1648.7]\n"
     ]
    },
    {
     "name": "stdout",
     "output_type": "stream",
     "text": [
      "Sample: 19/100 | Using 5378 genes (63.8%)\n"
     ]
    },
    {
     "name": "stderr",
     "output_type": "stream",
     "text": [
      "100%|██████████| 50/50 [00:00<00:00, 1673.93it/s, loss=4893.2, p=0.33 0.33 0.33, lib_size=1648.7]\n"
     ]
    },
    {
     "name": "stdout",
     "output_type": "stream",
     "text": [
      "Sample: 20/100 | Using 5378 genes (63.8%)\n"
     ]
    },
    {
     "name": "stderr",
     "output_type": "stream",
     "text": [
      "100%|██████████| 50/50 [00:00<00:00, 1767.42it/s, loss=4804.5, p=0.33 0.33 0.33, lib_size=1648.7]\n"
     ]
    },
    {
     "name": "stdout",
     "output_type": "stream",
     "text": [
      "Sample: 21/100 | Using 5378 genes (63.8%)\n"
     ]
    },
    {
     "name": "stderr",
     "output_type": "stream",
     "text": [
      "100%|██████████| 50/50 [00:00<00:00, 1553.08it/s, loss=4834.1, p=0.33 0.33 0.33, lib_size=1648.7]\n"
     ]
    },
    {
     "name": "stdout",
     "output_type": "stream",
     "text": [
      "Sample: 22/100 | Using 5378 genes (63.8%)\n"
     ]
    },
    {
     "name": "stderr",
     "output_type": "stream",
     "text": [
      "100%|██████████| 50/50 [00:00<00:00, 1842.13it/s, loss=5262.0, p=0.33 0.33 0.33, lib_size=1648.7]\n"
     ]
    },
    {
     "name": "stdout",
     "output_type": "stream",
     "text": [
      "Sample: 23/100 | Using 5378 genes (63.8%)\n"
     ]
    },
    {
     "name": "stderr",
     "output_type": "stream",
     "text": [
      "100%|██████████| 50/50 [00:00<00:00, 1688.26it/s, loss=4931.0, p=0.33 0.33 0.33, lib_size=1648.7]\n"
     ]
    },
    {
     "name": "stdout",
     "output_type": "stream",
     "text": [
      "Sample: 24/100 | Using 5378 genes (63.8%)\n"
     ]
    },
    {
     "name": "stderr",
     "output_type": "stream",
     "text": [
      "100%|██████████| 50/50 [00:00<00:00, 1663.59it/s, loss=5139.8, p=0.33 0.33 0.33, lib_size=1648.7]\n"
     ]
    },
    {
     "name": "stdout",
     "output_type": "stream",
     "text": [
      "Sample: 25/100 | Using 5378 genes (63.8%)\n"
     ]
    },
    {
     "name": "stderr",
     "output_type": "stream",
     "text": [
      "100%|██████████| 50/50 [00:00<00:00, 1670.31it/s, loss=4817.7, p=0.33 0.33 0.33, lib_size=1648.7]\n"
     ]
    },
    {
     "name": "stdout",
     "output_type": "stream",
     "text": [
      "Sample: 26/100 | Using 5378 genes (63.8%)\n"
     ]
    },
    {
     "name": "stderr",
     "output_type": "stream",
     "text": [
      "100%|██████████| 50/50 [00:00<00:00, 1698.42it/s, loss=4870.3, p=0.33 0.33 0.33, lib_size=1648.7]\n"
     ]
    },
    {
     "name": "stdout",
     "output_type": "stream",
     "text": [
      "Sample: 27/100 | Using 5378 genes (63.8%)\n"
     ]
    },
    {
     "name": "stderr",
     "output_type": "stream",
     "text": [
      "100%|██████████| 50/50 [00:00<00:00, 1679.55it/s, loss=4857.4, p=0.33 0.33 0.33, lib_size=1648.7]\n"
     ]
    },
    {
     "name": "stdout",
     "output_type": "stream",
     "text": [
      "Sample: 28/100 | Using 5378 genes (63.8%)\n"
     ]
    },
    {
     "name": "stderr",
     "output_type": "stream",
     "text": [
      "100%|██████████| 50/50 [00:00<00:00, 1686.10it/s, loss=4850.4, p=0.33 0.33 0.33, lib_size=1648.7]\n"
     ]
    },
    {
     "name": "stdout",
     "output_type": "stream",
     "text": [
      "Sample: 29/100 | Using 5378 genes (63.8%)\n"
     ]
    },
    {
     "name": "stderr",
     "output_type": "stream",
     "text": [
      "100%|██████████| 50/50 [00:00<00:00, 1673.52it/s, loss=4962.4, p=0.33 0.33 0.33, lib_size=1648.7]\n"
     ]
    },
    {
     "name": "stdout",
     "output_type": "stream",
     "text": [
      "Sample: 30/100 | Using 5378 genes (63.8%)\n"
     ]
    },
    {
     "name": "stderr",
     "output_type": "stream",
     "text": [
      "100%|██████████| 50/50 [00:00<00:00, 1687.31it/s, loss=4875.2, p=0.33 0.33 0.33, lib_size=1648.7]\n"
     ]
    },
    {
     "name": "stdout",
     "output_type": "stream",
     "text": [
      "Sample: 31/100 | Using 5378 genes (63.8%)\n"
     ]
    },
    {
     "name": "stderr",
     "output_type": "stream",
     "text": [
      "100%|██████████| 50/50 [00:00<00:00, 1660.58it/s, loss=4788.7, p=0.33 0.33 0.33, lib_size=1648.7]\n"
     ]
    },
    {
     "name": "stdout",
     "output_type": "stream",
     "text": [
      "Sample: 32/100 | Using 5378 genes (63.8%)\n"
     ]
    },
    {
     "name": "stderr",
     "output_type": "stream",
     "text": [
      "100%|██████████| 50/50 [00:00<00:00, 1305.92it/s, loss=5049.1, p=0.33 0.33 0.33, lib_size=1648.7]\n"
     ]
    },
    {
     "name": "stdout",
     "output_type": "stream",
     "text": [
      "Sample: 33/100 | Using 5378 genes (63.8%)\n"
     ]
    },
    {
     "name": "stderr",
     "output_type": "stream",
     "text": [
      "100%|██████████| 50/50 [00:00<00:00, 1341.77it/s, loss=4839.6, p=0.33 0.33 0.33, lib_size=1648.7]\n"
     ]
    },
    {
     "name": "stdout",
     "output_type": "stream",
     "text": [
      "Sample: 34/100 | Using 5378 genes (63.8%)\n"
     ]
    },
    {
     "name": "stderr",
     "output_type": "stream",
     "text": [
      "100%|██████████| 50/50 [00:00<00:00, 1719.06it/s, loss=4825.9, p=0.33 0.33 0.33, lib_size=1648.7]\n"
     ]
    },
    {
     "name": "stdout",
     "output_type": "stream",
     "text": [
      "Sample: 35/100 | Using 5378 genes (63.8%)\n"
     ]
    },
    {
     "name": "stderr",
     "output_type": "stream",
     "text": [
      "100%|██████████| 50/50 [00:00<00:00, 1240.32it/s, loss=4921.5, p=0.33 0.33 0.33, lib_size=1648.7]\n"
     ]
    },
    {
     "name": "stdout",
     "output_type": "stream",
     "text": [
      "Sample: 36/100 | Using 5378 genes (63.8%)\n"
     ]
    },
    {
     "name": "stderr",
     "output_type": "stream",
     "text": [
      "100%|██████████| 50/50 [00:00<00:00, 1654.73it/s, loss=4802.1, p=0.33 0.33 0.33, lib_size=1648.7]\n"
     ]
    },
    {
     "name": "stdout",
     "output_type": "stream",
     "text": [
      "Sample: 37/100 | Using 5378 genes (63.8%)\n"
     ]
    },
    {
     "name": "stderr",
     "output_type": "stream",
     "text": [
      "100%|██████████| 50/50 [00:00<00:00, 1659.15it/s, loss=4851.2, p=0.33 0.33 0.33, lib_size=1648.7]\n"
     ]
    },
    {
     "name": "stdout",
     "output_type": "stream",
     "text": [
      "Sample: 38/100 | Using 5378 genes (63.8%)\n"
     ]
    },
    {
     "name": "stderr",
     "output_type": "stream",
     "text": [
      "100%|██████████| 50/50 [00:00<00:00, 1652.46it/s, loss=4942.4, p=0.33 0.33 0.33, lib_size=1648.7]\n"
     ]
    },
    {
     "name": "stdout",
     "output_type": "stream",
     "text": [
      "Sample: 39/100 | Using 5378 genes (63.8%)\n"
     ]
    },
    {
     "name": "stderr",
     "output_type": "stream",
     "text": [
      "100%|██████████| 50/50 [00:00<00:00, 1661.58it/s, loss=4844.8, p=0.33 0.33 0.33, lib_size=1648.7]\n"
     ]
    },
    {
     "name": "stdout",
     "output_type": "stream",
     "text": [
      "Sample: 40/100 | Using 5378 genes (63.8%)\n"
     ]
    },
    {
     "name": "stderr",
     "output_type": "stream",
     "text": [
      "100%|██████████| 50/50 [00:00<00:00, 1633.00it/s, loss=4802.2, p=0.33 0.33 0.33, lib_size=1648.7]\n"
     ]
    },
    {
     "name": "stdout",
     "output_type": "stream",
     "text": [
      "Sample: 41/100 | Using 5378 genes (63.8%)\n"
     ]
    },
    {
     "name": "stderr",
     "output_type": "stream",
     "text": [
      "100%|██████████| 50/50 [00:00<00:00, 1219.88it/s, loss=4932.0, p=0.33 0.33 0.33, lib_size=1648.7]\n"
     ]
    },
    {
     "name": "stdout",
     "output_type": "stream",
     "text": [
      "Sample: 42/100 | Using 5378 genes (63.8%)\n"
     ]
    },
    {
     "name": "stderr",
     "output_type": "stream",
     "text": [
      "100%|██████████| 50/50 [00:00<00:00, 1567.03it/s, loss=4958.0, p=0.33 0.33 0.33, lib_size=1648.7]\n"
     ]
    },
    {
     "name": "stdout",
     "output_type": "stream",
     "text": [
      "Sample: 43/100 | Using 5378 genes (63.8%)\n"
     ]
    },
    {
     "name": "stderr",
     "output_type": "stream",
     "text": [
      "100%|██████████| 50/50 [00:00<00:00, 1462.63it/s, loss=4783.0, p=0.33 0.33 0.33, lib_size=1648.7]\n"
     ]
    },
    {
     "name": "stdout",
     "output_type": "stream",
     "text": [
      "Sample: 44/100 | Using 5378 genes (63.8%)\n"
     ]
    },
    {
     "name": "stderr",
     "output_type": "stream",
     "text": [
      "100%|██████████| 50/50 [00:00<00:00, 1485.73it/s, loss=5300.5, p=0.33 0.33 0.33, lib_size=1648.7]\n"
     ]
    },
    {
     "name": "stdout",
     "output_type": "stream",
     "text": [
      "Sample: 45/100 | Using 5378 genes (63.8%)\n"
     ]
    },
    {
     "name": "stderr",
     "output_type": "stream",
     "text": [
      "100%|██████████| 50/50 [00:00<00:00, 1168.50it/s, loss=4963.6, p=0.33 0.33 0.33, lib_size=1648.7]\n"
     ]
    },
    {
     "name": "stdout",
     "output_type": "stream",
     "text": [
      "Sample: 46/100 | Using 5378 genes (63.8%)\n"
     ]
    },
    {
     "name": "stderr",
     "output_type": "stream",
     "text": [
      "100%|██████████| 50/50 [00:00<00:00, 1831.13it/s, loss=5066.7, p=0.33 0.33 0.33, lib_size=1648.7]\n"
     ]
    },
    {
     "name": "stdout",
     "output_type": "stream",
     "text": [
      "Sample: 47/100 | Using 5378 genes (63.8%)\n"
     ]
    },
    {
     "name": "stderr",
     "output_type": "stream",
     "text": [
      "100%|██████████| 50/50 [00:00<00:00, 1678.15it/s, loss=5005.7, p=0.33 0.33 0.33, lib_size=1648.7]\n"
     ]
    },
    {
     "name": "stdout",
     "output_type": "stream",
     "text": [
      "Sample: 48/100 | Using 5378 genes (63.8%)\n"
     ]
    },
    {
     "name": "stderr",
     "output_type": "stream",
     "text": [
      "100%|██████████| 50/50 [00:00<00:00, 1630.15it/s, loss=5321.7, p=0.33 0.33 0.33, lib_size=1648.7]\n"
     ]
    },
    {
     "name": "stdout",
     "output_type": "stream",
     "text": [
      "Sample: 49/100 | Using 5378 genes (63.8%)\n"
     ]
    },
    {
     "name": "stderr",
     "output_type": "stream",
     "text": [
      "100%|██████████| 50/50 [00:00<00:00, 1646.59it/s, loss=4818.6, p=0.33 0.33 0.33, lib_size=1648.7]\n"
     ]
    },
    {
     "name": "stdout",
     "output_type": "stream",
     "text": [
      "Sample: 50/100 | Using 5378 genes (63.8%)\n"
     ]
    },
    {
     "name": "stderr",
     "output_type": "stream",
     "text": [
      "100%|██████████| 50/50 [00:00<00:00, 1629.75it/s, loss=4960.5, p=0.33 0.33 0.33, lib_size=1648.7]\n"
     ]
    },
    {
     "name": "stdout",
     "output_type": "stream",
     "text": [
      "Sample: 51/100 | Using 5378 genes (63.8%)\n"
     ]
    },
    {
     "name": "stderr",
     "output_type": "stream",
     "text": [
      "100%|██████████| 50/50 [00:00<00:00, 1330.25it/s, loss=4804.4, p=0.33 0.33 0.33, lib_size=1648.7]\n"
     ]
    },
    {
     "name": "stdout",
     "output_type": "stream",
     "text": [
      "Sample: 52/100 | Using 5378 genes (63.8%)\n"
     ]
    },
    {
     "name": "stderr",
     "output_type": "stream",
     "text": [
      "100%|██████████| 50/50 [00:00<00:00, 1596.66it/s, loss=5131.7, p=0.33 0.33 0.33, lib_size=1648.7]\n"
     ]
    },
    {
     "name": "stdout",
     "output_type": "stream",
     "text": [
      "Sample: 53/100 | Using 5378 genes (63.8%)\n"
     ]
    },
    {
     "name": "stderr",
     "output_type": "stream",
     "text": [
      "100%|██████████| 50/50 [00:00<00:00, 1721.63it/s, loss=4807.9, p=0.33 0.33 0.33, lib_size=1648.7]\n"
     ]
    },
    {
     "name": "stdout",
     "output_type": "stream",
     "text": [
      "Sample: 54/100 | Using 5378 genes (63.8%)\n"
     ]
    },
    {
     "name": "stderr",
     "output_type": "stream",
     "text": [
      "100%|██████████| 50/50 [00:00<00:00, 1753.63it/s, loss=4901.1, p=0.33 0.33 0.33, lib_size=1648.7]\n"
     ]
    },
    {
     "name": "stdout",
     "output_type": "stream",
     "text": [
      "Sample: 55/100 | Using 5378 genes (63.8%)\n"
     ]
    },
    {
     "name": "stderr",
     "output_type": "stream",
     "text": [
      "100%|██████████| 50/50 [00:00<00:00, 1735.68it/s, loss=4861.3, p=0.33 0.33 0.33, lib_size=1648.7]\n"
     ]
    },
    {
     "name": "stdout",
     "output_type": "stream",
     "text": [
      "Sample: 56/100 | Using 5378 genes (63.8%)\n"
     ]
    },
    {
     "name": "stderr",
     "output_type": "stream",
     "text": [
      "100%|██████████| 50/50 [00:00<00:00, 1036.38it/s, loss=4800.2, p=0.33 0.33 0.33, lib_size=1648.7]\n"
     ]
    },
    {
     "name": "stdout",
     "output_type": "stream",
     "text": [
      "Sample: 57/100 | Using 5378 genes (63.8%)\n"
     ]
    },
    {
     "name": "stderr",
     "output_type": "stream",
     "text": [
      "100%|██████████| 50/50 [00:00<00:00, 1244.69it/s, loss=4968.6, p=0.33 0.33 0.33, lib_size=1648.7]\n"
     ]
    },
    {
     "name": "stdout",
     "output_type": "stream",
     "text": [
      "Sample: 58/100 | Using 5378 genes (63.8%)\n"
     ]
    },
    {
     "name": "stderr",
     "output_type": "stream",
     "text": [
      "100%|██████████| 50/50 [00:00<00:00, 1316.91it/s, loss=4810.9, p=0.33 0.33 0.33, lib_size=1648.7]\n"
     ]
    },
    {
     "name": "stdout",
     "output_type": "stream",
     "text": [
      "Sample: 59/100 | Using 5378 genes (63.8%)\n"
     ]
    },
    {
     "name": "stderr",
     "output_type": "stream",
     "text": [
      "100%|██████████| 50/50 [00:00<00:00, 1789.91it/s, loss=4837.5, p=0.33 0.33 0.33, lib_size=1648.7]\n"
     ]
    },
    {
     "name": "stdout",
     "output_type": "stream",
     "text": [
      "Sample: 60/100 | Using 5378 genes (63.8%)\n"
     ]
    },
    {
     "name": "stderr",
     "output_type": "stream",
     "text": [
      "100%|██████████| 50/50 [00:00<00:00, 1785.31it/s, loss=4903.1, p=0.33 0.33 0.33, lib_size=1648.7]\n"
     ]
    },
    {
     "name": "stdout",
     "output_type": "stream",
     "text": [
      "Sample: 61/100 | Using 5378 genes (63.8%)\n"
     ]
    },
    {
     "name": "stderr",
     "output_type": "stream",
     "text": [
      "100%|██████████| 50/50 [00:00<00:00, 1644.37it/s, loss=4821.8, p=0.33 0.33 0.33, lib_size=1648.7]\n"
     ]
    },
    {
     "name": "stdout",
     "output_type": "stream",
     "text": [
      "Sample: 62/100 | Using 5378 genes (63.8%)\n"
     ]
    },
    {
     "name": "stderr",
     "output_type": "stream",
     "text": [
      "100%|██████████| 50/50 [00:00<00:00, 1658.19it/s, loss=4916.9, p=0.33 0.33 0.33, lib_size=1648.7]\n"
     ]
    },
    {
     "name": "stdout",
     "output_type": "stream",
     "text": [
      "Sample: 63/100 | Using 5378 genes (63.8%)\n"
     ]
    },
    {
     "name": "stderr",
     "output_type": "stream",
     "text": [
      "100%|██████████| 50/50 [00:00<00:00, 1668.29it/s, loss=4889.4, p=0.33 0.33 0.33, lib_size=1648.7]\n"
     ]
    },
    {
     "name": "stdout",
     "output_type": "stream",
     "text": [
      "Sample: 64/100 | Using 5378 genes (63.8%)\n"
     ]
    },
    {
     "name": "stderr",
     "output_type": "stream",
     "text": [
      "100%|██████████| 50/50 [00:00<00:00, 1681.61it/s, loss=4825.9, p=0.33 0.33 0.33, lib_size=1648.7]\n"
     ]
    },
    {
     "name": "stdout",
     "output_type": "stream",
     "text": [
      "Sample: 65/100 | Using 5378 genes (63.8%)\n"
     ]
    },
    {
     "name": "stderr",
     "output_type": "stream",
     "text": [
      "100%|██████████| 50/50 [00:00<00:00, 1614.90it/s, loss=5133.1, p=0.33 0.33 0.33, lib_size=1648.7]\n"
     ]
    },
    {
     "name": "stdout",
     "output_type": "stream",
     "text": [
      "Sample: 66/100 | Using 5378 genes (63.8%)\n"
     ]
    },
    {
     "name": "stderr",
     "output_type": "stream",
     "text": [
      "100%|██████████| 50/50 [00:00<00:00, 1653.20it/s, loss=5393.9, p=0.33 0.33 0.33, lib_size=1648.7]\n"
     ]
    },
    {
     "name": "stdout",
     "output_type": "stream",
     "text": [
      "Sample: 67/100 | Using 5378 genes (63.8%)\n"
     ]
    },
    {
     "name": "stderr",
     "output_type": "stream",
     "text": [
      "100%|██████████| 50/50 [00:00<00:00, 1659.43it/s, loss=4791.3, p=0.33 0.33 0.33, lib_size=1648.7]\n"
     ]
    },
    {
     "name": "stdout",
     "output_type": "stream",
     "text": [
      "Sample: 68/100 | Using 5378 genes (63.8%)\n"
     ]
    },
    {
     "name": "stderr",
     "output_type": "stream",
     "text": [
      "100%|██████████| 50/50 [00:00<00:00, 1658.13it/s, loss=4799.5, p=0.33 0.33 0.33, lib_size=1648.7]\n"
     ]
    },
    {
     "name": "stdout",
     "output_type": "stream",
     "text": [
      "Sample: 69/100 | Using 5378 genes (63.8%)\n"
     ]
    },
    {
     "name": "stderr",
     "output_type": "stream",
     "text": [
      "100%|██████████| 50/50 [00:00<00:00, 1663.53it/s, loss=4888.4, p=0.33 0.33 0.33, lib_size=1648.7]\n"
     ]
    },
    {
     "name": "stdout",
     "output_type": "stream",
     "text": [
      "Sample: 70/100 | Using 5378 genes (63.8%)\n"
     ]
    },
    {
     "name": "stderr",
     "output_type": "stream",
     "text": [
      "100%|██████████| 50/50 [00:00<00:00, 1611.63it/s, loss=4904.9, p=0.33 0.33 0.33, lib_size=1648.7]\n"
     ]
    },
    {
     "name": "stdout",
     "output_type": "stream",
     "text": [
      "Sample: 71/100 | Using 5378 genes (63.8%)\n"
     ]
    },
    {
     "name": "stderr",
     "output_type": "stream",
     "text": [
      "100%|██████████| 50/50 [00:00<00:00, 1685.04it/s, loss=4925.4, p=0.33 0.33 0.33, lib_size=1648.7]\n"
     ]
    },
    {
     "name": "stdout",
     "output_type": "stream",
     "text": [
      "Sample: 72/100 | Using 5378 genes (63.8%)\n"
     ]
    },
    {
     "name": "stderr",
     "output_type": "stream",
     "text": [
      "100%|██████████| 50/50 [00:00<00:00, 1683.09it/s, loss=5134.6, p=0.33 0.33 0.33, lib_size=1648.7]\n"
     ]
    },
    {
     "name": "stdout",
     "output_type": "stream",
     "text": [
      "Sample: 73/100 | Using 5378 genes (63.8%)\n"
     ]
    },
    {
     "name": "stderr",
     "output_type": "stream",
     "text": [
      "100%|██████████| 50/50 [00:00<00:00, 1682.62it/s, loss=4996.1, p=0.33 0.33 0.33, lib_size=1648.7]\n"
     ]
    },
    {
     "name": "stdout",
     "output_type": "stream",
     "text": [
      "Sample: 74/100 | Using 5378 genes (63.8%)\n"
     ]
    },
    {
     "name": "stderr",
     "output_type": "stream",
     "text": [
      "100%|██████████| 50/50 [00:00<00:00, 1668.38it/s, loss=4876.8, p=0.33 0.33 0.33, lib_size=1648.7]\n"
     ]
    },
    {
     "name": "stdout",
     "output_type": "stream",
     "text": [
      "Sample: 75/100 | Using 5378 genes (63.8%)\n"
     ]
    },
    {
     "name": "stderr",
     "output_type": "stream",
     "text": [
      "100%|██████████| 50/50 [00:00<00:00, 1674.59it/s, loss=4797.0, p=0.33 0.33 0.33, lib_size=1648.7]\n"
     ]
    },
    {
     "name": "stdout",
     "output_type": "stream",
     "text": [
      "Sample: 76/100 | Using 5378 genes (63.8%)\n"
     ]
    },
    {
     "name": "stderr",
     "output_type": "stream",
     "text": [
      "100%|██████████| 50/50 [00:00<00:00, 1669.81it/s, loss=5006.5, p=0.33 0.33 0.33, lib_size=1648.7]\n"
     ]
    },
    {
     "name": "stdout",
     "output_type": "stream",
     "text": [
      "Sample: 77/100 | Using 5378 genes (63.8%)\n"
     ]
    },
    {
     "name": "stderr",
     "output_type": "stream",
     "text": [
      "100%|██████████| 50/50 [00:00<00:00, 1647.56it/s, loss=4845.7, p=0.33 0.33 0.33, lib_size=1648.7]\n"
     ]
    },
    {
     "name": "stdout",
     "output_type": "stream",
     "text": [
      "Sample: 78/100 | Using 5378 genes (63.8%)\n"
     ]
    },
    {
     "name": "stderr",
     "output_type": "stream",
     "text": [
      "100%|██████████| 50/50 [00:00<00:00, 1442.81it/s, loss=4889.5, p=0.33 0.33 0.33, lib_size=1648.7]\n"
     ]
    },
    {
     "name": "stdout",
     "output_type": "stream",
     "text": [
      "Sample: 79/100 | Using 5378 genes (63.8%)\n"
     ]
    },
    {
     "name": "stderr",
     "output_type": "stream",
     "text": [
      "100%|██████████| 50/50 [00:00<00:00, 1514.40it/s, loss=4857.5, p=0.33 0.33 0.33, lib_size=1648.7]\n"
     ]
    },
    {
     "name": "stdout",
     "output_type": "stream",
     "text": [
      "Sample: 80/100 | Using 5378 genes (63.8%)\n"
     ]
    },
    {
     "name": "stderr",
     "output_type": "stream",
     "text": [
      "100%|██████████| 50/50 [00:00<00:00, 1670.44it/s, loss=4840.8, p=0.33 0.33 0.33, lib_size=1648.7]\n"
     ]
    },
    {
     "name": "stdout",
     "output_type": "stream",
     "text": [
      "Sample: 81/100 | Using 5378 genes (63.8%)\n"
     ]
    },
    {
     "name": "stderr",
     "output_type": "stream",
     "text": [
      "100%|██████████| 50/50 [00:00<00:00, 1615.57it/s, loss=5041.2, p=0.33 0.33 0.33, lib_size=1648.7]\n"
     ]
    },
    {
     "name": "stdout",
     "output_type": "stream",
     "text": [
      "Sample: 82/100 | Using 5378 genes (63.8%)\n"
     ]
    },
    {
     "name": "stderr",
     "output_type": "stream",
     "text": [
      "100%|██████████| 50/50 [00:00<00:00, 1604.42it/s, loss=4939.2, p=0.33 0.33 0.33, lib_size=1648.7]\n"
     ]
    },
    {
     "name": "stdout",
     "output_type": "stream",
     "text": [
      "Sample: 83/100 | Using 5378 genes (63.8%)\n"
     ]
    },
    {
     "name": "stderr",
     "output_type": "stream",
     "text": [
      "100%|██████████| 50/50 [00:00<00:00, 1562.36it/s, loss=4828.2, p=0.33 0.33 0.33, lib_size=1648.7]\n"
     ]
    },
    {
     "name": "stdout",
     "output_type": "stream",
     "text": [
      "Sample: 84/100 | Using 5378 genes (63.8%)\n"
     ]
    },
    {
     "name": "stderr",
     "output_type": "stream",
     "text": [
      "100%|██████████| 50/50 [00:00<00:00, 1609.48it/s, loss=5039.4, p=0.33 0.33 0.33, lib_size=1648.7]\n"
     ]
    },
    {
     "name": "stdout",
     "output_type": "stream",
     "text": [
      "Sample: 85/100 | Using 5378 genes (63.8%)\n"
     ]
    },
    {
     "name": "stderr",
     "output_type": "stream",
     "text": [
      "100%|██████████| 50/50 [00:00<00:00, 1620.41it/s, loss=4876.0, p=0.33 0.33 0.33, lib_size=1648.7]\n"
     ]
    },
    {
     "name": "stdout",
     "output_type": "stream",
     "text": [
      "Sample: 86/100 | Using 5378 genes (63.8%)\n"
     ]
    },
    {
     "name": "stderr",
     "output_type": "stream",
     "text": [
      "100%|██████████| 50/50 [00:00<00:00, 1795.38it/s, loss=4911.4, p=0.33 0.33 0.33, lib_size=1648.7]\n"
     ]
    },
    {
     "name": "stdout",
     "output_type": "stream",
     "text": [
      "Sample: 87/100 | Using 5378 genes (63.8%)\n"
     ]
    },
    {
     "name": "stderr",
     "output_type": "stream",
     "text": [
      "100%|██████████| 50/50 [00:00<00:00, 1673.24it/s, loss=4827.8, p=0.33 0.33 0.33, lib_size=1648.7]\n"
     ]
    },
    {
     "name": "stdout",
     "output_type": "stream",
     "text": [
      "Sample: 88/100 | Using 5378 genes (63.8%)\n"
     ]
    },
    {
     "name": "stderr",
     "output_type": "stream",
     "text": [
      "100%|██████████| 50/50 [00:00<00:00, 1660.03it/s, loss=4860.7, p=0.33 0.33 0.33, lib_size=1648.7]\n"
     ]
    },
    {
     "name": "stdout",
     "output_type": "stream",
     "text": [
      "Sample: 89/100 | Using 5378 genes (63.8%)\n"
     ]
    },
    {
     "name": "stderr",
     "output_type": "stream",
     "text": [
      "100%|██████████| 50/50 [00:00<00:00, 1607.83it/s, loss=4982.6, p=0.33 0.33 0.33, lib_size=1648.7]\n"
     ]
    },
    {
     "name": "stdout",
     "output_type": "stream",
     "text": [
      "Sample: 90/100 | Using 5378 genes (63.8%)\n"
     ]
    },
    {
     "name": "stderr",
     "output_type": "stream",
     "text": [
      "100%|██████████| 50/50 [00:00<00:00, 1635.12it/s, loss=4843.7, p=0.33 0.33 0.33, lib_size=1648.7]\n"
     ]
    },
    {
     "name": "stdout",
     "output_type": "stream",
     "text": [
      "Sample: 91/100 | Using 5378 genes (63.8%)\n"
     ]
    },
    {
     "name": "stderr",
     "output_type": "stream",
     "text": [
      "100%|██████████| 50/50 [00:00<00:00, 1606.37it/s, loss=4826.1, p=0.33 0.33 0.33, lib_size=1648.7]\n"
     ]
    },
    {
     "name": "stdout",
     "output_type": "stream",
     "text": [
      "Sample: 92/100 | Using 5378 genes (63.8%)\n"
     ]
    },
    {
     "name": "stderr",
     "output_type": "stream",
     "text": [
      "100%|██████████| 50/50 [00:00<00:00, 1674.64it/s, loss=4944.2, p=0.33 0.33 0.33, lib_size=1648.7]\n"
     ]
    },
    {
     "name": "stdout",
     "output_type": "stream",
     "text": [
      "Sample: 93/100 | Using 5378 genes (63.8%)\n"
     ]
    },
    {
     "name": "stderr",
     "output_type": "stream",
     "text": [
      "100%|██████████| 50/50 [00:00<00:00, 1681.49it/s, loss=4997.2, p=0.33 0.33 0.33, lib_size=1648.7]\n"
     ]
    },
    {
     "name": "stdout",
     "output_type": "stream",
     "text": [
      "Sample: 94/100 | Using 5378 genes (63.8%)\n"
     ]
    },
    {
     "name": "stderr",
     "output_type": "stream",
     "text": [
      "100%|██████████| 50/50 [00:00<00:00, 1669.26it/s, loss=4840.9, p=0.33 0.33 0.33, lib_size=1648.7]\n"
     ]
    },
    {
     "name": "stdout",
     "output_type": "stream",
     "text": [
      "Sample: 95/100 | Using 5378 genes (63.8%)\n"
     ]
    },
    {
     "name": "stderr",
     "output_type": "stream",
     "text": [
      "100%|██████████| 50/50 [00:00<00:00, 1631.09it/s, loss=5308.2, p=0.33 0.33 0.33, lib_size=1648.7]\n"
     ]
    },
    {
     "name": "stdout",
     "output_type": "stream",
     "text": [
      "Sample: 96/100 | Using 5378 genes (63.8%)\n"
     ]
    },
    {
     "name": "stderr",
     "output_type": "stream",
     "text": [
      "100%|██████████| 50/50 [00:00<00:00, 1773.78it/s, loss=5093.3, p=0.33 0.33 0.33, lib_size=1648.7]\n"
     ]
    },
    {
     "name": "stdout",
     "output_type": "stream",
     "text": [
      "Sample: 97/100 | Using 5378 genes (63.8%)\n"
     ]
    },
    {
     "name": "stderr",
     "output_type": "stream",
     "text": [
      "100%|██████████| 50/50 [00:00<00:00, 1677.68it/s, loss=5381.9, p=0.33 0.33 0.33, lib_size=1648.7]\n"
     ]
    },
    {
     "name": "stdout",
     "output_type": "stream",
     "text": [
      "Sample: 98/100 | Using 5378 genes (63.8%)\n"
     ]
    },
    {
     "name": "stderr",
     "output_type": "stream",
     "text": [
      "100%|██████████| 50/50 [00:00<00:00, 1613.73it/s, loss=4875.5, p=0.33 0.33 0.33, lib_size=1648.7]\n"
     ]
    },
    {
     "name": "stdout",
     "output_type": "stream",
     "text": [
      "Sample: 99/100 | Using 5378 genes (63.8%)\n"
     ]
    },
    {
     "name": "stderr",
     "output_type": "stream",
     "text": [
      "100%|██████████| 50/50 [00:00<00:00, 1617.57it/s, loss=4807.5, p=0.33 0.33 0.33, lib_size=1648.7]\n"
     ]
    }
   ],
   "source": [
    "est_df = decon.deconvolute(\n",
    "    model_type=\"poisson\",\n",
    "    num_epochs=50,\n",
    "    lr=0.5,\n",
    "    use_outlier_genes=False,\n",
    "    progress_bar=True,\n",
    "    signature_quantiles=(0, 0.9),\n",
    ")"
   ]
  },
  {
   "cell_type": "code",
   "execution_count": 21,
   "metadata": {},
   "outputs": [
    {
     "data": {
      "image/png": "[encoded data removed]",
      "text/plain": [
       "<Figure size 800x800 with 1 Axes>"
      ]
     },
     "metadata": {
      "image/png": {
       "height": 705,
       "width": 807
      }
     },
     "output_type": "display_data"
    }
   ],
   "source": [
    "true_df = pd.read_csv(\"../../data/synthetic100/bulk_proportions.csv\", index_col=0)\n",
    "true_df.drop(columns=\"n_cells\", inplace=True)\n",
    "est_df.reset_index(drop=True, inplace=True)\n",
    "dv.pl.scatter_check(true_df, est_df)"
   ]
  },
  {
   "cell_type": "code",
   "execution_count": null,
   "metadata": {},
   "outputs": [],
   "source": []
  }
 ],
 "metadata": {
  "kernelspec": {
   "display_name": "lst",
   "language": "python",
   "name": "python3"
  },
  "language_info": {
   "codemirror_mode": {
    "name": "ipython",
    "version": 3
   },
   "file_extension": ".py",
   "mimetype": "text/x-python",
   "name": "python",
   "nbconvert_exporter": "python",
   "pygments_lexer": "ipython3",
   "version": "3.10.9"
  },
  "orig_nbformat": 4,
  "vscode": {
   "interpreter": {
    "hash": "2716be4700d3d1913b28215c7671d211a6c17f92678fa65b7b72e05e70638535"
   }
  }
 },
 "nbformat": 4,
 "nbformat_minor": 2
}
