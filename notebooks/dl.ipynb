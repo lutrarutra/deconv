{
 "cells": [
  {
   "cell_type": "code",
   "execution_count": 3,
   "metadata": {},
   "outputs": [
    {
     "name": "stderr",
     "output_type": "stream",
     "text": [
      "Global seed set to 0\n"
     ]
    }
   ],
   "source": [
    "import deconV.deconV as dv\n",
    "\n",
    "import glob, tqdm, time, os, warnings\n",
    "\n",
    "import torch\n",
    "import torch.nn as nn\n",
    "import torch.nn.functional as F\n",
    "import torch.distributions as D\n",
    "\n",
    "import matplotlib.pyplot as plt\n",
    "from matplotlib import rcParams\n",
    "\n",
    "import chart_studio.plotly as py\n",
    "import plotly.graph_objects as go\n",
    "import plotly.express as px\n",
    "\n",
    "import pandas as pd\n",
    "import numpy as np\n",
    "import scanpy as sc\n",
    "import scvi\n",
    "import seaborn as sns\n",
    "import tqdm\n",
    "import scout\n",
    "\n",
    "%load_ext autoreload\n",
    "%autoreload 2"
   ]
  },
  {
   "cell_type": "code",
   "execution_count": 4,
   "metadata": {},
   "outputs": [],
   "source": [
    "params = {\n",
    "    \"jupyter\": True,\n",
    "    \"tqdm\": True,\n",
    "    \"cell_type_key\": \"cellType\",\n",
    "    \"layer\": \"ncounts\",\n",
    "    \"index_col\": 0,\n",
    "    \"selected_ct\": [\"alpha\", \"delta\", \"gamma\", \"beta\"],\n",
    "    # \"selected_ct\": [\"0\", \"1\", \"2\"],\n",
    "    \"model_type\": \"poisson\",\n",
    "    \"ignore_others\": True,\n",
    "    \"n_top_genes\": -1,\n",
    "    \"plot_pseudo_bulk\": False,\n",
    "    \"lr\": 0.01,\n",
    "    \"epochs\": 5000,\n",
    "    \"fig_fmt\": \"png\",\n",
    "    \"indir\": \"../../data/xin/\",\n",
    "    # \"indir\": \"../../data/GSE136148/\",\n",
    "    \"outdir\": \"out\",\n",
    "    \"figsize\": (8, 8),\n",
    "    \"dpi\": 80,\n",
    "}\n"
   ]
  },
  {
   "cell_type": "code",
   "execution_count": 233,
   "metadata": {},
   "outputs": [
    {
     "data": {
      "text/plain": [
       "AnnData object with n_obs × n_vars = 748 × 18025\n",
       "    obs: 'sampleID', 'SubjectName', 'cellTypeID', 'cellType', 'n_genes'\n",
       "    var: 'n_cells'\n",
       "    uns: 'log1p'\n",
       "    layers: 'counts', 'ncounts', 'centered', 'logcentered'"
      ]
     },
     "execution_count": 233,
     "metadata": {},
     "output_type": "execute_result"
    }
   ],
   "source": [
    "adata = sc.read_csv(os.path.join(params[\"indir\"], \"sc.tsv\"), delimiter=\"\\t\")\n",
    "adata.obs = pd.read_csv(os.path.join(params[\"indir\"], \"pdata.tsv\"), sep=\"\\t\", index_col=0).loc[adata.obs.index]\n",
    "adata = adata[adata.obs[\"cellType\"].isin(params[\"selected_ct\"]), :].copy()\n",
    "sc.pp.filter_cells(adata, min_genes=200)\n",
    "sc.pp.filter_genes(adata, min_cells=3)\n",
    "scout.tl.scale_log_center(adata, target_sum=None)\n",
    "adata"
   ]
  },
  {
   "cell_type": "code",
   "execution_count": 234,
   "metadata": {},
   "outputs": [
    {
     "data": {
      "text/plain": [
       "227246.08"
      ]
     },
     "execution_count": 234,
     "metadata": {},
     "output_type": "execute_result"
    }
   ],
   "source": [
    "adata.layers[\"ncounts\"].max()"
   ]
  },
  {
   "cell_type": "code",
   "execution_count": 235,
   "metadata": {},
   "outputs": [
    {
     "data": {
      "text/plain": [
       "AnnData object with n_obs × n_vars = 18 × 39849"
      ]
     },
     "execution_count": 235,
     "metadata": {},
     "output_type": "execute_result"
    }
   ],
   "source": [
    "bdata = sc.read_csv(os.path.join(params[\"indir\"], \"bulk.tsv\"), delimiter=\"\\t\")\n",
    "bdata"
   ]
  },
  {
   "cell_type": "code",
   "execution_count": 236,
   "metadata": {},
   "outputs": [],
   "source": [
    "def create_dataset(adata, bdata, label_key, layer=\"counts\"):\n",
    "    common_genes = list(set(adata.var.index.values) & set(bdata.var.index.values))\n",
    "    _adata = adata[:, common_genes].copy()\n",
    "    _bdata = bdata[:, common_genes].copy()\n",
    "\n",
    "    X = torch.tensor(_adata.layers[layer].round())\n",
    "\n",
    "    Y = torch.tensor(_bdata.X)\n",
    "\n",
    "    return X, Y\n"
   ]
  },
  {
   "cell_type": "code",
   "execution_count": 237,
   "metadata": {},
   "outputs": [
    {
     "data": {
      "text/plain": [
       "(torch.Size([748, 17390]), torch.Size([18, 17390]))"
      ]
     },
     "execution_count": 237,
     "metadata": {},
     "output_type": "execute_result"
    }
   ],
   "source": [
    "X, Y = create_dataset(adata, bdata, params[\"cell_type_key\"], layer=\"ncounts\")\n",
    "X.shape, Y.shape"
   ]
  },
  {
   "cell_type": "code",
   "execution_count": 273,
   "metadata": {},
   "outputs": [],
   "source": [
    "class Encoder(nn.Module):\n",
    "    def __init__(self, in_features, n_latent=10, hidden_dim=128):\n",
    "        super().__init__()\n",
    "        self.in_features = in_features\n",
    "        self.n_latent = n_latent\n",
    "        self.hidden_dim = hidden_dim\n",
    "\n",
    "        self.enc = nn.Sequential(\n",
    "            nn.Linear(in_features=self.in_features, out_features=self.hidden_dim),\n",
    "            nn.ReLU(),\n",
    "            nn.Linear(in_features=self.hidden_dim, out_features=self.hidden_dim),\n",
    "            nn.ReLU()\n",
    "        )\n",
    "\n",
    "        self.mu_head = nn.Linear(in_features=self.hidden_dim, out_features=self.n_latent)\n",
    "        self.logvar_head = nn.Linear(in_features=self.hidden_dim, out_features=self.n_latent)\n",
    "\n",
    "    def forward(self, x):\n",
    "        _x = self.enc(x)\n",
    "        z_mu = self.mu_head(_x)\n",
    "        z_logvar = torch.tanh(self.logvar_head(_x)) * 20\n",
    "        return z_mu, z_logvar\n",
    "\n",
    "    def sample(Self, z_mu, z_logvar):\n",
    "        return z_mu + torch.exp(0.5 * z_logvar) * torch.randn(1)\n",
    "\n",
    "class Decoder(nn.Module):\n",
    "    def __init__(self, n_latent, out_features, hidden_dim=128):\n",
    "        super().__init__()\n",
    "        self.n_latent = n_latent\n",
    "        self.out_features = out_features\n",
    "        self.hidden_dim = hidden_dim\n",
    "\n",
    "        self.dec = nn.Sequential(\n",
    "            nn.Linear(in_features=self.n_latent, out_features=self.hidden_dim),\n",
    "            nn.ReLU(),\n",
    "            nn.Linear(in_features=self.hidden_dim, out_features=self.out_features)\n",
    "        )\n",
    "\n",
    "    def forward(self, z):\n",
    "        log_lambda = self.dec(z)\n",
    "        return (torch.tanh(log_lambda) * 20).exp()\n"
   ]
  },
  {
   "cell_type": "code",
   "execution_count": 301,
   "metadata": {},
   "outputs": [],
   "source": [
    "def loss_kl(z_mu, z_logvar):\n",
    "    return -0.5 * (1.0 + z_logvar - z_mu**2 - torch.exp(z_logvar)).sum() / len(z_mu)\n",
    "\n",
    "def loss_loglik(x_lambda, x):\n",
    "    dist = D.Poisson(x_lambda)\n",
    "    return dist.log_prob(x).sum() / x_lambda.shape[1]\n"
   ]
  },
  {
   "cell_type": "code",
   "execution_count": 316,
   "metadata": {},
   "outputs": [
    {
     "name": "stderr",
     "output_type": "stream",
     "text": [
      "100%|██████████| 100/100 [00:47<00:00,  2.10it/s, loss=-460148312.3]\n"
     ]
    }
   ],
   "source": [
    "enc = Encoder(X.shape[1])\n",
    "dec = Decoder(n_latent=enc.n_latent, out_features=X.shape[1])\n",
    "\n",
    "enc_optim = torch.optim.Adam(enc.parameters(), lr=1e-5)\n",
    "dec_optim = torch.optim.Adam(dec.parameters(), lr=1e-5)\n",
    "train_loader = torch.utils.data.DataLoader(X, batch_size=32)\n",
    "\n",
    "def fit(num_epochs):\n",
    "    pbar = tqdm.tqdm(range(num_epochs))\n",
    "    lh_losses = []\n",
    "    kl_losses = []\n",
    "    for epoch in pbar:\n",
    "        epoch_loss = 0.0\n",
    "        epoch_kl_loss = 0.0\n",
    "        epoch_lh_loss = 0.0\n",
    "        for x in train_loader:\n",
    "            z_mu, z_logvar = enc(x)\n",
    "            kl_loss = loss_kl(z_mu, z_logvar)\n",
    "            epoch_kl_loss += kl_loss.item()\n",
    "            z = enc.sample(z_mu, z_logvar)\n",
    "            \n",
    "            x_lambda = dec(z)\n",
    "            lh_loss = loss_loglik(x_lambda, x)\n",
    "            epoch_lh_loss += lh_loss.item()\n",
    "            \n",
    "            loss = kl_loss + lh_loss\n",
    "            loss.backward()\n",
    "\n",
    "            epoch_loss += loss.item()\n",
    "\n",
    "            dec_optim.step()\n",
    "            enc_optim.step()\n",
    "        \n",
    "        epoch_loss /= X.shape[0]\n",
    "        epoch_lh_loss /= X.shape[0]\n",
    "        epoch_kl_loss /= X.shape[0]\n",
    "\n",
    "        lh_losses.append(epoch_lh_loss)\n",
    "        kl_losses.append(epoch_kl_loss)\n",
    "        \n",
    "        pbar.set_postfix({\"loss\": f\"{epoch_loss:.1f}\"})\n",
    "\n",
    "    kl_losses = np.array(kl_losses)\n",
    "    lh_losses = np.array(lh_losses)\n",
    "    kl_losses /= kl_losses.max()\n",
    "    lh_losses /= lh_losses.max()\n",
    "\n",
    "    return kl_losses, lh_losses\n",
    "\n",
    "\n",
    "kl_losses, lh_losses = fit(100)\n"
   ]
  },
  {
   "cell_type": "code",
   "execution_count": 317,
   "metadata": {},
   "outputs": [],
   "source": [
    "def plot_losses(**kwargs):\n",
    "    fig = go.Figure()\n",
    "    for loss_name, loss in kwargs.items():\n",
    "        fig.add_trace(\n",
    "            go.Scatter(\n",
    "                x=list(range(0, len(loss))),\n",
    "                y=loss,\n",
    "                name=loss_name, showlegend=True\n",
    "            )\n",
    "        )\n",
    "    fig.update_layout(\n",
    "        width=1000, height=800\n",
    "    )\n",
    "    return fig"
   ]
  },
  {
   "cell_type": "code",
   "execution_count": 318,
   "metadata": {},
   "outputs": [
    {
     "data": {
      "application/vnd.plotly.v1+json": {
       "config": {
        "plotlyServerURL": "https://plot.ly"
       },
       "data": [
        {
         "name": "kl_losses",
         "showlegend": true,
         "type": "scatter",
         "x": [
          0,
          1,
          2,
          3,
          4,
          5,
          6,
          7,
          8,
          9,
          10,
          11,
          12,
          13,
          14,
          15,
          16,
          17,
          18,
          19,
          20,
          21,
          22,
          23,
          24,
          25,
          26,
          27,
          28,
          29,
          30,
          31,
          32,
          33,
          34,
          35,
          36,
          37,
          38,
          39,
          40,
          41,
          42,
          43,
          44,
          45,
          46,
          47,
          48,
          49,
          50,
          51,
          52,
          53,
          54,
          55,
          56,
          57,
          58,
          59,
          60,
          61,
          62,
          63,
          64,
          65,
          66,
          67,
          68,
          69,
          70,
          71,
          72,
          73,
          74,
          75,
          76,
          77,
          78,
          79,
          80,
          81,
          82,
          83,
          84,
          85,
          86,
          87,
          88,
          89,
          90,
          91,
          92,
          93,
          94,
          95,
          96,
          97,
          98,
          99
         ],
         "y": [
          1,
          0.8886776856596931,
          0.7606648247643032,
          0.7531255491257116,
          0.7946471567633407,
          0.7002724218642482,
          0.6011520646488916,
          0.5269311193468666,
          0.49510175039488974,
          0.48113626414383764,
          0.469560406096086,
          0.4662545393762711,
          0.46798851203443775,
          0.47038583508648113,
          0.4766817668022065,
          0.4839219552520015,
          0.48735052831251263,
          0.5132937444196011,
          0.5621928979931933,
          0.4964520776534017,
          0.48383576407386575,
          0.47558788134842495,
          0.4713180244081801,
          0.4692648342230443,
          0.4668809837505153,
          0.46557658339694935,
          0.4637530337312843,
          0.4622653849550466,
          0.4613997564346578,
          0.4605860723396016,
          0.46012277362566206,
          0.45944675514642885,
          0.45941318100349554,
          0.45842436656318075,
          0.4580009244800856,
          0.45796018182661413,
          0.4577434527789589,
          0.4584810959902791,
          0.4596133693635134,
          0.46052415026839205,
          0.4608159346644661,
          0.4609245078052587,
          0.4616754797223243,
          0.46088934745402266,
          0.4625100135243981,
          0.4645740194201149,
          0.46677778189709695,
          0.4694030381665529,
          0.47188390032359107,
          0.47479348473104493,
          0.4778532086100902,
          0.48106642541849143,
          0.4844342873453484,
          0.48794239382533683,
          0.491573264195529,
          0.4953155456166064,
          0.4991421346683943,
          0.5030367496360395,
          0.5069931967537886,
          0.5109971437963576,
          0.5150299255401211,
          0.5190762673866084,
          0.5231144755693576,
          0.5271279902175621,
          0.5311043206901805,
          0.5350254731745092,
          0.5388762114384159,
          0.5426365202427431,
          0.5462847202084058,
          0.5498162097726934,
          0.5529527562496194,
          0.5562392983243677,
          0.5583208016682855,
          0.5606890190568696,
          0.5581376024024848,
          0.5296310089350191,
          0.3657490518376926,
          0.35347657978068214,
          0.35500844096611917,
          0.3563447896890293,
          0.3574643817884785,
          0.3583577863389118,
          0.3590187664124451,
          0.35944508477197135,
          0.35962883795178247,
          0.359566305616003,
          0.3592608520129304,
          0.3587111415144094,
          0.3579161837893305,
          0.3568775518575676,
          0.35560779271072135,
          0.35412289911715916,
          0.3524356818370582,
          0.3505617391848691,
          0.3485156311860101,
          0.34631137354347324,
          0.3439641497356755,
          0.34148804620354545,
          0.33889882311952385,
          0.336209549017624
         ]
        },
        {
         "name": "lh_losses",
         "showlegend": true,
         "type": "scatter",
         "x": [
          0,
          1,
          2,
          3,
          4,
          5,
          6,
          7,
          8,
          9,
          10,
          11,
          12,
          13,
          14,
          15,
          16,
          17,
          18,
          19,
          20,
          21,
          22,
          23,
          24,
          25,
          26,
          27,
          28,
          29,
          30,
          31,
          32,
          33,
          34,
          35,
          36,
          37,
          38,
          39,
          40,
          41,
          42,
          43,
          44,
          45,
          46,
          47,
          48,
          49,
          50,
          51,
          52,
          53,
          54,
          55,
          56,
          57,
          58,
          59,
          60,
          61,
          62,
          63,
          64,
          65,
          66,
          67,
          68,
          69,
          70,
          71,
          72,
          73,
          74,
          75,
          76,
          77,
          78,
          79,
          80,
          81,
          82,
          83,
          84,
          85,
          86,
          87,
          88,
          89,
          90,
          91,
          92,
          93,
          94,
          95,
          96,
          97,
          98,
          99
         ],
         "y": [
          1,
          1.0140676881981376,
          1.0337830839620847,
          1.0581788025019534,
          1.0873319296731099,
          1.1229219276364406,
          1.1542017589811366,
          1.1867066022706443,
          1.2136080282122443,
          1.24488413728796,
          1.2856870744851148,
          1.3227971227429114,
          1.3444376898095174,
          1.3819306506626619,
          1.4028562227521224,
          1.4326328975015896,
          1.4499507440839607,
          1.4960731876972195,
          1.5080730626312326,
          1.523355146007745,
          1.5663890939083194,
          1.584510928082328,
          1.6104255222777364,
          1.6331929619653236,
          1.6424525266723853,
          1.6627567330577557,
          1.6765482432464571,
          1.7007024405488442,
          1.7189129058017711,
          1.7262144979416965,
          1.748545484006959,
          1.759598929146824,
          1.771107008787433,
          1.7870933381398526,
          1.8062528581884083,
          1.8087400428706915,
          1.8196636418762417,
          1.834449580278441,
          1.837577982766041,
          1.847447194922996,
          1.8554587444568402,
          1.8584712192263346,
          1.8647220483139204,
          1.8716987845632616,
          1.8773507391169963,
          1.8883534257877237,
          1.8878286449451722,
          1.8905615106341638,
          1.895357453049239,
          1.8963848555578586,
          1.9041854118055197,
          1.9063433036976107,
          1.9086316016117915,
          1.9117090458712989,
          1.9156856276957137,
          1.9168284908803748,
          1.919179788830082,
          1.9207198431551205,
          1.9227059198377836,
          1.9226174069261341,
          1.927555805611252,
          1.928506523189169,
          1.9285299231219784,
          1.9299089829832408,
          1.9289534008527418,
          1.9314272467011364,
          1.932860359647542,
          1.9325313988511064,
          1.9332646717726425,
          1.9340729190129846,
          1.934190610799609,
          1.9345683015270607,
          1.9349646373614897,
          1.9354929885436747,
          1.9353180531556384,
          1.936040246488933,
          1.937066681151348,
          1.9375086689407808,
          1.9377568230196232,
          1.9379176627405468,
          1.938265324914088,
          1.938463243835985,
          1.9387616218177472,
          1.9386038628863422,
          1.9388658791112654,
          1.9392842334468567,
          1.9392458262708578,
          1.9392461779591592,
          1.9393587519776243,
          1.9394574413419576,
          1.939479035003652,
          1.9398066875196072,
          1.9399919006465582,
          1.940065054626717,
          1.9401356032999404,
          1.9400187330571876,
          1.9404437694705017,
          1.9405798700295651,
          1.940565675889728,
          1.9406841498311342
         ]
        }
       ],
       "layout": {
        "height": 800,
        "template": {
         "data": {
          "bar": [
           {
            "error_x": {
             "color": "#2a3f5f"
            },
            "error_y": {
             "color": "#2a3f5f"
            },
            "marker": {
             "line": {
              "color": "#E5ECF6",
              "width": 0.5
             },
             "pattern": {
              "fillmode": "overlay",
              "size": 10,
              "solidity": 0.2
             }
            },
            "type": "bar"
           }
          ],
          "barpolar": [
           {
            "marker": {
             "line": {
              "color": "#E5ECF6",
              "width": 0.5
             },
             "pattern": {
              "fillmode": "overlay",
              "size": 10,
              "solidity": 0.2
             }
            },
            "type": "barpolar"
           }
          ],
          "carpet": [
           {
            "aaxis": {
             "endlinecolor": "#2a3f5f",
             "gridcolor": "white",
             "linecolor": "white",
             "minorgridcolor": "white",
             "startlinecolor": "#2a3f5f"
            },
            "baxis": {
             "endlinecolor": "#2a3f5f",
             "gridcolor": "white",
             "linecolor": "white",
             "minorgridcolor": "white",
             "startlinecolor": "#2a3f5f"
            },
            "type": "carpet"
           }
          ],
          "choropleth": [
           {
            "colorbar": {
             "outlinewidth": 0,
             "ticks": ""
            },
            "type": "choropleth"
           }
          ],
          "contour": [
           {
            "colorbar": {
             "outlinewidth": 0,
             "ticks": ""
            },
            "colorscale": [
             [
              0,
              "#0d0887"
             ],
             [
              0.1111111111111111,
              "#46039f"
             ],
             [
              0.2222222222222222,
              "#7201a8"
             ],
             [
              0.3333333333333333,
              "#9c179e"
             ],
             [
              0.4444444444444444,
              "#bd3786"
             ],
             [
              0.5555555555555556,
              "#d8576b"
             ],
             [
              0.6666666666666666,
              "#ed7953"
             ],
             [
              0.7777777777777778,
              "#fb9f3a"
             ],
             [
              0.8888888888888888,
              "#fdca26"
             ],
             [
              1,
              "#f0f921"
             ]
            ],
            "type": "contour"
           }
          ],
          "contourcarpet": [
           {
            "colorbar": {
             "outlinewidth": 0,
             "ticks": ""
            },
            "type": "contourcarpet"
           }
          ],
          "heatmap": [
           {
            "colorbar": {
             "outlinewidth": 0,
             "ticks": ""
            },
            "colorscale": [
             [
              0,
              "#0d0887"
             ],
             [
              0.1111111111111111,
              "#46039f"
             ],
             [
              0.2222222222222222,
              "#7201a8"
             ],
             [
              0.3333333333333333,
              "#9c179e"
             ],
             [
              0.4444444444444444,
              "#bd3786"
             ],
             [
              0.5555555555555556,
              "#d8576b"
             ],
             [
              0.6666666666666666,
              "#ed7953"
             ],
             [
              0.7777777777777778,
              "#fb9f3a"
             ],
             [
              0.8888888888888888,
              "#fdca26"
             ],
             [
              1,
              "#f0f921"
             ]
            ],
            "type": "heatmap"
           }
          ],
          "heatmapgl": [
           {
            "colorbar": {
             "outlinewidth": 0,
             "ticks": ""
            },
            "colorscale": [
             [
              0,
              "#0d0887"
             ],
             [
              0.1111111111111111,
              "#46039f"
             ],
             [
              0.2222222222222222,
              "#7201a8"
             ],
             [
              0.3333333333333333,
              "#9c179e"
             ],
             [
              0.4444444444444444,
              "#bd3786"
             ],
             [
              0.5555555555555556,
              "#d8576b"
             ],
             [
              0.6666666666666666,
              "#ed7953"
             ],
             [
              0.7777777777777778,
              "#fb9f3a"
             ],
             [
              0.8888888888888888,
              "#fdca26"
             ],
             [
              1,
              "#f0f921"
             ]
            ],
            "type": "heatmapgl"
           }
          ],
          "histogram": [
           {
            "marker": {
             "pattern": {
              "fillmode": "overlay",
              "size": 10,
              "solidity": 0.2
             }
            },
            "type": "histogram"
           }
          ],
          "histogram2d": [
           {
            "colorbar": {
             "outlinewidth": 0,
             "ticks": ""
            },
            "colorscale": [
             [
              0,
              "#0d0887"
             ],
             [
              0.1111111111111111,
              "#46039f"
             ],
             [
              0.2222222222222222,
              "#7201a8"
             ],
             [
              0.3333333333333333,
              "#9c179e"
             ],
             [
              0.4444444444444444,
              "#bd3786"
             ],
             [
              0.5555555555555556,
              "#d8576b"
             ],
             [
              0.6666666666666666,
              "#ed7953"
             ],
             [
              0.7777777777777778,
              "#fb9f3a"
             ],
             [
              0.8888888888888888,
              "#fdca26"
             ],
             [
              1,
              "#f0f921"
             ]
            ],
            "type": "histogram2d"
           }
          ],
          "histogram2dcontour": [
           {
            "colorbar": {
             "outlinewidth": 0,
             "ticks": ""
            },
            "colorscale": [
             [
              0,
              "#0d0887"
             ],
             [
              0.1111111111111111,
              "#46039f"
             ],
             [
              0.2222222222222222,
              "#7201a8"
             ],
             [
              0.3333333333333333,
              "#9c179e"
             ],
             [
              0.4444444444444444,
              "#bd3786"
             ],
             [
              0.5555555555555556,
              "#d8576b"
             ],
             [
              0.6666666666666666,
              "#ed7953"
             ],
             [
              0.7777777777777778,
              "#fb9f3a"
             ],
             [
              0.8888888888888888,
              "#fdca26"
             ],
             [
              1,
              "#f0f921"
             ]
            ],
            "type": "histogram2dcontour"
           }
          ],
          "mesh3d": [
           {
            "colorbar": {
             "outlinewidth": 0,
             "ticks": ""
            },
            "type": "mesh3d"
           }
          ],
          "parcoords": [
           {
            "line": {
             "colorbar": {
              "outlinewidth": 0,
              "ticks": ""
             }
            },
            "type": "parcoords"
           }
          ],
          "pie": [
           {
            "automargin": true,
            "type": "pie"
           }
          ],
          "scatter": [
           {
            "fillpattern": {
             "fillmode": "overlay",
             "size": 10,
             "solidity": 0.2
            },
            "type": "scatter"
           }
          ],
          "scatter3d": [
           {
            "line": {
             "colorbar": {
              "outlinewidth": 0,
              "ticks": ""
             }
            },
            "marker": {
             "colorbar": {
              "outlinewidth": 0,
              "ticks": ""
             }
            },
            "type": "scatter3d"
           }
          ],
          "scattercarpet": [
           {
            "marker": {
             "colorbar": {
              "outlinewidth": 0,
              "ticks": ""
             }
            },
            "type": "scattercarpet"
           }
          ],
          "scattergeo": [
           {
            "marker": {
             "colorbar": {
              "outlinewidth": 0,
              "ticks": ""
             }
            },
            "type": "scattergeo"
           }
          ],
          "scattergl": [
           {
            "marker": {
             "colorbar": {
              "outlinewidth": 0,
              "ticks": ""
             }
            },
            "type": "scattergl"
           }
          ],
          "scattermapbox": [
           {
            "marker": {
             "colorbar": {
              "outlinewidth": 0,
              "ticks": ""
             }
            },
            "type": "scattermapbox"
           }
          ],
          "scatterpolar": [
           {
            "marker": {
             "colorbar": {
              "outlinewidth": 0,
              "ticks": ""
             }
            },
            "type": "scatterpolar"
           }
          ],
          "scatterpolargl": [
           {
            "marker": {
             "colorbar": {
              "outlinewidth": 0,
              "ticks": ""
             }
            },
            "type": "scatterpolargl"
           }
          ],
          "scatterternary": [
           {
            "marker": {
             "colorbar": {
              "outlinewidth": 0,
              "ticks": ""
             }
            },
            "type": "scatterternary"
           }
          ],
          "surface": [
           {
            "colorbar": {
             "outlinewidth": 0,
             "ticks": ""
            },
            "colorscale": [
             [
              0,
              "#0d0887"
             ],
             [
              0.1111111111111111,
              "#46039f"
             ],
             [
              0.2222222222222222,
              "#7201a8"
             ],
             [
              0.3333333333333333,
              "#9c179e"
             ],
             [
              0.4444444444444444,
              "#bd3786"
             ],
             [
              0.5555555555555556,
              "#d8576b"
             ],
             [
              0.6666666666666666,
              "#ed7953"
             ],
             [
              0.7777777777777778,
              "#fb9f3a"
             ],
             [
              0.8888888888888888,
              "#fdca26"
             ],
             [
              1,
              "#f0f921"
             ]
            ],
            "type": "surface"
           }
          ],
          "table": [
           {
            "cells": {
             "fill": {
              "color": "#EBF0F8"
             },
             "line": {
              "color": "white"
             }
            },
            "header": {
             "fill": {
              "color": "#C8D4E3"
             },
             "line": {
              "color": "white"
             }
            },
            "type": "table"
           }
          ]
         },
         "layout": {
          "annotationdefaults": {
           "arrowcolor": "#2a3f5f",
           "arrowhead": 0,
           "arrowwidth": 1
          },
          "autotypenumbers": "strict",
          "coloraxis": {
           "colorbar": {
            "outlinewidth": 0,
            "ticks": ""
           }
          },
          "colorscale": {
           "diverging": [
            [
             0,
             "#8e0152"
            ],
            [
             0.1,
             "#c51b7d"
            ],
            [
             0.2,
             "#de77ae"
            ],
            [
             0.3,
             "#f1b6da"
            ],
            [
             0.4,
             "#fde0ef"
            ],
            [
             0.5,
             "#f7f7f7"
            ],
            [
             0.6,
             "#e6f5d0"
            ],
            [
             0.7,
             "#b8e186"
            ],
            [
             0.8,
             "#7fbc41"
            ],
            [
             0.9,
             "#4d9221"
            ],
            [
             1,
             "#276419"
            ]
           ],
           "sequential": [
            [
             0,
             "#0d0887"
            ],
            [
             0.1111111111111111,
             "#46039f"
            ],
            [
             0.2222222222222222,
             "#7201a8"
            ],
            [
             0.3333333333333333,
             "#9c179e"
            ],
            [
             0.4444444444444444,
             "#bd3786"
            ],
            [
             0.5555555555555556,
             "#d8576b"
            ],
            [
             0.6666666666666666,
             "#ed7953"
            ],
            [
             0.7777777777777778,
             "#fb9f3a"
            ],
            [
             0.8888888888888888,
             "#fdca26"
            ],
            [
             1,
             "#f0f921"
            ]
           ],
           "sequentialminus": [
            [
             0,
             "#0d0887"
            ],
            [
             0.1111111111111111,
             "#46039f"
            ],
            [
             0.2222222222222222,
             "#7201a8"
            ],
            [
             0.3333333333333333,
             "#9c179e"
            ],
            [
             0.4444444444444444,
             "#bd3786"
            ],
            [
             0.5555555555555556,
             "#d8576b"
            ],
            [
             0.6666666666666666,
             "#ed7953"
            ],
            [
             0.7777777777777778,
             "#fb9f3a"
            ],
            [
             0.8888888888888888,
             "#fdca26"
            ],
            [
             1,
             "#f0f921"
            ]
           ]
          },
          "colorway": [
           "#636efa",
           "#EF553B",
           "#00cc96",
           "#ab63fa",
           "#FFA15A",
           "#19d3f3",
           "#FF6692",
           "#B6E880",
           "#FF97FF",
           "#FECB52"
          ],
          "font": {
           "color": "#2a3f5f"
          },
          "geo": {
           "bgcolor": "white",
           "lakecolor": "white",
           "landcolor": "#E5ECF6",
           "showlakes": true,
           "showland": true,
           "subunitcolor": "white"
          },
          "hoverlabel": {
           "align": "left"
          },
          "hovermode": "closest",
          "mapbox": {
           "style": "light"
          },
          "paper_bgcolor": "white",
          "plot_bgcolor": "#E5ECF6",
          "polar": {
           "angularaxis": {
            "gridcolor": "white",
            "linecolor": "white",
            "ticks": ""
           },
           "bgcolor": "#E5ECF6",
           "radialaxis": {
            "gridcolor": "white",
            "linecolor": "white",
            "ticks": ""
           }
          },
          "scene": {
           "xaxis": {
            "backgroundcolor": "#E5ECF6",
            "gridcolor": "white",
            "gridwidth": 2,
            "linecolor": "white",
            "showbackground": true,
            "ticks": "",
            "zerolinecolor": "white"
           },
           "yaxis": {
            "backgroundcolor": "#E5ECF6",
            "gridcolor": "white",
            "gridwidth": 2,
            "linecolor": "white",
            "showbackground": true,
            "ticks": "",
            "zerolinecolor": "white"
           },
           "zaxis": {
            "backgroundcolor": "#E5ECF6",
            "gridcolor": "white",
            "gridwidth": 2,
            "linecolor": "white",
            "showbackground": true,
            "ticks": "",
            "zerolinecolor": "white"
           }
          },
          "shapedefaults": {
           "line": {
            "color": "#2a3f5f"
           }
          },
          "ternary": {
           "aaxis": {
            "gridcolor": "white",
            "linecolor": "white",
            "ticks": ""
           },
           "baxis": {
            "gridcolor": "white",
            "linecolor": "white",
            "ticks": ""
           },
           "bgcolor": "#E5ECF6",
           "caxis": {
            "gridcolor": "white",
            "linecolor": "white",
            "ticks": ""
           }
          },
          "title": {
           "x": 0.05
          },
          "xaxis": {
           "automargin": true,
           "gridcolor": "white",
           "linecolor": "white",
           "ticks": "",
           "title": {
            "standoff": 15
           },
           "zerolinecolor": "white",
           "zerolinewidth": 2
          },
          "yaxis": {
           "automargin": true,
           "gridcolor": "white",
           "linecolor": "white",
           "ticks": "",
           "title": {
            "standoff": 15
           },
           "zerolinecolor": "white",
           "zerolinewidth": 2
          }
         }
        },
        "width": 1000
       }
      },
      "text/html": [
       "<div>                            <div id=\"700a3b57-6216-4229-8f2e-807ae35bc2aa\" class=\"plotly-graph-div\" style=\"height:800px; width:1000px;\"></div>            <script type=\"text/javascript\">                require([\"plotly\"], function(Plotly) {                    window.PLOTLYENV=window.PLOTLYENV || {};                                    if (document.getElementById(\"700a3b57-6216-4229-8f2e-807ae35bc2aa\")) {                    Plotly.newPlot(                        \"700a3b57-6216-4229-8f2e-807ae35bc2aa\",                        [{\"name\":\"kl_losses\",\"showlegend\":true,\"x\":[0,1,2,3,4,5,6,7,8,9,10,11,12,13,14,15,16,17,18,19,20,21,22,23,24,25,26,27,28,29,30,31,32,33,34,35,36,37,38,39,40,41,42,43,44,45,46,47,48,49,50,51,52,53,54,55,56,57,58,59,60,61,62,63,64,65,66,67,68,69,70,71,72,73,74,75,76,77,78,79,80,81,82,83,84,85,86,87,88,89,90,91,92,93,94,95,96,97,98,99],\"y\":[1.0,0.8886776856596931,0.7606648247643032,0.7531255491257116,0.7946471567633407,0.7002724218642482,0.6011520646488916,0.5269311193468666,0.49510175039488974,0.48113626414383764,0.469560406096086,0.4662545393762711,0.46798851203443775,0.47038583508648113,0.4766817668022065,0.4839219552520015,0.48735052831251263,0.5132937444196011,0.5621928979931933,0.4964520776534017,0.48383576407386575,0.47558788134842495,0.4713180244081801,0.4692648342230443,0.4668809837505153,0.46557658339694935,0.4637530337312843,0.4622653849550466,0.4613997564346578,0.4605860723396016,0.46012277362566206,0.45944675514642885,0.45941318100349554,0.45842436656318075,0.4580009244800856,0.45796018182661413,0.4577434527789589,0.4584810959902791,0.4596133693635134,0.46052415026839205,0.4608159346644661,0.4609245078052587,0.4616754797223243,0.46088934745402266,0.4625100135243981,0.4645740194201149,0.46677778189709695,0.4694030381665529,0.47188390032359107,0.47479348473104493,0.4778532086100902,0.48106642541849143,0.4844342873453484,0.48794239382533683,0.491573264195529,0.4953155456166064,0.4991421346683943,0.5030367496360395,0.5069931967537886,0.5109971437963576,0.5150299255401211,0.5190762673866084,0.5231144755693576,0.5271279902175621,0.5311043206901805,0.5350254731745092,0.5388762114384159,0.5426365202427431,0.5462847202084058,0.5498162097726934,0.5529527562496194,0.5562392983243677,0.5583208016682855,0.5606890190568696,0.5581376024024848,0.5296310089350191,0.3657490518376926,0.35347657978068214,0.35500844096611917,0.3563447896890293,0.3574643817884785,0.3583577863389118,0.3590187664124451,0.35944508477197135,0.35962883795178247,0.359566305616003,0.3592608520129304,0.3587111415144094,0.3579161837893305,0.3568775518575676,0.35560779271072135,0.35412289911715916,0.3524356818370582,0.3505617391848691,0.3485156311860101,0.34631137354347324,0.3439641497356755,0.34148804620354545,0.33889882311952385,0.336209549017624],\"type\":\"scatter\"},{\"name\":\"lh_losses\",\"showlegend\":true,\"x\":[0,1,2,3,4,5,6,7,8,9,10,11,12,13,14,15,16,17,18,19,20,21,22,23,24,25,26,27,28,29,30,31,32,33,34,35,36,37,38,39,40,41,42,43,44,45,46,47,48,49,50,51,52,53,54,55,56,57,58,59,60,61,62,63,64,65,66,67,68,69,70,71,72,73,74,75,76,77,78,79,80,81,82,83,84,85,86,87,88,89,90,91,92,93,94,95,96,97,98,99],\"y\":[1.0,1.0140676881981376,1.0337830839620847,1.0581788025019534,1.0873319296731099,1.1229219276364406,1.1542017589811366,1.1867066022706443,1.2136080282122443,1.24488413728796,1.2856870744851148,1.3227971227429114,1.3444376898095174,1.3819306506626619,1.4028562227521224,1.4326328975015896,1.4499507440839607,1.4960731876972195,1.5080730626312326,1.523355146007745,1.5663890939083194,1.584510928082328,1.6104255222777364,1.6331929619653236,1.6424525266723853,1.6627567330577557,1.6765482432464571,1.7007024405488442,1.7189129058017711,1.7262144979416965,1.748545484006959,1.759598929146824,1.771107008787433,1.7870933381398526,1.8062528581884083,1.8087400428706915,1.8196636418762417,1.834449580278441,1.837577982766041,1.847447194922996,1.8554587444568402,1.8584712192263346,1.8647220483139204,1.8716987845632616,1.8773507391169963,1.8883534257877237,1.8878286449451722,1.8905615106341638,1.895357453049239,1.8963848555578586,1.9041854118055197,1.9063433036976107,1.9086316016117915,1.9117090458712989,1.9156856276957137,1.9168284908803748,1.919179788830082,1.9207198431551205,1.9227059198377836,1.9226174069261341,1.927555805611252,1.928506523189169,1.9285299231219784,1.9299089829832408,1.9289534008527418,1.9314272467011364,1.932860359647542,1.9325313988511064,1.9332646717726425,1.9340729190129846,1.934190610799609,1.9345683015270607,1.9349646373614897,1.9354929885436747,1.9353180531556384,1.936040246488933,1.937066681151348,1.9375086689407808,1.9377568230196232,1.9379176627405468,1.938265324914088,1.938463243835985,1.9387616218177472,1.9386038628863422,1.9388658791112654,1.9392842334468567,1.9392458262708578,1.9392461779591592,1.9393587519776243,1.9394574413419576,1.939479035003652,1.9398066875196072,1.9399919006465582,1.940065054626717,1.9401356032999404,1.9400187330571876,1.9404437694705017,1.9405798700295651,1.940565675889728,1.9406841498311342],\"type\":\"scatter\"}],                        {\"template\":{\"data\":{\"histogram2dcontour\":[{\"type\":\"histogram2dcontour\",\"colorbar\":{\"outlinewidth\":0,\"ticks\":\"\"},\"colorscale\":[[0.0,\"#0d0887\"],[0.1111111111111111,\"#46039f\"],[0.2222222222222222,\"#7201a8\"],[0.3333333333333333,\"#9c179e\"],[0.4444444444444444,\"#bd3786\"],[0.5555555555555556,\"#d8576b\"],[0.6666666666666666,\"#ed7953\"],[0.7777777777777778,\"#fb9f3a\"],[0.8888888888888888,\"#fdca26\"],[1.0,\"#f0f921\"]]}],\"choropleth\":[{\"type\":\"choropleth\",\"colorbar\":{\"outlinewidth\":0,\"ticks\":\"\"}}],\"histogram2d\":[{\"type\":\"histogram2d\",\"colorbar\":{\"outlinewidth\":0,\"ticks\":\"\"},\"colorscale\":[[0.0,\"#0d0887\"],[0.1111111111111111,\"#46039f\"],[0.2222222222222222,\"#7201a8\"],[0.3333333333333333,\"#9c179e\"],[0.4444444444444444,\"#bd3786\"],[0.5555555555555556,\"#d8576b\"],[0.6666666666666666,\"#ed7953\"],[0.7777777777777778,\"#fb9f3a\"],[0.8888888888888888,\"#fdca26\"],[1.0,\"#f0f921\"]]}],\"heatmap\":[{\"type\":\"heatmap\",\"colorbar\":{\"outlinewidth\":0,\"ticks\":\"\"},\"colorscale\":[[0.0,\"#0d0887\"],[0.1111111111111111,\"#46039f\"],[0.2222222222222222,\"#7201a8\"],[0.3333333333333333,\"#9c179e\"],[0.4444444444444444,\"#bd3786\"],[0.5555555555555556,\"#d8576b\"],[0.6666666666666666,\"#ed7953\"],[0.7777777777777778,\"#fb9f3a\"],[0.8888888888888888,\"#fdca26\"],[1.0,\"#f0f921\"]]}],\"heatmapgl\":[{\"type\":\"heatmapgl\",\"colorbar\":{\"outlinewidth\":0,\"ticks\":\"\"},\"colorscale\":[[0.0,\"#0d0887\"],[0.1111111111111111,\"#46039f\"],[0.2222222222222222,\"#7201a8\"],[0.3333333333333333,\"#9c179e\"],[0.4444444444444444,\"#bd3786\"],[0.5555555555555556,\"#d8576b\"],[0.6666666666666666,\"#ed7953\"],[0.7777777777777778,\"#fb9f3a\"],[0.8888888888888888,\"#fdca26\"],[1.0,\"#f0f921\"]]}],\"contourcarpet\":[{\"type\":\"contourcarpet\",\"colorbar\":{\"outlinewidth\":0,\"ticks\":\"\"}}],\"contour\":[{\"type\":\"contour\",\"colorbar\":{\"outlinewidth\":0,\"ticks\":\"\"},\"colorscale\":[[0.0,\"#0d0887\"],[0.1111111111111111,\"#46039f\"],[0.2222222222222222,\"#7201a8\"],[0.3333333333333333,\"#9c179e\"],[0.4444444444444444,\"#bd3786\"],[0.5555555555555556,\"#d8576b\"],[0.6666666666666666,\"#ed7953\"],[0.7777777777777778,\"#fb9f3a\"],[0.8888888888888888,\"#fdca26\"],[1.0,\"#f0f921\"]]}],\"surface\":[{\"type\":\"surface\",\"colorbar\":{\"outlinewidth\":0,\"ticks\":\"\"},\"colorscale\":[[0.0,\"#0d0887\"],[0.1111111111111111,\"#46039f\"],[0.2222222222222222,\"#7201a8\"],[0.3333333333333333,\"#9c179e\"],[0.4444444444444444,\"#bd3786\"],[0.5555555555555556,\"#d8576b\"],[0.6666666666666666,\"#ed7953\"],[0.7777777777777778,\"#fb9f3a\"],[0.8888888888888888,\"#fdca26\"],[1.0,\"#f0f921\"]]}],\"mesh3d\":[{\"type\":\"mesh3d\",\"colorbar\":{\"outlinewidth\":0,\"ticks\":\"\"}}],\"scatter\":[{\"fillpattern\":{\"fillmode\":\"overlay\",\"size\":10,\"solidity\":0.2},\"type\":\"scatter\"}],\"parcoords\":[{\"type\":\"parcoords\",\"line\":{\"colorbar\":{\"outlinewidth\":0,\"ticks\":\"\"}}}],\"scatterpolargl\":[{\"type\":\"scatterpolargl\",\"marker\":{\"colorbar\":{\"outlinewidth\":0,\"ticks\":\"\"}}}],\"bar\":[{\"error_x\":{\"color\":\"#2a3f5f\"},\"error_y\":{\"color\":\"#2a3f5f\"},\"marker\":{\"line\":{\"color\":\"#E5ECF6\",\"width\":0.5},\"pattern\":{\"fillmode\":\"overlay\",\"size\":10,\"solidity\":0.2}},\"type\":\"bar\"}],\"scattergeo\":[{\"type\":\"scattergeo\",\"marker\":{\"colorbar\":{\"outlinewidth\":0,\"ticks\":\"\"}}}],\"scatterpolar\":[{\"type\":\"scatterpolar\",\"marker\":{\"colorbar\":{\"outlinewidth\":0,\"ticks\":\"\"}}}],\"histogram\":[{\"marker\":{\"pattern\":{\"fillmode\":\"overlay\",\"size\":10,\"solidity\":0.2}},\"type\":\"histogram\"}],\"scattergl\":[{\"type\":\"scattergl\",\"marker\":{\"colorbar\":{\"outlinewidth\":0,\"ticks\":\"\"}}}],\"scatter3d\":[{\"type\":\"scatter3d\",\"line\":{\"colorbar\":{\"outlinewidth\":0,\"ticks\":\"\"}},\"marker\":{\"colorbar\":{\"outlinewidth\":0,\"ticks\":\"\"}}}],\"scattermapbox\":[{\"type\":\"scattermapbox\",\"marker\":{\"colorbar\":{\"outlinewidth\":0,\"ticks\":\"\"}}}],\"scatterternary\":[{\"type\":\"scatterternary\",\"marker\":{\"colorbar\":{\"outlinewidth\":0,\"ticks\":\"\"}}}],\"scattercarpet\":[{\"type\":\"scattercarpet\",\"marker\":{\"colorbar\":{\"outlinewidth\":0,\"ticks\":\"\"}}}],\"carpet\":[{\"aaxis\":{\"endlinecolor\":\"#2a3f5f\",\"gridcolor\":\"white\",\"linecolor\":\"white\",\"minorgridcolor\":\"white\",\"startlinecolor\":\"#2a3f5f\"},\"baxis\":{\"endlinecolor\":\"#2a3f5f\",\"gridcolor\":\"white\",\"linecolor\":\"white\",\"minorgridcolor\":\"white\",\"startlinecolor\":\"#2a3f5f\"},\"type\":\"carpet\"}],\"table\":[{\"cells\":{\"fill\":{\"color\":\"#EBF0F8\"},\"line\":{\"color\":\"white\"}},\"header\":{\"fill\":{\"color\":\"#C8D4E3\"},\"line\":{\"color\":\"white\"}},\"type\":\"table\"}],\"barpolar\":[{\"marker\":{\"line\":{\"color\":\"#E5ECF6\",\"width\":0.5},\"pattern\":{\"fillmode\":\"overlay\",\"size\":10,\"solidity\":0.2}},\"type\":\"barpolar\"}],\"pie\":[{\"automargin\":true,\"type\":\"pie\"}]},\"layout\":{\"autotypenumbers\":\"strict\",\"colorway\":[\"#636efa\",\"#EF553B\",\"#00cc96\",\"#ab63fa\",\"#FFA15A\",\"#19d3f3\",\"#FF6692\",\"#B6E880\",\"#FF97FF\",\"#FECB52\"],\"font\":{\"color\":\"#2a3f5f\"},\"hovermode\":\"closest\",\"hoverlabel\":{\"align\":\"left\"},\"paper_bgcolor\":\"white\",\"plot_bgcolor\":\"#E5ECF6\",\"polar\":{\"bgcolor\":\"#E5ECF6\",\"angularaxis\":{\"gridcolor\":\"white\",\"linecolor\":\"white\",\"ticks\":\"\"},\"radialaxis\":{\"gridcolor\":\"white\",\"linecolor\":\"white\",\"ticks\":\"\"}},\"ternary\":{\"bgcolor\":\"#E5ECF6\",\"aaxis\":{\"gridcolor\":\"white\",\"linecolor\":\"white\",\"ticks\":\"\"},\"baxis\":{\"gridcolor\":\"white\",\"linecolor\":\"white\",\"ticks\":\"\"},\"caxis\":{\"gridcolor\":\"white\",\"linecolor\":\"white\",\"ticks\":\"\"}},\"coloraxis\":{\"colorbar\":{\"outlinewidth\":0,\"ticks\":\"\"}},\"colorscale\":{\"sequential\":[[0.0,\"#0d0887\"],[0.1111111111111111,\"#46039f\"],[0.2222222222222222,\"#7201a8\"],[0.3333333333333333,\"#9c179e\"],[0.4444444444444444,\"#bd3786\"],[0.5555555555555556,\"#d8576b\"],[0.6666666666666666,\"#ed7953\"],[0.7777777777777778,\"#fb9f3a\"],[0.8888888888888888,\"#fdca26\"],[1.0,\"#f0f921\"]],\"sequentialminus\":[[0.0,\"#0d0887\"],[0.1111111111111111,\"#46039f\"],[0.2222222222222222,\"#7201a8\"],[0.3333333333333333,\"#9c179e\"],[0.4444444444444444,\"#bd3786\"],[0.5555555555555556,\"#d8576b\"],[0.6666666666666666,\"#ed7953\"],[0.7777777777777778,\"#fb9f3a\"],[0.8888888888888888,\"#fdca26\"],[1.0,\"#f0f921\"]],\"diverging\":[[0,\"#8e0152\"],[0.1,\"#c51b7d\"],[0.2,\"#de77ae\"],[0.3,\"#f1b6da\"],[0.4,\"#fde0ef\"],[0.5,\"#f7f7f7\"],[0.6,\"#e6f5d0\"],[0.7,\"#b8e186\"],[0.8,\"#7fbc41\"],[0.9,\"#4d9221\"],[1,\"#276419\"]]},\"xaxis\":{\"gridcolor\":\"white\",\"linecolor\":\"white\",\"ticks\":\"\",\"title\":{\"standoff\":15},\"zerolinecolor\":\"white\",\"automargin\":true,\"zerolinewidth\":2},\"yaxis\":{\"gridcolor\":\"white\",\"linecolor\":\"white\",\"ticks\":\"\",\"title\":{\"standoff\":15},\"zerolinecolor\":\"white\",\"automargin\":true,\"zerolinewidth\":2},\"scene\":{\"xaxis\":{\"backgroundcolor\":\"#E5ECF6\",\"gridcolor\":\"white\",\"linecolor\":\"white\",\"showbackground\":true,\"ticks\":\"\",\"zerolinecolor\":\"white\",\"gridwidth\":2},\"yaxis\":{\"backgroundcolor\":\"#E5ECF6\",\"gridcolor\":\"white\",\"linecolor\":\"white\",\"showbackground\":true,\"ticks\":\"\",\"zerolinecolor\":\"white\",\"gridwidth\":2},\"zaxis\":{\"backgroundcolor\":\"#E5ECF6\",\"gridcolor\":\"white\",\"linecolor\":\"white\",\"showbackground\":true,\"ticks\":\"\",\"zerolinecolor\":\"white\",\"gridwidth\":2}},\"shapedefaults\":{\"line\":{\"color\":\"#2a3f5f\"}},\"annotationdefaults\":{\"arrowcolor\":\"#2a3f5f\",\"arrowhead\":0,\"arrowwidth\":1},\"geo\":{\"bgcolor\":\"white\",\"landcolor\":\"#E5ECF6\",\"subunitcolor\":\"white\",\"showland\":true,\"showlakes\":true,\"lakecolor\":\"white\"},\"title\":{\"x\":0.05},\"mapbox\":{\"style\":\"light\"}}},\"width\":1000,\"height\":800},                        {\"responsive\": true}                    ).then(function(){\n",
       "                            \n",
       "var gd = document.getElementById('700a3b57-6216-4229-8f2e-807ae35bc2aa');\n",
       "var x = new MutationObserver(function (mutations, observer) {{\n",
       "        var display = window.getComputedStyle(gd).display;\n",
       "        if (!display || display === 'none') {{\n",
       "            console.log([gd, 'removed!']);\n",
       "            Plotly.purge(gd);\n",
       "            observer.disconnect();\n",
       "        }}\n",
       "}});\n",
       "\n",
       "// Listen for the removal of the full notebook cells\n",
       "var notebookContainer = gd.closest('#notebook-container');\n",
       "if (notebookContainer) {{\n",
       "    x.observe(notebookContainer, {childList: true});\n",
       "}}\n",
       "\n",
       "// Listen for the clearing of the current output cell\n",
       "var outputEl = gd.closest('.output');\n",
       "if (outputEl) {{\n",
       "    x.observe(outputEl, {childList: true});\n",
       "}}\n",
       "\n",
       "                        })                };                });            </script>        </div>"
      ]
     },
     "metadata": {},
     "output_type": "display_data"
    }
   ],
   "source": [
    "plot_losses(kl_losses=kl_losses, lh_losses=lh_losses)"
   ]
  },
  {
   "cell_type": "code",
   "execution_count": null,
   "metadata": {},
   "outputs": [],
   "source": []
  }
 ],
 "metadata": {
  "kernelspec": {
   "display_name": "lst",
   "language": "python",
   "name": "python3"
  },
  "language_info": {
   "codemirror_mode": {
    "name": "ipython",
    "version": 3
   },
   "file_extension": ".py",
   "mimetype": "text/x-python",
   "name": "python",
   "nbconvert_exporter": "python",
   "pygments_lexer": "ipython3",
   "version": "3.10.9 (main, Dec 13 2022, 10:09:44) [GCC 11.3.0]"
  },
  "orig_nbformat": 4,
  "vscode": {
   "interpreter": {
    "hash": "2716be4700d3d1913b28215c7671d211a6c17f92678fa65b7b72e05e70638535"
   }
  }
 },
 "nbformat": 4,
 "nbformat_minor": 2
}
