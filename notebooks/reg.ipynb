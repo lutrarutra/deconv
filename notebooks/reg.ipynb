{
 "cells": [
  {
   "cell_type": "code",
   "execution_count": 1,
   "metadata": {},
   "outputs": [
    {
     "name": "stderr",
     "output_type": "stream",
     "text": [
      "Global seed set to 0\n"
     ]
    }
   ],
   "source": [
    "import deconV as dv\n",
    "import scout\n",
    "\n",
    "import glob, tqdm, time, os\n",
    "import torch\n",
    "import matplotlib\n",
    "import matplotlib.pyplot as plt\n",
    "from matplotlib import rcParams\n",
    "\n",
    "import pandas as pd\n",
    "import numpy as np\n",
    "import scanpy as sc\n",
    "import scvi\n",
    "import seaborn as sns\n",
    "import tqdm\n",
    "import scout\n",
    "\n",
    "import torch\n",
    "import torch.nn as nn\n",
    "import torch.nn.functional as F\n",
    "import torch.distributions as D\n",
    "\n",
    "import plotly.express as px\n",
    "\n",
    "%load_ext autoreload\n",
    "%autoreload 2"
   ]
  },
  {
   "cell_type": "code",
   "execution_count": 2,
   "metadata": {},
   "outputs": [],
   "source": [
    "params = {\n",
    "    \"cell_type_key\": \"cellType\",\n",
    "    \"fig_fmt\": \"png\",\n",
    "\n",
    "\n",
    "    \"selected_ct\": [\"0\", \"1\", \"2\"],\n",
    "    \"bulk_file\": \"../../data/synthetic100/bulk.csv\",\n",
    "    \"ref_annot_file\": \"../../data/GSE136148/pdata.tsv\",\n",
    "    \"ref_file\": \"../../data/GSE136148/sc.tsv\",\n",
    "    \n",
    "    \"outdir\": \"out\",\n",
    "    \"figsize\": (8,8),\n",
    "    \"dpi\": 80,\n",
    "}\n",
    "\n",
    "sc.settings.set_figure_params(dpi=80, facecolor='white')\n",
    "plt.rc(\"patch\", edgecolor=\"black\", facecolor=\"royalblue\", linewidth=1.0)\n",
    "plt.rc(\"axes\", facecolor=\"white\", edgecolor=\"black\", linewidth=1.0)\n",
    "\n",
    "sc.settings.verbosity = 0"
   ]
  },
  {
   "cell_type": "code",
   "execution_count": 3,
   "metadata": {},
   "outputs": [
    {
     "name": "stdout",
     "output_type": "stream",
     "text": [
      "scRNA-seq data - cells: 3022, genes: 33694\n"
     ]
    }
   ],
   "source": [
    "sadata = dv.tl.read_data(params[\"ref_file\"])\n",
    "print(f\"scRNA-seq data - cells: {sadata.shape[0]}, genes: {sadata.shape[1]}\")"
   ]
  },
  {
   "cell_type": "code",
   "execution_count": 4,
   "metadata": {},
   "outputs": [
    {
     "name": "stdout",
     "output_type": "stream",
     "text": [
      "Reading pheno data...\n"
     ]
    }
   ],
   "source": [
    "print(\"Reading pheno data...\")\n",
    "pheno_df = pd.read_csv(params[\"ref_annot_file\"], sep=\"\\t\", index_col=0)\n",
    "pheno_df.index.name = None"
   ]
  },
  {
   "cell_type": "code",
   "execution_count": 5,
   "metadata": {},
   "outputs": [
    {
     "data": {
      "text/plain": [
       "3022"
      ]
     },
     "execution_count": 5,
     "metadata": {},
     "output_type": "execute_result"
    }
   ],
   "source": [
    "common_cells = list(set(pheno_df.index.tolist()) & set(sadata.obs_names.tolist()))\n",
    "len(common_cells)"
   ]
  },
  {
   "cell_type": "code",
   "execution_count": 6,
   "metadata": {},
   "outputs": [
    {
     "data": {
      "text/plain": [
       "cellType\n",
       "0    1988\n",
       "1     686\n",
       "2     319\n",
       "3      29\n",
       "dtype: int64"
      ]
     },
     "execution_count": 6,
     "metadata": {},
     "output_type": "execute_result"
    }
   ],
   "source": [
    "sadata = sadata[common_cells, :].copy()\n",
    "pheno_df = pheno_df.loc[common_cells, :].copy()\n",
    "sadata.obs[params[\"cell_type_key\"]] = pheno_df[params[\"cell_type_key\"]].tolist()\n",
    "sadata.obs.groupby(params[\"cell_type_key\"]).size()"
   ]
  },
  {
   "cell_type": "code",
   "execution_count": 7,
   "metadata": {},
   "outputs": [
    {
     "name": "stdout",
     "output_type": "stream",
     "text": [
      "Reading bulk data...\n",
      "bulk RNA-seq data - samples: 8424, genes: 100\n"
     ]
    }
   ],
   "source": [
    "print(\"Reading bulk data...\")\n",
    "bulk_df = pd.read_csv(params[\"bulk_file\"], sep=\",\", index_col=None)\n",
    "if bulk_df.iloc[:,0].dtype == \"O\":\n",
    "    bulk_df.set_index(bulk_df.columns[0], inplace=True)\n",
    "print(f\"bulk RNA-seq data - samples: {bulk_df.shape[0]}, genes: {bulk_df.shape[1]}\")"
   ]
  },
  {
   "cell_type": "code",
   "execution_count": 8,
   "metadata": {},
   "outputs": [
    {
     "data": {
      "text/plain": [
       "cellType\n",
       "0    1988\n",
       "1     686\n",
       "2     319\n",
       "dtype: int64"
      ]
     },
     "execution_count": 8,
     "metadata": {},
     "output_type": "execute_result"
    }
   ],
   "source": [
    "if params[\"selected_ct\"] is not None and len(params[\"selected_ct\"]) > 0:\n",
    "    sadata = sadata[sadata.obs[params[\"cell_type_key\"]].astype(\"str\").isin(params[\"selected_ct\"]), :].copy()\n",
    "\n",
    "sadata.obs[params[\"cell_type_key\"]] = sadata.obs[params[\"cell_type_key\"]].astype(\"category\")\n",
    "sadata.obs.groupby(params[\"cell_type_key\"]).size()"
   ]
  },
  {
   "cell_type": "code",
   "execution_count": 9,
   "metadata": {},
   "outputs": [],
   "source": [
    "true_df = pd.read_csv(\"../../data/synthetic100/bulk_proportions.csv\", index_col=0)\n",
    "true_df.drop(columns=\"n_cells\", inplace=True)"
   ]
  },
  {
   "cell_type": "code",
   "execution_count": 10,
   "metadata": {},
   "outputs": [
    {
     "name": "stdout",
     "output_type": "stream",
     "text": [
      "scRNA-seq data - cells: 2993, genes: 8424\n",
      "bulk RNA-seq data - samples: 100, genes: 8424\n"
     ]
    }
   ],
   "source": [
    "sc.pp.filter_cells(sadata, min_genes=200)\n",
    "sc.pp.filter_genes(sadata, min_cells=3)\n",
    "adata = dv.tl.combine(sadata, bulk_df)\n",
    "scout.tl.scale_log_center(adata, target_sum=None, exclude_highly_expressed=True)"
   ]
  },
  {
   "cell_type": "code",
   "execution_count": 11,
   "metadata": {},
   "outputs": [
    {
     "name": "stdout",
     "output_type": "stream",
     "text": [
      "Warning: some p-values (126) were 0, scattering them around 321.9\n",
      "Warning: some p-values (92) were 0, scattering them around 317.3\n",
      "Warning: some p-values (14) were 0, scattering them around 299.0\n",
      "Added results to: adata.uns['de']['cellType']\n"
     ]
    }
   ],
   "source": [
    "decon = dv.DeconV(adata, cell_type_key=\"cellType\", sub_type_key=None, layer=\"counts\")"
   ]
  },
  {
   "cell_type": "code",
   "execution_count": 12,
   "metadata": {},
   "outputs": [],
   "source": [
    "decon.filter_outliers(dropout_factor_quantile=0.9, pseudobulk_lims=(-10, 10), aggregate=\"max\")"
   ]
  },
  {
   "cell_type": "code",
   "execution_count": 13,
   "metadata": {},
   "outputs": [],
   "source": [
    "decon.init_dataset(\n",
    "    weight_type=None, weight_agg=\"min\",\n",
    "    inverse_weight=False, log_weight=False, quantiles=(0, 1)\n",
    ")"
   ]
  },
  {
   "cell_type": "code",
   "execution_count": 14,
   "metadata": {},
   "outputs": [],
   "source": [
    "class CustomDataset(torch.utils.data.Dataset):\n",
    "    def __init__(self, adata, true_df) -> None:\n",
    "        super().__init__()\n",
    "        self.x = torch.tensor(adata.varm[\"bulk\"].T, dtype=torch.float32)\n",
    "        self.y = torch.tensor(true_df.values, dtype=torch.float32)\n",
    "\n",
    "    def __len__(self):\n",
    "        return len(self.x)\n",
    "\n",
    "    def __getitem__(self, idx):\n",
    "        return self.x[idx], self.y[idx]"
   ]
  },
  {
   "cell_type": "code",
   "execution_count": 15,
   "metadata": {},
   "outputs": [],
   "source": [
    "decon.init_dataset(None)\n",
    "mu, _ = decon.get_signature(quantiles=(0,1))"
   ]
  },
  {
   "cell_type": "code",
   "execution_count": 16,
   "metadata": {},
   "outputs": [],
   "source": [
    "class PSM(nn.Module):\n",
    "    def __init__(\n",
    "        self, loc,\n",
    "        gene_weights=None,\n",
    "    ):\n",
    "        super().__init__()\n",
    "        self.loc = loc\n",
    "        self.gene_weights = gene_weights\n",
    "        self.log_cell_counts = nn.Parameter(\n",
    "            torch.ones(loc.shape[1]) * torch.log(torch.tensor(1000) / loc.shape[1])\n",
    "        )\n",
    "        self.opt = torch.optim.Adam(self.parameters(), lr=0.5)\n",
    "\n",
    "    def get_proportions(self):\n",
    "        return F.softmax(self.log_cell_counts, 0)\n",
    "        \n",
    "    def _fit(self, bulk):\n",
    "        for i in range(50):\n",
    "            self.opt.zero_grad()\n",
    "            loss = self(bulk)\n",
    "            loss.backward()\n",
    "            self.opt.step()\n",
    "\n",
    "    def forward(self, x):\n",
    "        loc = torch.sum(self.loc * self.log_cell_counts.exp(), 1)\n",
    "        return (-D.Poisson(loc).log_prob(x) * F.softmax(self.gene_weights, 0)).mean()\n",
    "\n",
    "class LR(nn.Module):\n",
    "    def __init__(self, loc, n_genes, n_cell_types):\n",
    "        super(LR, self).__init__()\n",
    "        self.n_genes = n_genes\n",
    "        self.n_cell_types = n_cell_types\n",
    "        self.loc = loc\n",
    "\n",
    "        self.weights = nn.Parameter(torch.ones(self.n_genes, 1))\n",
    "        self.opt = torch.optim.Adam(self.parameters(), lr=0.1)\n",
    "\n",
    "    def forward(self, bulk, true_proportions):\n",
    "        psm = PSM(self.loc, self.weights)\n",
    "        _t = time.time()\n",
    "        psm._fit(bulk)\n",
    "\n",
    "        _t = time.time()\n",
    "        proportions = psm.get_proportions()\n",
    "        loss = torch.sum((proportions - true_proportions) ** 2)\n",
    "        return loss"
   ]
  },
  {
   "cell_type": "code",
   "execution_count": null,
   "metadata": {},
   "outputs": [],
   "source": [
    "dataset = CustomDataset(adata, true_df)\n",
    "\n",
    "lrm = LR(loc=mu, n_genes=adata.n_vars, n_cell_types=3)\n",
    "optimizer = torch.optim.Adam(lrm.parameters(), lr=0.1)\n",
    "loss_fn = torch.nn.MSELoss()\n",
    "pbar = tqdm.tqdm(range(100))\n",
    "\n",
    "for epoch in pbar:\n",
    "    L = 0.0\n",
    "    c = 0\n",
    "    for bulk, true_proportions in list(dataset)[:10]:\n",
    "        optimizer.zero_grad()\n",
    "        loss = lrm(bulk.round(), true_proportions)\n",
    "        loss.backward()\n",
    "        L += loss.item()\n",
    "        c += 1\n",
    "        optimizer.step()\n",
    "\n",
    "        pbar.set_postfix(\n",
    "            {\n",
    "                \"loss\": f\"{loss.item():.3f}\",\n",
    "            }\n",
    "        )\n",
    "\n",
    "    print(f\"Epoch loss: {L/c:.5f}\")\n"
   ]
  },
  {
   "cell_type": "code",
   "execution_count": null,
   "metadata": {},
   "outputs": [],
   "source": []
  }
 ],
 "metadata": {
  "kernelspec": {
   "display_name": "lst",
   "language": "python",
   "name": "python3"
  },
  "language_info": {
   "codemirror_mode": {
    "name": "ipython",
    "version": 3
   },
   "file_extension": ".py",
   "mimetype": "text/x-python",
   "name": "python",
   "nbconvert_exporter": "python",
   "pygments_lexer": "ipython3",
   "version": "3.10.9"
  },
  "orig_nbformat": 4,
  "vscode": {
   "interpreter": {
    "hash": "2716be4700d3d1913b28215c7671d211a6c17f92678fa65b7b72e05e70638535"
   }
  }
 },
 "nbformat": 4,
 "nbformat_minor": 2
}
