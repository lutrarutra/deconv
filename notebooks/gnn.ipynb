{
 "cells": [
  {
   "cell_type": "code",
   "execution_count": 253,
   "metadata": {},
   "outputs": [],
   "source": [
    "import tqdm\n",
    "\n",
    "import deconV.deconV as dv\n",
    "\n",
    "import pandas as pd\n",
    "import numpy as np\n",
    "import scanpy as sc\n",
    "\n",
    "import dgl\n",
    "import torch\n",
    "import torch.nn as nn\n",
    "\n",
    "from sklearn.model_selection import train_test_split"
   ]
  },
  {
   "cell_type": "code",
   "execution_count": 5,
   "metadata": {},
   "outputs": [
    {
     "data": {
      "text/plain": [
       "AnnData object with n_obs × n_vars = 2230 × 8424\n",
       "    obs: 'cell_type', 'n_genes', 'n_genes_by_counts', 'total_counts', 'total_counts_mt', 'pct_counts_mt'\n",
       "    var: 'n_cells', 'mt', 'n_cells_by_counts', 'mean_counts', 'pct_dropout_by_counts', 'total_counts'\n",
       "    uns: 'log1p'\n",
       "    layers: 'centered', 'counts', 'logcentered', 'ncounts'"
      ]
     },
     "execution_count": 5,
     "metadata": {},
     "output_type": "execute_result"
    }
   ],
   "source": [
    "adata = sc.read(\"../../data/GSE136148/adata.h5ad\")\n",
    "adata\n",
    "\n",
    "with open(\"../../data/reactome/genes.csv\", \"r\") as f:\n",
    "    genes = f.read().splitlines()\n",
    "\n",
    "common_genes = list(set(adata.var.index.tolist()) & set(genes))\n",
    "missing = list(set(genes) - set(adata.var.index.tolist()))\n",
    "adata = adata[:, common_genes].copy()\n",
    "adata\n"
   ]
  },
  {
   "cell_type": "code",
   "execution_count": 6,
   "metadata": {},
   "outputs": [],
   "source": [
    "mapping = dict([(g, i) for i, g in enumerate(genes)])"
   ]
  },
  {
   "cell_type": "code",
   "execution_count": 7,
   "metadata": {},
   "outputs": [
    {
     "data": {
      "text/plain": [
       "8424"
      ]
     },
     "execution_count": 7,
     "metadata": {},
     "output_type": "execute_result"
    }
   ],
   "source": [
    "idxs = [mapping[g] for g in adata.var.index]\n",
    "n_genes = len(genes)\n",
    "len(idxs)"
   ]
  },
  {
   "cell_type": "code",
   "execution_count": 141,
   "metadata": {},
   "outputs": [],
   "source": [
    "def get_signature(adata, groupby, n_genes):\n",
    "    n_ct = len(adata.obs[\"cell_type\"].cat.categories)\n",
    "\n",
    "    X = torch.zeros((n_genes, 5, n_ct))\n",
    "    idxs = [mapping[g] for g in adata.var.index]\n",
    "\n",
    "    for ct in tqdm.tqdm(adata.obs[\"cell_type\"].cat.categories):\n",
    "        ct_idx = adata.obs[\"cell_type\"] == ct\n",
    "        X[idxs, 0, ct] = torch.tensor(adata[ct_idx, :].X.mean(0))\n",
    "        X[idxs, 1, ct] = torch.tensor(adata[ct_idx, :].layers[\"centered\"].mean(0))\n",
    "        X[idxs, 2, ct] = torch.tensor(adata[ct_idx, :].layers[\"counts\"].mean(0))\n",
    "        X[idxs, 3, ct] = torch.tensor(adata[ct_idx, :].layers[\"logcentered\"].mean(0))\n",
    "        X[idxs, 4, ct] = torch.tensor(adata[ct_idx, :].layers[\"ncounts\"].mean(0))\n",
    "\n",
    "    return X.reshape(n_genes, -1)"
   ]
  },
  {
   "cell_type": "code",
   "execution_count": 142,
   "metadata": {},
   "outputs": [
    {
     "data": {
      "text/html": [
       "<div>\n",
       "<style scoped>\n",
       "    .dataframe tbody tr th:only-of-type {\n",
       "        vertical-align: middle;\n",
       "    }\n",
       "\n",
       "    .dataframe tbody tr th {\n",
       "        vertical-align: top;\n",
       "    }\n",
       "\n",
       "    .dataframe thead th {\n",
       "        text-align: right;\n",
       "    }\n",
       "</style>\n",
       "<table border=\"1\" class=\"dataframe\">\n",
       "  <thead>\n",
       "    <tr style=\"text-align: right;\">\n",
       "      <th></th>\n",
       "      <th>0</th>\n",
       "      <th>1</th>\n",
       "      <th>2</th>\n",
       "    </tr>\n",
       "  </thead>\n",
       "  <tbody>\n",
       "    <tr>\n",
       "      <th>0</th>\n",
       "      <td>0.511972</td>\n",
       "      <td>0.152481</td>\n",
       "      <td>0.335547</td>\n",
       "    </tr>\n",
       "    <tr>\n",
       "      <th>1</th>\n",
       "      <td>0.307759</td>\n",
       "      <td>0.523730</td>\n",
       "      <td>0.168511</td>\n",
       "    </tr>\n",
       "    <tr>\n",
       "      <th>2</th>\n",
       "      <td>0.305641</td>\n",
       "      <td>0.194240</td>\n",
       "      <td>0.500119</td>\n",
       "    </tr>\n",
       "    <tr>\n",
       "      <th>3</th>\n",
       "      <td>0.266643</td>\n",
       "      <td>0.165227</td>\n",
       "      <td>0.568130</td>\n",
       "    </tr>\n",
       "    <tr>\n",
       "      <th>4</th>\n",
       "      <td>0.200115</td>\n",
       "      <td>0.453825</td>\n",
       "      <td>0.346060</td>\n",
       "    </tr>\n",
       "    <tr>\n",
       "      <th>...</th>\n",
       "      <td>...</td>\n",
       "      <td>...</td>\n",
       "      <td>...</td>\n",
       "    </tr>\n",
       "    <tr>\n",
       "      <th>95</th>\n",
       "      <td>0.746312</td>\n",
       "      <td>0.038374</td>\n",
       "      <td>0.215314</td>\n",
       "    </tr>\n",
       "    <tr>\n",
       "      <th>96</th>\n",
       "      <td>0.204091</td>\n",
       "      <td>0.036037</td>\n",
       "      <td>0.759872</td>\n",
       "    </tr>\n",
       "    <tr>\n",
       "      <th>97</th>\n",
       "      <td>0.017337</td>\n",
       "      <td>0.942209</td>\n",
       "      <td>0.040453</td>\n",
       "    </tr>\n",
       "    <tr>\n",
       "      <th>98</th>\n",
       "      <td>0.137069</td>\n",
       "      <td>0.474475</td>\n",
       "      <td>0.388456</td>\n",
       "    </tr>\n",
       "    <tr>\n",
       "      <th>99</th>\n",
       "      <td>0.212165</td>\n",
       "      <td>0.387402</td>\n",
       "      <td>0.400433</td>\n",
       "    </tr>\n",
       "  </tbody>\n",
       "</table>\n",
       "<p>100 rows × 3 columns</p>\n",
       "</div>"
      ],
      "text/plain": [
       "           0         1         2\n",
       "0   0.511972  0.152481  0.335547\n",
       "1   0.307759  0.523730  0.168511\n",
       "2   0.305641  0.194240  0.500119\n",
       "3   0.266643  0.165227  0.568130\n",
       "4   0.200115  0.453825  0.346060\n",
       "..       ...       ...       ...\n",
       "95  0.746312  0.038374  0.215314\n",
       "96  0.204091  0.036037  0.759872\n",
       "97  0.017337  0.942209  0.040453\n",
       "98  0.137069  0.474475  0.388456\n",
       "99  0.212165  0.387402  0.400433\n",
       "\n",
       "[100 rows x 3 columns]"
      ]
     },
     "execution_count": 142,
     "metadata": {},
     "output_type": "execute_result"
    }
   ],
   "source": [
    "true_df = pd.read_csv(\"../../data/synthetic100/bulk_proportions.csv\", index_col=0)\n",
    "true_df.drop(columns=\"n_cells\", inplace=True)\n",
    "true_df\n"
   ]
  },
  {
   "cell_type": "code",
   "execution_count": 266,
   "metadata": {},
   "outputs": [
    {
     "data": {
      "text/html": [
       "<div>\n",
       "<style scoped>\n",
       "    .dataframe tbody tr th:only-of-type {\n",
       "        vertical-align: middle;\n",
       "    }\n",
       "\n",
       "    .dataframe tbody tr th {\n",
       "        vertical-align: top;\n",
       "    }\n",
       "\n",
       "    .dataframe thead th {\n",
       "        text-align: right;\n",
       "    }\n",
       "</style>\n",
       "<table border=\"1\" class=\"dataframe\">\n",
       "  <thead>\n",
       "    <tr style=\"text-align: right;\">\n",
       "      <th></th>\n",
       "      <th>BANF1</th>\n",
       "      <th>HMGA1</th>\n",
       "      <th>LIG4</th>\n",
       "      <th>PSIP1</th>\n",
       "      <th>XRCC4</th>\n",
       "      <th>XRCC5</th>\n",
       "      <th>XRCC6</th>\n",
       "      <th>PRPS1</th>\n",
       "      <th>PRPS1L1</th>\n",
       "      <th>PRPS2</th>\n",
       "      <th>...</th>\n",
       "      <th>STK3</th>\n",
       "      <th>STK4</th>\n",
       "      <th>THBS3</th>\n",
       "      <th>THBS4</th>\n",
       "      <th>TMED5</th>\n",
       "      <th>VPS26A</th>\n",
       "      <th>VPS29</th>\n",
       "      <th>VPS35</th>\n",
       "      <th>WLS</th>\n",
       "      <th>ZFYVE16</th>\n",
       "    </tr>\n",
       "  </thead>\n",
       "  <tbody>\n",
       "    <tr>\n",
       "      <th>0</th>\n",
       "      <td>4543918.0</td>\n",
       "      <td>16054073.0</td>\n",
       "      <td>163339.0</td>\n",
       "      <td>3664115.0</td>\n",
       "      <td>340191.0</td>\n",
       "      <td>5320793.0</td>\n",
       "      <td>6807409.0</td>\n",
       "      <td>1577103.0</td>\n",
       "      <td>0.0</td>\n",
       "      <td>1336048.0</td>\n",
       "      <td>...</td>\n",
       "      <td>755661.0</td>\n",
       "      <td>1022285.0</td>\n",
       "      <td>136108.0</td>\n",
       "      <td>7104.0</td>\n",
       "      <td>2046038.0</td>\n",
       "      <td>2557282.0</td>\n",
       "      <td>8122577.0</td>\n",
       "      <td>5103096.0</td>\n",
       "      <td>895479.0</td>\n",
       "      <td>700080.0</td>\n",
       "    </tr>\n",
       "    <tr>\n",
       "      <th>1</th>\n",
       "      <td>3472092.0</td>\n",
       "      <td>9597301.0</td>\n",
       "      <td>112444.0</td>\n",
       "      <td>1982997.0</td>\n",
       "      <td>249125.0</td>\n",
       "      <td>3775303.0</td>\n",
       "      <td>4142645.0</td>\n",
       "      <td>819419.0</td>\n",
       "      <td>0.0</td>\n",
       "      <td>846817.0</td>\n",
       "      <td>...</td>\n",
       "      <td>560754.0</td>\n",
       "      <td>917381.0</td>\n",
       "      <td>145114.0</td>\n",
       "      <td>8374.0</td>\n",
       "      <td>1232796.0</td>\n",
       "      <td>1619654.0</td>\n",
       "      <td>5765895.0</td>\n",
       "      <td>2894347.0</td>\n",
       "      <td>439918.0</td>\n",
       "      <td>548281.0</td>\n",
       "    </tr>\n",
       "    <tr>\n",
       "      <th>2</th>\n",
       "      <td>5096191.0</td>\n",
       "      <td>20248248.0</td>\n",
       "      <td>172953.0</td>\n",
       "      <td>3750117.0</td>\n",
       "      <td>498850.0</td>\n",
       "      <td>5896177.0</td>\n",
       "      <td>7247867.0</td>\n",
       "      <td>2256510.0</td>\n",
       "      <td>0.0</td>\n",
       "      <td>1441552.0</td>\n",
       "      <td>...</td>\n",
       "      <td>890154.0</td>\n",
       "      <td>1269905.0</td>\n",
       "      <td>239443.0</td>\n",
       "      <td>5888.0</td>\n",
       "      <td>2401091.0</td>\n",
       "      <td>2932931.0</td>\n",
       "      <td>9609277.0</td>\n",
       "      <td>5686886.0</td>\n",
       "      <td>919086.0</td>\n",
       "      <td>946693.0</td>\n",
       "    </tr>\n",
       "    <tr>\n",
       "      <th>3</th>\n",
       "      <td>3104498.0</td>\n",
       "      <td>14401305.0</td>\n",
       "      <td>129482.0</td>\n",
       "      <td>2340656.0</td>\n",
       "      <td>302953.0</td>\n",
       "      <td>3612230.0</td>\n",
       "      <td>4355471.0</td>\n",
       "      <td>1652735.0</td>\n",
       "      <td>0.0</td>\n",
       "      <td>868127.0</td>\n",
       "      <td>...</td>\n",
       "      <td>511321.0</td>\n",
       "      <td>747909.0</td>\n",
       "      <td>158023.0</td>\n",
       "      <td>6895.0</td>\n",
       "      <td>1586064.0</td>\n",
       "      <td>1894975.0</td>\n",
       "      <td>5918321.0</td>\n",
       "      <td>3472058.0</td>\n",
       "      <td>632998.0</td>\n",
       "      <td>615687.0</td>\n",
       "    </tr>\n",
       "    <tr>\n",
       "      <th>4</th>\n",
       "      <td>5802625.0</td>\n",
       "      <td>19882051.0</td>\n",
       "      <td>216582.0</td>\n",
       "      <td>3454254.0</td>\n",
       "      <td>509444.0</td>\n",
       "      <td>6820993.0</td>\n",
       "      <td>6714497.0</td>\n",
       "      <td>2207612.0</td>\n",
       "      <td>0.0</td>\n",
       "      <td>1459334.0</td>\n",
       "      <td>...</td>\n",
       "      <td>998764.0</td>\n",
       "      <td>1674790.0</td>\n",
       "      <td>284143.0</td>\n",
       "      <td>9165.0</td>\n",
       "      <td>2470133.0</td>\n",
       "      <td>2911018.0</td>\n",
       "      <td>9942873.0</td>\n",
       "      <td>5284853.0</td>\n",
       "      <td>785499.0</td>\n",
       "      <td>1133948.0</td>\n",
       "    </tr>\n",
       "    <tr>\n",
       "      <th>...</th>\n",
       "      <td>...</td>\n",
       "      <td>...</td>\n",
       "      <td>...</td>\n",
       "      <td>...</td>\n",
       "      <td>...</td>\n",
       "      <td>...</td>\n",
       "      <td>...</td>\n",
       "      <td>...</td>\n",
       "      <td>...</td>\n",
       "      <td>...</td>\n",
       "      <td>...</td>\n",
       "      <td>...</td>\n",
       "      <td>...</td>\n",
       "      <td>...</td>\n",
       "      <td>...</td>\n",
       "      <td>...</td>\n",
       "      <td>...</td>\n",
       "      <td>...</td>\n",
       "      <td>...</td>\n",
       "      <td>...</td>\n",
       "      <td>...</td>\n",
       "    </tr>\n",
       "    <tr>\n",
       "      <th>95</th>\n",
       "      <td>1095115.0</td>\n",
       "      <td>3723335.0</td>\n",
       "      <td>27197.0</td>\n",
       "      <td>960064.0</td>\n",
       "      <td>94932.0</td>\n",
       "      <td>1309083.0</td>\n",
       "      <td>1860808.0</td>\n",
       "      <td>326180.0</td>\n",
       "      <td>0.0</td>\n",
       "      <td>349419.0</td>\n",
       "      <td>...</td>\n",
       "      <td>180937.0</td>\n",
       "      <td>219071.0</td>\n",
       "      <td>23031.0</td>\n",
       "      <td>1462.0</td>\n",
       "      <td>551314.0</td>\n",
       "      <td>640520.0</td>\n",
       "      <td>2071134.0</td>\n",
       "      <td>1263977.0</td>\n",
       "      <td>247195.0</td>\n",
       "      <td>142283.0</td>\n",
       "    </tr>\n",
       "    <tr>\n",
       "      <th>96</th>\n",
       "      <td>3661369.0</td>\n",
       "      <td>21795983.0</td>\n",
       "      <td>186590.0</td>\n",
       "      <td>3379433.0</td>\n",
       "      <td>412840.0</td>\n",
       "      <td>5220792.0</td>\n",
       "      <td>6076406.0</td>\n",
       "      <td>3040429.0</td>\n",
       "      <td>0.0</td>\n",
       "      <td>1059917.0</td>\n",
       "      <td>...</td>\n",
       "      <td>713126.0</td>\n",
       "      <td>1007321.0</td>\n",
       "      <td>217381.0</td>\n",
       "      <td>12762.0</td>\n",
       "      <td>2315906.0</td>\n",
       "      <td>2545502.0</td>\n",
       "      <td>8177620.0</td>\n",
       "      <td>4949774.0</td>\n",
       "      <td>1022370.0</td>\n",
       "      <td>843320.0</td>\n",
       "    </tr>\n",
       "    <tr>\n",
       "      <th>97</th>\n",
       "      <td>2853413.0</td>\n",
       "      <td>5323010.0</td>\n",
       "      <td>59009.0</td>\n",
       "      <td>866883.0</td>\n",
       "      <td>184975.0</td>\n",
       "      <td>2624184.0</td>\n",
       "      <td>2008274.0</td>\n",
       "      <td>470810.0</td>\n",
       "      <td>0.0</td>\n",
       "      <td>627881.0</td>\n",
       "      <td>...</td>\n",
       "      <td>422993.0</td>\n",
       "      <td>803561.0</td>\n",
       "      <td>78450.0</td>\n",
       "      <td>6367.0</td>\n",
       "      <td>615545.0</td>\n",
       "      <td>1038002.0</td>\n",
       "      <td>3842976.0</td>\n",
       "      <td>1537567.0</td>\n",
       "      <td>172398.0</td>\n",
       "      <td>454812.0</td>\n",
       "    </tr>\n",
       "    <tr>\n",
       "      <th>98</th>\n",
       "      <td>8083310.0</td>\n",
       "      <td>24360945.0</td>\n",
       "      <td>250666.0</td>\n",
       "      <td>4018386.0</td>\n",
       "      <td>637560.0</td>\n",
       "      <td>8744111.0</td>\n",
       "      <td>7866163.0</td>\n",
       "      <td>2766422.0</td>\n",
       "      <td>0.0</td>\n",
       "      <td>1748087.0</td>\n",
       "      <td>...</td>\n",
       "      <td>1194782.0</td>\n",
       "      <td>2108716.0</td>\n",
       "      <td>336464.0</td>\n",
       "      <td>22263.0</td>\n",
       "      <td>2891537.0</td>\n",
       "      <td>3686242.0</td>\n",
       "      <td>12767782.0</td>\n",
       "      <td>6195397.0</td>\n",
       "      <td>964434.0</td>\n",
       "      <td>1447131.0</td>\n",
       "    </tr>\n",
       "    <tr>\n",
       "      <th>99</th>\n",
       "      <td>840524.0</td>\n",
       "      <td>2876065.0</td>\n",
       "      <td>23217.0</td>\n",
       "      <td>497309.0</td>\n",
       "      <td>69811.0</td>\n",
       "      <td>917885.0</td>\n",
       "      <td>947474.0</td>\n",
       "      <td>313770.0</td>\n",
       "      <td>0.0</td>\n",
       "      <td>201832.0</td>\n",
       "      <td>...</td>\n",
       "      <td>145885.0</td>\n",
       "      <td>211169.0</td>\n",
       "      <td>31578.0</td>\n",
       "      <td>2056.0</td>\n",
       "      <td>329963.0</td>\n",
       "      <td>428508.0</td>\n",
       "      <td>1416105.0</td>\n",
       "      <td>777842.0</td>\n",
       "      <td>110313.0</td>\n",
       "      <td>167126.0</td>\n",
       "    </tr>\n",
       "  </tbody>\n",
       "</table>\n",
       "<p>100 rows × 11457 columns</p>\n",
       "</div>"
      ],
      "text/plain": [
       "        BANF1       HMGA1      LIG4      PSIP1     XRCC4      XRCC5  \\\n",
       "0   4543918.0  16054073.0  163339.0  3664115.0  340191.0  5320793.0   \n",
       "1   3472092.0   9597301.0  112444.0  1982997.0  249125.0  3775303.0   \n",
       "2   5096191.0  20248248.0  172953.0  3750117.0  498850.0  5896177.0   \n",
       "3   3104498.0  14401305.0  129482.0  2340656.0  302953.0  3612230.0   \n",
       "4   5802625.0  19882051.0  216582.0  3454254.0  509444.0  6820993.0   \n",
       "..        ...         ...       ...        ...       ...        ...   \n",
       "95  1095115.0   3723335.0   27197.0   960064.0   94932.0  1309083.0   \n",
       "96  3661369.0  21795983.0  186590.0  3379433.0  412840.0  5220792.0   \n",
       "97  2853413.0   5323010.0   59009.0   866883.0  184975.0  2624184.0   \n",
       "98  8083310.0  24360945.0  250666.0  4018386.0  637560.0  8744111.0   \n",
       "99   840524.0   2876065.0   23217.0   497309.0   69811.0   917885.0   \n",
       "\n",
       "        XRCC6      PRPS1  PRPS1L1      PRPS2  ...       STK3       STK4  \\\n",
       "0   6807409.0  1577103.0      0.0  1336048.0  ...   755661.0  1022285.0   \n",
       "1   4142645.0   819419.0      0.0   846817.0  ...   560754.0   917381.0   \n",
       "2   7247867.0  2256510.0      0.0  1441552.0  ...   890154.0  1269905.0   \n",
       "3   4355471.0  1652735.0      0.0   868127.0  ...   511321.0   747909.0   \n",
       "4   6714497.0  2207612.0      0.0  1459334.0  ...   998764.0  1674790.0   \n",
       "..        ...        ...      ...        ...  ...        ...        ...   \n",
       "95  1860808.0   326180.0      0.0   349419.0  ...   180937.0   219071.0   \n",
       "96  6076406.0  3040429.0      0.0  1059917.0  ...   713126.0  1007321.0   \n",
       "97  2008274.0   470810.0      0.0   627881.0  ...   422993.0   803561.0   \n",
       "98  7866163.0  2766422.0      0.0  1748087.0  ...  1194782.0  2108716.0   \n",
       "99   947474.0   313770.0      0.0   201832.0  ...   145885.0   211169.0   \n",
       "\n",
       "       THBS3    THBS4      TMED5     VPS26A       VPS29      VPS35        WLS  \\\n",
       "0   136108.0   7104.0  2046038.0  2557282.0   8122577.0  5103096.0   895479.0   \n",
       "1   145114.0   8374.0  1232796.0  1619654.0   5765895.0  2894347.0   439918.0   \n",
       "2   239443.0   5888.0  2401091.0  2932931.0   9609277.0  5686886.0   919086.0   \n",
       "3   158023.0   6895.0  1586064.0  1894975.0   5918321.0  3472058.0   632998.0   \n",
       "4   284143.0   9165.0  2470133.0  2911018.0   9942873.0  5284853.0   785499.0   \n",
       "..       ...      ...        ...        ...         ...        ...        ...   \n",
       "95   23031.0   1462.0   551314.0   640520.0   2071134.0  1263977.0   247195.0   \n",
       "96  217381.0  12762.0  2315906.0  2545502.0   8177620.0  4949774.0  1022370.0   \n",
       "97   78450.0   6367.0   615545.0  1038002.0   3842976.0  1537567.0   172398.0   \n",
       "98  336464.0  22263.0  2891537.0  3686242.0  12767782.0  6195397.0   964434.0   \n",
       "99   31578.0   2056.0   329963.0   428508.0   1416105.0   777842.0   110313.0   \n",
       "\n",
       "      ZFYVE16  \n",
       "0    700080.0  \n",
       "1    548281.0  \n",
       "2    946693.0  \n",
       "3    615687.0  \n",
       "4   1133948.0  \n",
       "..        ...  \n",
       "95   142283.0  \n",
       "96   843320.0  \n",
       "97   454812.0  \n",
       "98  1447131.0  \n",
       "99   167126.0  \n",
       "\n",
       "[100 rows x 11457 columns]"
      ]
     },
     "execution_count": 266,
     "metadata": {},
     "output_type": "execute_result"
    }
   ],
   "source": [
    "bulk = pd.read_csv(\"../../data/synthetic100/bulk.csv\", index_col=0)\n",
    "bulk = pd.concat([bulk, pd.DataFrame(np.zeros((len(missing), bulk.shape[1])), index=missing, columns=bulk.columns)])\n",
    "bulk = bulk.loc[genes]\n",
    "bulk = bulk.T.reset_index(drop=True)\n",
    "bulk"
   ]
  },
  {
   "cell_type": "code",
   "execution_count": 271,
   "metadata": {},
   "outputs": [],
   "source": [
    "X_train, X_val = train_test_split(bulk, test_size=0.2)\n",
    "Y_train = true_df.loc[X_train.index]\n",
    "Y_val = true_df.loc[X_val.index]"
   ]
  },
  {
   "cell_type": "code",
   "execution_count": 285,
   "metadata": {},
   "outputs": [],
   "source": [
    "class CustomDataset(torch.utils.data.Dataset):\n",
    "    def __init__(self, X, Y) -> None:\n",
    "        super().__init__()\n",
    "        self.x = torch.tensor(X.values, dtype=torch.float32)\n",
    "        self.y = torch.tensor(Y.values, dtype=torch.float32)\n",
    "\n",
    "    def __len__(self):\n",
    "        return len(self.x)\n",
    "\n",
    "    def __getitem__(self, idx):\n",
    "        # X = torch.cat((signature.T, self.bulk[idx].reshape(1, -1)), dim=0).T\n",
    "        return self.x[idx], self.y[idx].reshape(-1)\n"
   ]
  },
  {
   "cell_type": "code",
   "execution_count": 278,
   "metadata": {},
   "outputs": [
    {
     "name": "stderr",
     "output_type": "stream",
     "text": [
      "100%|██████████| 3/3 [00:00<00:00, 15.09it/s]\n"
     ]
    }
   ],
   "source": [
    "signature = get_signature(adata, \"cell_type\", len(genes))\n",
    "\n",
    "G = dgl.data.utils.load_graphs(\"../../data/reactome/graph.bin\")[0][0]\n",
    "G.ndata[\"signature\"] = signature\n",
    "G.ndata[\"bulk\"] = torch.zeros((len(genes), 1))"
   ]
  },
  {
   "cell_type": "code",
   "execution_count": 286,
   "metadata": {},
   "outputs": [],
   "source": [
    "train_dataset = CustomDataset(X_train, Y_train)\n",
    "val_dataset = CustomDataset(X_val, Y_val)\n",
    "train_loader  = torch.utils.data.DataLoader(train_dataset, batch_size=32, shuffle=True)\n",
    "val_loader  = torch.utils.data.DataLoader(val_dataset, batch_size=32, shuffle=True)"
   ]
  },
  {
   "cell_type": "code",
   "execution_count": 288,
   "metadata": {},
   "outputs": [
    {
     "data": {
      "text/plain": [
       "(torch.Size([20, 11457]), torch.Size([20, 3]))"
      ]
     },
     "execution_count": 288,
     "metadata": {},
     "output_type": "execute_result"
    }
   ],
   "source": [
    "X, y = next(iter(val_loader))\n",
    "X.shape, y.shape"
   ]
  },
  {
   "cell_type": "code",
   "execution_count": 299,
   "metadata": {},
   "outputs": [
    {
     "data": {
      "text/plain": [
       "torch.Size([11457])"
      ]
     },
     "execution_count": 299,
     "metadata": {},
     "output_type": "execute_result"
    }
   ],
   "source": [
    "X[0, :].shape"
   ]
  },
  {
   "cell_type": "code",
   "execution_count": 300,
   "metadata": {},
   "outputs": [
    {
     "data": {
      "text/plain": [
       "tensor([[1.2533e+10, 0.0000e+00, 0.0000e+00]], grad_fn=<SegmentReduceBackward>)"
      ]
     },
     "execution_count": 300,
     "metadata": {},
     "output_type": "execute_result"
    }
   ],
   "source": [
    "model(X[0, :])"
   ]
  },
  {
   "cell_type": "code",
   "execution_count": 236,
   "metadata": {},
   "outputs": [
    {
     "data": {
      "text/plain": [
       "tensor([[1.0094, 0.7759, 0.4785,  ..., 1.5392, 0.9998, 0.0000],\n",
       "        [1.9458, 1.1331, 2.2040,  ..., 2.6209, 9.9814, 0.0000],\n",
       "        [0.0491, 0.0286, 0.0330,  ..., 0.0404, 0.0556, 0.0000],\n",
       "        ...,\n",
       "        [1.1726, 0.4728, 0.6989,  ..., 0.7961, 1.5101, 0.0000],\n",
       "        [0.3004, 0.0455, 0.1233,  ..., 0.0667, 0.2427, 0.0000],\n",
       "        [0.1687, 0.1870, 0.2301,  ..., 0.2806, 0.4266, 0.0000]])"
      ]
     },
     "execution_count": 236,
     "metadata": {},
     "output_type": "execute_result"
    }
   ],
   "source": [
    "torch.cat([G.ndata[\"signature\"], G.ndata[\"bulk\"].reshape(-1, 1)], dim=1)"
   ]
  },
  {
   "cell_type": "code",
   "execution_count": 248,
   "metadata": {},
   "outputs": [],
   "source": [
    "class DeCoNNV(nn.Module):\n",
    "    def __init__(self, g, n_ct):\n",
    "        super().__init__()\n",
    "        self.g = g\n",
    "        self.in_features = g.ndata[\"signature\"].shape[1] + 1\n",
    "        self.n_ct = n_ct\n",
    "\n",
    "        self.activation = nn.ReLU()\n",
    "\n",
    "        self.gcl1 = dgl.nn.GraphConv(in_feats=self.in_features, out_feats=64)\n",
    "        self.gcl2 = dgl.nn.GraphConv(in_feats=64, out_feats=64)\n",
    "        self.gcl3 = dgl.nn.GraphConv(in_feats=64, out_feats=self.n_ct)\n",
    "\n",
    "    def forward(self, x):\n",
    "        x = torch.cat([self.g.ndata[\"signature\"], x.reshape(-1, 1)], dim=1)\n",
    "        x = self.activation(self.gcl1(self.g, x))\n",
    "        x = self.activation(self.gcl2(self.g, x))\n",
    "        x = self.activation(self.gcl3(self.g, x))\n",
    "\n",
    "        with self.g.local_scope():\n",
    "            self.g.ndata[\"h\"] = x\n",
    "            return dgl.sum_nodes(self.g, \"h\")\n"
   ]
  },
  {
   "cell_type": "code",
   "execution_count": 293,
   "metadata": {},
   "outputs": [
    {
     "name": "stderr",
     "output_type": "stream",
     "text": [
      "  0%|          | 0/100 [00:00<?, ?it/s]\n"
     ]
    },
    {
     "ename": "RuntimeError",
     "evalue": "Sizes of tensors must match except in dimension 1. Expected size 11457 but got size 366624 for tensor number 1 in the list.",
     "output_type": "error",
     "traceback": [
      "\u001b[0;31m---------------------------------------------------------------------------\u001b[0m",
      "\u001b[0;31mRuntimeError\u001b[0m                              Traceback (most recent call last)",
      "Cell \u001b[0;32mIn[293], line 13\u001b[0m\n\u001b[1;32m     10\u001b[0m \u001b[39mfor\u001b[39;00m x, y \u001b[39min\u001b[39;00m train_loader:\n\u001b[1;32m     11\u001b[0m     optimizer\u001b[39m.\u001b[39mzero_grad()\n\u001b[0;32m---> 13\u001b[0m     y_pred \u001b[39m=\u001b[39m model(x)\n\u001b[1;32m     14\u001b[0m     loss \u001b[39m=\u001b[39m loss_fn(y_pred, y)\n\u001b[1;32m     15\u001b[0m     L \u001b[39m+\u001b[39m\u001b[39m=\u001b[39m loss\u001b[39m.\u001b[39mitem()\n",
      "File \u001b[0;32m~/.pyenv/versions/3.10.9/envs/lst/lib/python3.10/site-packages/torch/nn/modules/module.py:1194\u001b[0m, in \u001b[0;36mModule._call_impl\u001b[0;34m(self, *input, **kwargs)\u001b[0m\n\u001b[1;32m   1190\u001b[0m \u001b[39m# If we don't have any hooks, we want to skip the rest of the logic in\u001b[39;00m\n\u001b[1;32m   1191\u001b[0m \u001b[39m# this function, and just call forward.\u001b[39;00m\n\u001b[1;32m   1192\u001b[0m \u001b[39mif\u001b[39;00m \u001b[39mnot\u001b[39;00m (\u001b[39mself\u001b[39m\u001b[39m.\u001b[39m_backward_hooks \u001b[39mor\u001b[39;00m \u001b[39mself\u001b[39m\u001b[39m.\u001b[39m_forward_hooks \u001b[39mor\u001b[39;00m \u001b[39mself\u001b[39m\u001b[39m.\u001b[39m_forward_pre_hooks \u001b[39mor\u001b[39;00m _global_backward_hooks\n\u001b[1;32m   1193\u001b[0m         \u001b[39mor\u001b[39;00m _global_forward_hooks \u001b[39mor\u001b[39;00m _global_forward_pre_hooks):\n\u001b[0;32m-> 1194\u001b[0m     \u001b[39mreturn\u001b[39;00m forward_call(\u001b[39m*\u001b[39;49m\u001b[39minput\u001b[39;49m, \u001b[39m*\u001b[39;49m\u001b[39m*\u001b[39;49mkwargs)\n\u001b[1;32m   1195\u001b[0m \u001b[39m# Do not call functions when jit is used\u001b[39;00m\n\u001b[1;32m   1196\u001b[0m full_backward_hooks, non_full_backward_hooks \u001b[39m=\u001b[39m [], []\n",
      "Cell \u001b[0;32mIn[248], line 15\u001b[0m, in \u001b[0;36mDeCoNNV.forward\u001b[0;34m(self, x)\u001b[0m\n\u001b[1;32m     14\u001b[0m \u001b[39mdef\u001b[39;00m \u001b[39mforward\u001b[39m(\u001b[39mself\u001b[39m, x):\n\u001b[0;32m---> 15\u001b[0m     x \u001b[39m=\u001b[39m torch\u001b[39m.\u001b[39;49mcat([\u001b[39mself\u001b[39;49m\u001b[39m.\u001b[39;49mg\u001b[39m.\u001b[39;49mndata[\u001b[39m\"\u001b[39;49m\u001b[39msignature\u001b[39;49m\u001b[39m\"\u001b[39;49m], x\u001b[39m.\u001b[39;49mreshape(\u001b[39m-\u001b[39;49m\u001b[39m1\u001b[39;49m, \u001b[39m1\u001b[39;49m)], dim\u001b[39m=\u001b[39;49m\u001b[39m1\u001b[39;49m)\n\u001b[1;32m     16\u001b[0m     x \u001b[39m=\u001b[39m \u001b[39mself\u001b[39m\u001b[39m.\u001b[39mactivation(\u001b[39mself\u001b[39m\u001b[39m.\u001b[39mgcl1(\u001b[39mself\u001b[39m\u001b[39m.\u001b[39mg, x))\n\u001b[1;32m     17\u001b[0m     x \u001b[39m=\u001b[39m \u001b[39mself\u001b[39m\u001b[39m.\u001b[39mactivation(\u001b[39mself\u001b[39m\u001b[39m.\u001b[39mgcl2(\u001b[39mself\u001b[39m\u001b[39m.\u001b[39mg, x))\n",
      "\u001b[0;31mRuntimeError\u001b[0m: Sizes of tensors must match except in dimension 1. Expected size 11457 but got size 366624 for tensor number 1 in the list."
     ]
    }
   ],
   "source": [
    "model = DeCoNNV(G, n_ct=3)\n",
    "loss_fn = torch.nn.MSELoss(reduction=\"sum\")\n",
    "optimizer = torch.optim.Adam(model.parameters(), lr=1e-4)\n",
    "\n",
    "L = []\n",
    "\n",
    "for epoch in tqdm.tqdm(range(100)):\n",
    "    model.train()\n",
    "    L = 0.0\n",
    "    for x, y in train_loader:\n",
    "        optimizer.zero_grad()\n",
    "\n",
    "        y_pred = model(x)\n",
    "        loss = loss_fn(y_pred, y)\n",
    "        L += loss.item()\n",
    "        \n",
    "        loss.backward()\n",
    "        optimizer.step()    \n",
    "\n",
    "    "
   ]
  },
  {
   "cell_type": "code",
   "execution_count": 250,
   "metadata": {},
   "outputs": [
    {
     "data": {
      "text/plain": [
       "tensor([[2.4660e+09, 1.3710e+09, 1.5161e+09]], grad_fn=<SegmentReduceBackward>)"
      ]
     },
     "execution_count": 250,
     "metadata": {},
     "output_type": "execute_result"
    }
   ],
   "source": [
    "model(X)"
   ]
  },
  {
   "cell_type": "code",
   "execution_count": null,
   "metadata": {},
   "outputs": [],
   "source": []
  }
 ],
 "metadata": {
  "kernelspec": {
   "display_name": "lst",
   "language": "python",
   "name": "python3"
  },
  "language_info": {
   "codemirror_mode": {
    "name": "ipython",
    "version": 3
   },
   "file_extension": ".py",
   "mimetype": "text/x-python",
   "name": "python",
   "nbconvert_exporter": "python",
   "pygments_lexer": "ipython3",
   "version": "3.10.9 (main, Dec 13 2022, 10:09:44) [GCC 11.3.0]"
  },
  "orig_nbformat": 4,
  "vscode": {
   "interpreter": {
    "hash": "2716be4700d3d1913b28215c7671d211a6c17f92678fa65b7b72e05e70638535"
   }
  }
 },
 "nbformat": 4,
 "nbformat_minor": 2
}
